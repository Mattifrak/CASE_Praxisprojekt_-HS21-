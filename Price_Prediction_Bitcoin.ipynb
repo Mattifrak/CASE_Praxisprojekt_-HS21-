{
  "cells": [
    {
      "cell_type": "code",
      "execution_count": 1,
      "metadata": {
        "id": "DzZ9hs6pt3Wo"
      },
      "outputs": [],
      "source": [
        "import warnings\n",
        "warnings.filterwarnings('ignore')\n",
        "import os\n",
        "import pandas as pd\n",
        "import numpy as np\n",
        "import math\n",
        "import datetime as dt\n",
        "import matplotlib.pyplot as plt\n",
        "\n",
        "from sklearn.metrics import mean_squared_error, mean_absolute_error, explained_variance_score, r2_score \n",
        "from sklearn.metrics import mean_poisson_deviance, mean_gamma_deviance, accuracy_score\n",
        "from sklearn.preprocessing import MinMaxScaler\n",
        "\n",
        "from itertools import product\n",
        "import statsmodels.api as sm\n",
        "\n",
        "import tensorflow as tf\n",
        "\n",
        "from tensorflow.keras.models import Sequential\n",
        "from tensorflow.keras.layers import Dense, Dropout\n",
        "from tensorflow.keras.layers import LSTM\n",
        "\n",
        "from itertools import cycle\n",
        "import plotly.offline as py\n",
        "import plotly.graph_objects as go\n",
        "import plotly.express as px\n",
        "from plotly.subplots import make_subplots\n",
        "\n",
        "plt.style.use('seaborn-darkgrid')"
      ]
    },
    {
      "cell_type": "code",
      "execution_count": 2,
      "metadata": {
        "colab": {
          "base_uri": "https://localhost:8080/",
          "height": 74,
          "resources": {
            "http://localhost:8080/nbextensions/google.colab/files.js": {
              "data": "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",
              "headers": [
                [
                  "content-type",
                  "application/javascript"
                ]
              ],
              "ok": true,
              "status": 200,
              "status_text": ""
            }
          }
        },
        "id": "6T7CVWm4uwXi",
        "outputId": "fac27922-795b-4ba7-efd3-4978ccc80d67"
      },
      "outputs": [
        {
          "output_type": "display_data",
          "data": {
            "text/html": [
              "\n",
              "     <input type=\"file\" id=\"files-cac64254-c4d9-4da8-9ce5-ad59a9804bfc\" name=\"files[]\" multiple disabled\n",
              "        style=\"border:none\" />\n",
              "     <output id=\"result-cac64254-c4d9-4da8-9ce5-ad59a9804bfc\">\n",
              "      Upload widget is only available when the cell has been executed in the\n",
              "      current browser session. Please rerun this cell to enable.\n",
              "      </output>\n",
              "      <script src=\"/nbextensions/google.colab/files.js\"></script> "
            ],
            "text/plain": [
              "<IPython.core.display.HTML object>"
            ]
          },
          "metadata": {}
        },
        {
          "output_type": "stream",
          "name": "stdout",
          "text": [
            "Saving Bitcoin.csv to Bitcoin.csv\n"
          ]
        }
      ],
      "source": [
        "from google.colab import files\n",
        "uploaded = files.upload()"
      ]
    },
    {
      "cell_type": "code",
      "execution_count": 3,
      "metadata": {
        "colab": {
          "base_uri": "https://localhost:8080/",
          "height": 206
        },
        "id": "zMpZ3VPP0vWF",
        "outputId": "e898b78b-5ece-45f6-9385-48e4eacd71ca"
      },
      "outputs": [
        {
          "output_type": "execute_result",
          "data": {
            "text/html": [
              "\n",
              "  <div id=\"df-12cd5534-79ca-4e29-a035-bbb20e72f5ec\">\n",
              "    <div class=\"colab-df-container\">\n",
              "      <div>\n",
              "<style scoped>\n",
              "    .dataframe tbody tr th:only-of-type {\n",
              "        vertical-align: middle;\n",
              "    }\n",
              "\n",
              "    .dataframe tbody tr th {\n",
              "        vertical-align: top;\n",
              "    }\n",
              "\n",
              "    .dataframe thead th {\n",
              "        text-align: right;\n",
              "    }\n",
              "</style>\n",
              "<table border=\"1\" class=\"dataframe\">\n",
              "  <thead>\n",
              "    <tr style=\"text-align: right;\">\n",
              "      <th></th>\n",
              "      <th>Sno</th>\n",
              "      <th>Date</th>\n",
              "      <th>Price</th>\n",
              "      <th>Open</th>\n",
              "      <th>High</th>\n",
              "      <th>Low</th>\n",
              "      <th>Vol.</th>\n",
              "      <th>Change %</th>\n",
              "      <th>Google</th>\n",
              "      <th>Fear_greed_ratio</th>\n",
              "      <th>Fear_greed</th>\n",
              "    </tr>\n",
              "  </thead>\n",
              "  <tbody>\n",
              "    <tr>\n",
              "      <th>4156</th>\n",
              "      <td>4157</td>\n",
              "      <td>2021-12-03</td>\n",
              "      <td>53638.04</td>\n",
              "      <td>56521.45</td>\n",
              "      <td>57670.68</td>\n",
              "      <td>51640.0</td>\n",
              "      <td>19567.631138</td>\n",
              "      <td>NaN</td>\n",
              "      <td>NaN</td>\n",
              "      <td>NaN</td>\n",
              "      <td>NaN</td>\n",
              "    </tr>\n",
              "    <tr>\n",
              "      <th>4157</th>\n",
              "      <td>4158</td>\n",
              "      <td>2021-12-04</td>\n",
              "      <td>49241.12</td>\n",
              "      <td>53633.02</td>\n",
              "      <td>53876.09</td>\n",
              "      <td>42333.0</td>\n",
              "      <td>39023.329785</td>\n",
              "      <td>NaN</td>\n",
              "      <td>NaN</td>\n",
              "      <td>NaN</td>\n",
              "      <td>NaN</td>\n",
              "    </tr>\n",
              "    <tr>\n",
              "      <th>4158</th>\n",
              "      <td>4159</td>\n",
              "      <td>2021-12-05</td>\n",
              "      <td>49484.22</td>\n",
              "      <td>49235.26</td>\n",
              "      <td>49783.00</td>\n",
              "      <td>47827.0</td>\n",
              "      <td>21727.138212</td>\n",
              "      <td>NaN</td>\n",
              "      <td>NaN</td>\n",
              "      <td>NaN</td>\n",
              "      <td>NaN</td>\n",
              "    </tr>\n",
              "    <tr>\n",
              "      <th>4159</th>\n",
              "      <td>4160</td>\n",
              "      <td>2021-12-06</td>\n",
              "      <td>50529.56</td>\n",
              "      <td>49484.21</td>\n",
              "      <td>51105.00</td>\n",
              "      <td>47200.0</td>\n",
              "      <td>23082.304656</td>\n",
              "      <td>NaN</td>\n",
              "      <td>NaN</td>\n",
              "      <td>NaN</td>\n",
              "      <td>NaN</td>\n",
              "    </tr>\n",
              "    <tr>\n",
              "      <th>4160</th>\n",
              "      <td>4161</td>\n",
              "      <td>2021-12-07</td>\n",
              "      <td>50625.48</td>\n",
              "      <td>50529.56</td>\n",
              "      <td>51995.00</td>\n",
              "      <td>50067.1</td>\n",
              "      <td>14107.332166</td>\n",
              "      <td>NaN</td>\n",
              "      <td>NaN</td>\n",
              "      <td>NaN</td>\n",
              "      <td>NaN</td>\n",
              "    </tr>\n",
              "  </tbody>\n",
              "</table>\n",
              "</div>\n",
              "      <button class=\"colab-df-convert\" onclick=\"convertToInteractive('df-12cd5534-79ca-4e29-a035-bbb20e72f5ec')\"\n",
              "              title=\"Convert this dataframe to an interactive table.\"\n",
              "              style=\"display:none;\">\n",
              "        \n",
              "  <svg xmlns=\"http://www.w3.org/2000/svg\" height=\"24px\"viewBox=\"0 0 24 24\"\n",
              "       width=\"24px\">\n",
              "    <path d=\"M0 0h24v24H0V0z\" fill=\"none\"/>\n",
              "    <path d=\"M18.56 5.44l.94 2.06.94-2.06 2.06-.94-2.06-.94-.94-2.06-.94 2.06-2.06.94zm-11 1L8.5 8.5l.94-2.06 2.06-.94-2.06-.94L8.5 2.5l-.94 2.06-2.06.94zm10 10l.94 2.06.94-2.06 2.06-.94-2.06-.94-.94-2.06-.94 2.06-2.06.94z\"/><path d=\"M17.41 7.96l-1.37-1.37c-.4-.4-.92-.59-1.43-.59-.52 0-1.04.2-1.43.59L10.3 9.45l-7.72 7.72c-.78.78-.78 2.05 0 2.83L4 21.41c.39.39.9.59 1.41.59.51 0 1.02-.2 1.41-.59l7.78-7.78 2.81-2.81c.8-.78.8-2.07 0-2.86zM5.41 20L4 18.59l7.72-7.72 1.47 1.35L5.41 20z\"/>\n",
              "  </svg>\n",
              "      </button>\n",
              "      \n",
              "  <style>\n",
              "    .colab-df-container {\n",
              "      display:flex;\n",
              "      flex-wrap:wrap;\n",
              "      gap: 12px;\n",
              "    }\n",
              "\n",
              "    .colab-df-convert {\n",
              "      background-color: #E8F0FE;\n",
              "      border: none;\n",
              "      border-radius: 50%;\n",
              "      cursor: pointer;\n",
              "      display: none;\n",
              "      fill: #1967D2;\n",
              "      height: 32px;\n",
              "      padding: 0 0 0 0;\n",
              "      width: 32px;\n",
              "    }\n",
              "\n",
              "    .colab-df-convert:hover {\n",
              "      background-color: #E2EBFA;\n",
              "      box-shadow: 0px 1px 2px rgba(60, 64, 67, 0.3), 0px 1px 3px 1px rgba(60, 64, 67, 0.15);\n",
              "      fill: #174EA6;\n",
              "    }\n",
              "\n",
              "    [theme=dark] .colab-df-convert {\n",
              "      background-color: #3B4455;\n",
              "      fill: #D2E3FC;\n",
              "    }\n",
              "\n",
              "    [theme=dark] .colab-df-convert:hover {\n",
              "      background-color: #434B5C;\n",
              "      box-shadow: 0px 1px 3px 1px rgba(0, 0, 0, 0.15);\n",
              "      filter: drop-shadow(0px 1px 2px rgba(0, 0, 0, 0.3));\n",
              "      fill: #FFFFFF;\n",
              "    }\n",
              "  </style>\n",
              "\n",
              "      <script>\n",
              "        const buttonEl =\n",
              "          document.querySelector('#df-12cd5534-79ca-4e29-a035-bbb20e72f5ec button.colab-df-convert');\n",
              "        buttonEl.style.display =\n",
              "          google.colab.kernel.accessAllowed ? 'block' : 'none';\n",
              "\n",
              "        async function convertToInteractive(key) {\n",
              "          const element = document.querySelector('#df-12cd5534-79ca-4e29-a035-bbb20e72f5ec');\n",
              "          const dataTable =\n",
              "            await google.colab.kernel.invokeFunction('convertToInteractive',\n",
              "                                                     [key], {});\n",
              "          if (!dataTable) return;\n",
              "\n",
              "          const docLinkHtml = 'Like what you see? Visit the ' +\n",
              "            '<a target=\"_blank\" href=https://colab.research.google.com/notebooks/data_table.ipynb>data table notebook</a>'\n",
              "            + ' to learn more about interactive tables.';\n",
              "          element.innerHTML = '';\n",
              "          dataTable['output_type'] = 'display_data';\n",
              "          await google.colab.output.renderOutput(dataTable, element);\n",
              "          const docLink = document.createElement('div');\n",
              "          docLink.innerHTML = docLinkHtml;\n",
              "          element.appendChild(docLink);\n",
              "        }\n",
              "      </script>\n",
              "    </div>\n",
              "  </div>\n",
              "  "
            ],
            "text/plain": [
              "       Sno        Date     Price  ...  Google  Fear_greed_ratio  Fear_greed\n",
              "4156  4157  2021-12-03  53638.04  ...     NaN               NaN         NaN\n",
              "4157  4158  2021-12-04  49241.12  ...     NaN               NaN         NaN\n",
              "4158  4159  2021-12-05  49484.22  ...     NaN               NaN         NaN\n",
              "4159  4160  2021-12-06  50529.56  ...     NaN               NaN         NaN\n",
              "4160  4161  2021-12-07  50625.48  ...     NaN               NaN         NaN\n",
              "\n",
              "[5 rows x 11 columns]"
            ]
          },
          "metadata": {},
          "execution_count": 3
        }
      ],
      "source": [
        "\n",
        "btc_input_df = pd.read_csv('Bitcoin.csv',sep=';')\n",
        "btc_input_df.tail()"
      ]
    },
    {
      "cell_type": "code",
      "execution_count": 4,
      "metadata": {
        "colab": {
          "base_uri": "https://localhost:8080/"
        },
        "id": "Fv8lBXfb1RWR",
        "outputId": "3d7a64f3-8295-4b20-b870-68c00bd6c9bc"
      },
      "outputs": [
        {
          "output_type": "execute_result",
          "data": {
            "text/plain": [
              "(4161, 11)"
            ]
          },
          "metadata": {},
          "execution_count": 4
        }
      ],
      "source": [
        "btc_input_df.shape"
      ]
    },
    {
      "cell_type": "code",
      "execution_count": 5,
      "metadata": {
        "colab": {
          "base_uri": "https://localhost:8080/",
          "height": 300
        },
        "id": "xq0VyN6P1dgc",
        "outputId": "a094704b-dcb1-41b6-9ece-fb2ed1bf70f7"
      },
      "outputs": [
        {
          "output_type": "execute_result",
          "data": {
            "text/html": [
              "\n",
              "  <div id=\"df-608fd110-bac6-4b95-ad1a-7a060374db6c\">\n",
              "    <div class=\"colab-df-container\">\n",
              "      <div>\n",
              "<style scoped>\n",
              "    .dataframe tbody tr th:only-of-type {\n",
              "        vertical-align: middle;\n",
              "    }\n",
              "\n",
              "    .dataframe tbody tr th {\n",
              "        vertical-align: top;\n",
              "    }\n",
              "\n",
              "    .dataframe thead th {\n",
              "        text-align: right;\n",
              "    }\n",
              "</style>\n",
              "<table border=\"1\" class=\"dataframe\">\n",
              "  <thead>\n",
              "    <tr style=\"text-align: right;\">\n",
              "      <th></th>\n",
              "      <th>Sno</th>\n",
              "      <th>Price</th>\n",
              "      <th>Open</th>\n",
              "      <th>High</th>\n",
              "      <th>Low</th>\n",
              "      <th>Vol.</th>\n",
              "      <th>Change %</th>\n",
              "      <th>Google</th>\n",
              "      <th>Fear_greed_ratio</th>\n",
              "    </tr>\n",
              "  </thead>\n",
              "  <tbody>\n",
              "    <tr>\n",
              "      <th>count</th>\n",
              "      <td>4161.000000</td>\n",
              "      <td>4161.000000</td>\n",
              "      <td>4161.000000</td>\n",
              "      <td>4161.000000</td>\n",
              "      <td>4161.000000</td>\n",
              "      <td>4.161000e+03</td>\n",
              "      <td>4056.000000</td>\n",
              "      <td>4056.000000</td>\n",
              "      <td>1301.000000</td>\n",
              "    </tr>\n",
              "    <tr>\n",
              "      <th>mean</th>\n",
              "      <td>2081.000000</td>\n",
              "      <td>6654.840036</td>\n",
              "      <td>6642.200238</td>\n",
              "      <td>6837.239253</td>\n",
              "      <td>6424.299510</td>\n",
              "      <td>2.857270e+05</td>\n",
              "      <td>0.494423</td>\n",
              "      <td>12.540680</td>\n",
              "      <td>45.845503</td>\n",
              "    </tr>\n",
              "    <tr>\n",
              "      <th>std</th>\n",
              "      <td>1201.321564</td>\n",
              "      <td>13195.135473</td>\n",
              "      <td>13176.350828</td>\n",
              "      <td>13559.295175</td>\n",
              "      <td>12737.073197</td>\n",
              "      <td>9.718767e+05</td>\n",
              "      <td>7.739525</td>\n",
              "      <td>17.520545</td>\n",
              "      <td>22.788863</td>\n",
              "    </tr>\n",
              "    <tr>\n",
              "      <th>min</th>\n",
              "      <td>1.000000</td>\n",
              "      <td>0.100000</td>\n",
              "      <td>0.000000</td>\n",
              "      <td>0.100000</td>\n",
              "      <td>0.000000</td>\n",
              "      <td>0.000000e+00</td>\n",
              "      <td>-57.210000</td>\n",
              "      <td>1.000000</td>\n",
              "      <td>5.000000</td>\n",
              "    </tr>\n",
              "    <tr>\n",
              "      <th>25%</th>\n",
              "      <td>1041.000000</td>\n",
              "      <td>104.000000</td>\n",
              "      <td>104.000000</td>\n",
              "      <td>108.000000</td>\n",
              "      <td>99.000000</td>\n",
              "      <td>2.506000e+04</td>\n",
              "      <td>-1.170000</td>\n",
              "      <td>2.000000</td>\n",
              "      <td>27.000000</td>\n",
              "    </tr>\n",
              "    <tr>\n",
              "      <th>50%</th>\n",
              "      <td>2081.000000</td>\n",
              "      <td>610.300000</td>\n",
              "      <td>609.800000</td>\n",
              "      <td>619.600000</td>\n",
              "      <td>602.000000</td>\n",
              "      <td>6.279000e+04</td>\n",
              "      <td>0.000000</td>\n",
              "      <td>4.000000</td>\n",
              "      <td>41.000000</td>\n",
              "    </tr>\n",
              "    <tr>\n",
              "      <th>75%</th>\n",
              "      <td>3121.000000</td>\n",
              "      <td>7530.800000</td>\n",
              "      <td>7530.400000</td>\n",
              "      <td>7736.600000</td>\n",
              "      <td>7366.300000</td>\n",
              "      <td>1.639200e+05</td>\n",
              "      <td>1.910000</td>\n",
              "      <td>15.000000</td>\n",
              "      <td>63.000000</td>\n",
              "    </tr>\n",
              "    <tr>\n",
              "      <th>max</th>\n",
              "      <td>4161.000000</td>\n",
              "      <td>67554.840000</td>\n",
              "      <td>67554.130000</td>\n",
              "      <td>69000.000000</td>\n",
              "      <td>66261.790000</td>\n",
              "      <td>2.026000e+07</td>\n",
              "      <td>336.840000</td>\n",
              "      <td>100.000000</td>\n",
              "      <td>95.000000</td>\n",
              "    </tr>\n",
              "  </tbody>\n",
              "</table>\n",
              "</div>\n",
              "      <button class=\"colab-df-convert\" onclick=\"convertToInteractive('df-608fd110-bac6-4b95-ad1a-7a060374db6c')\"\n",
              "              title=\"Convert this dataframe to an interactive table.\"\n",
              "              style=\"display:none;\">\n",
              "        \n",
              "  <svg xmlns=\"http://www.w3.org/2000/svg\" height=\"24px\"viewBox=\"0 0 24 24\"\n",
              "       width=\"24px\">\n",
              "    <path d=\"M0 0h24v24H0V0z\" fill=\"none\"/>\n",
              "    <path d=\"M18.56 5.44l.94 2.06.94-2.06 2.06-.94-2.06-.94-.94-2.06-.94 2.06-2.06.94zm-11 1L8.5 8.5l.94-2.06 2.06-.94-2.06-.94L8.5 2.5l-.94 2.06-2.06.94zm10 10l.94 2.06.94-2.06 2.06-.94-2.06-.94-.94-2.06-.94 2.06-2.06.94z\"/><path d=\"M17.41 7.96l-1.37-1.37c-.4-.4-.92-.59-1.43-.59-.52 0-1.04.2-1.43.59L10.3 9.45l-7.72 7.72c-.78.78-.78 2.05 0 2.83L4 21.41c.39.39.9.59 1.41.59.51 0 1.02-.2 1.41-.59l7.78-7.78 2.81-2.81c.8-.78.8-2.07 0-2.86zM5.41 20L4 18.59l7.72-7.72 1.47 1.35L5.41 20z\"/>\n",
              "  </svg>\n",
              "      </button>\n",
              "      \n",
              "  <style>\n",
              "    .colab-df-container {\n",
              "      display:flex;\n",
              "      flex-wrap:wrap;\n",
              "      gap: 12px;\n",
              "    }\n",
              "\n",
              "    .colab-df-convert {\n",
              "      background-color: #E8F0FE;\n",
              "      border: none;\n",
              "      border-radius: 50%;\n",
              "      cursor: pointer;\n",
              "      display: none;\n",
              "      fill: #1967D2;\n",
              "      height: 32px;\n",
              "      padding: 0 0 0 0;\n",
              "      width: 32px;\n",
              "    }\n",
              "\n",
              "    .colab-df-convert:hover {\n",
              "      background-color: #E2EBFA;\n",
              "      box-shadow: 0px 1px 2px rgba(60, 64, 67, 0.3), 0px 1px 3px 1px rgba(60, 64, 67, 0.15);\n",
              "      fill: #174EA6;\n",
              "    }\n",
              "\n",
              "    [theme=dark] .colab-df-convert {\n",
              "      background-color: #3B4455;\n",
              "      fill: #D2E3FC;\n",
              "    }\n",
              "\n",
              "    [theme=dark] .colab-df-convert:hover {\n",
              "      background-color: #434B5C;\n",
              "      box-shadow: 0px 1px 3px 1px rgba(0, 0, 0, 0.15);\n",
              "      filter: drop-shadow(0px 1px 2px rgba(0, 0, 0, 0.3));\n",
              "      fill: #FFFFFF;\n",
              "    }\n",
              "  </style>\n",
              "\n",
              "      <script>\n",
              "        const buttonEl =\n",
              "          document.querySelector('#df-608fd110-bac6-4b95-ad1a-7a060374db6c button.colab-df-convert');\n",
              "        buttonEl.style.display =\n",
              "          google.colab.kernel.accessAllowed ? 'block' : 'none';\n",
              "\n",
              "        async function convertToInteractive(key) {\n",
              "          const element = document.querySelector('#df-608fd110-bac6-4b95-ad1a-7a060374db6c');\n",
              "          const dataTable =\n",
              "            await google.colab.kernel.invokeFunction('convertToInteractive',\n",
              "                                                     [key], {});\n",
              "          if (!dataTable) return;\n",
              "\n",
              "          const docLinkHtml = 'Like what you see? Visit the ' +\n",
              "            '<a target=\"_blank\" href=https://colab.research.google.com/notebooks/data_table.ipynb>data table notebook</a>'\n",
              "            + ' to learn more about interactive tables.';\n",
              "          element.innerHTML = '';\n",
              "          dataTable['output_type'] = 'display_data';\n",
              "          await google.colab.output.renderOutput(dataTable, element);\n",
              "          const docLink = document.createElement('div');\n",
              "          docLink.innerHTML = docLinkHtml;\n",
              "          element.appendChild(docLink);\n",
              "        }\n",
              "      </script>\n",
              "    </div>\n",
              "  </div>\n",
              "  "
            ],
            "text/plain": [
              "               Sno         Price  ...       Google  Fear_greed_ratio\n",
              "count  4161.000000   4161.000000  ...  4056.000000       1301.000000\n",
              "mean   2081.000000   6654.840036  ...    12.540680         45.845503\n",
              "std    1201.321564  13195.135473  ...    17.520545         22.788863\n",
              "min       1.000000      0.100000  ...     1.000000          5.000000\n",
              "25%    1041.000000    104.000000  ...     2.000000         27.000000\n",
              "50%    2081.000000    610.300000  ...     4.000000         41.000000\n",
              "75%    3121.000000   7530.800000  ...    15.000000         63.000000\n",
              "max    4161.000000  67554.840000  ...   100.000000         95.000000\n",
              "\n",
              "[8 rows x 9 columns]"
            ]
          },
          "metadata": {},
          "execution_count": 5
        }
      ],
      "source": [
        "btc_input_df.describe()"
      ]
    },
    {
      "cell_type": "code",
      "execution_count": 6,
      "metadata": {
        "colab": {
          "base_uri": "https://localhost:8080/"
        },
        "id": "VPV6fxm41h9Q",
        "outputId": "3296dfcf-23be-402c-cecf-040a341ca1e3"
      },
      "outputs": [
        {
          "output_type": "stream",
          "name": "stdout",
          "text": [
            "<class 'pandas.core.frame.DataFrame'>\n",
            "RangeIndex: 4161 entries, 0 to 4160\n",
            "Data columns (total 11 columns):\n",
            " #   Column            Non-Null Count  Dtype  \n",
            "---  ------            --------------  -----  \n",
            " 0   Sno               4161 non-null   int64  \n",
            " 1   Date              4161 non-null   object \n",
            " 2   Price             4161 non-null   float64\n",
            " 3   Open              4161 non-null   float64\n",
            " 4   High              4161 non-null   float64\n",
            " 5   Low               4161 non-null   float64\n",
            " 6   Vol.              4161 non-null   float64\n",
            " 7   Change %          4056 non-null   float64\n",
            " 8   Google            4056 non-null   float64\n",
            " 9   Fear_greed_ratio  1301 non-null   float64\n",
            " 10  Fear_greed        1301 non-null   object \n",
            "dtypes: float64(8), int64(1), object(2)\n",
            "memory usage: 357.7+ KB\n"
          ]
        }
      ],
      "source": [
        "btc_input_df.info()"
      ]
    },
    {
      "cell_type": "code",
      "execution_count": 7,
      "metadata": {
        "id": "VRJnFDwO2bIt"
      },
      "outputs": [],
      "source": [
        "btc_input_df_datetype = btc_input_df.astype({'Date': 'datetime64'})"
      ]
    },
    {
      "cell_type": "code",
      "execution_count": 8,
      "metadata": {
        "colab": {
          "base_uri": "https://localhost:8080/"
        },
        "id": "V4nsHn7G2la0",
        "outputId": "cd9dad93-564a-4ef2-939e-89e07062a3f7"
      },
      "outputs": [
        {
          "output_type": "stream",
          "name": "stdout",
          "text": [
            "<class 'pandas.core.frame.DataFrame'>\n",
            "RangeIndex: 4161 entries, 0 to 4160\n",
            "Data columns (total 11 columns):\n",
            " #   Column            Non-Null Count  Dtype         \n",
            "---  ------            --------------  -----         \n",
            " 0   Sno               4161 non-null   int64         \n",
            " 1   Date              4161 non-null   datetime64[ns]\n",
            " 2   Price             4161 non-null   float64       \n",
            " 3   Open              4161 non-null   float64       \n",
            " 4   High              4161 non-null   float64       \n",
            " 5   Low               4161 non-null   float64       \n",
            " 6   Vol.              4161 non-null   float64       \n",
            " 7   Change %          4056 non-null   float64       \n",
            " 8   Google            4056 non-null   float64       \n",
            " 9   Fear_greed_ratio  1301 non-null   float64       \n",
            " 10  Fear_greed        1301 non-null   object        \n",
            "dtypes: datetime64[ns](1), float64(8), int64(1), object(1)\n",
            "memory usage: 357.7+ KB\n"
          ]
        }
      ],
      "source": [
        "btc_input_df_datetype.info()"
      ]
    },
    {
      "cell_type": "code",
      "execution_count": 9,
      "metadata": {
        "colab": {
          "base_uri": "https://localhost:8080/"
        },
        "id": "XFKxfx7y2tbJ",
        "outputId": "a9c2fe30-71f1-49ac-cb53-87e480dcc50c"
      },
      "outputs": [
        {
          "output_type": "stream",
          "name": "stdout",
          "text": [
            "Null Values: 5930\n"
          ]
        }
      ],
      "source": [
        "print('Null Values:', btc_input_df_datetype.isnull().values.sum())"
      ]
    },
    {
      "cell_type": "code",
      "execution_count": 10,
      "metadata": {
        "colab": {
          "base_uri": "https://localhost:8080/"
        },
        "id": "YskSXpV624Uo",
        "outputId": "271513b3-3a02-42ea-96dc-c551b1063ed2"
      },
      "outputs": [
        {
          "output_type": "stream",
          "name": "stdout",
          "text": [
            "If any NA values: True\n"
          ]
        }
      ],
      "source": [
        "print('If any NA values:', btc_input_df_datetype.isnull().values.any())"
      ]
    },
    {
      "cell_type": "code",
      "execution_count": 11,
      "metadata": {
        "colab": {
          "base_uri": "https://localhost:8080/",
          "height": 471
        },
        "id": "e4dmhx2R3nZS",
        "outputId": "481a016b-b902-4a6f-abff-ed7509c28cb7"
      },
      "outputs": [
        {
          "output_type": "execute_result",
          "data": {
            "text/plain": [
              "<matplotlib.axes._subplots.AxesSubplot at 0x7f15fafac590>"
            ]
          },
          "metadata": {},
          "execution_count": 11
        },
        {
          "output_type": "display_data",
          "data": {
            "image/png": "[encoded data removed]",
            "text/plain": [
              "<Figure size 1728x504 with 1 Axes>"
            ]
          },
          "metadata": {
            "needs_background": "light"
          }
        }
      ],
      "source": [
        "btc_input_df_datetype.set_index(\"Date\").Price.plot(figsize=(24,7), title=\"Bitcoin Weighted Price\")"
      ]
    },
    {
      "cell_type": "code",
      "execution_count": 12,
      "metadata": {
        "colab": {
          "base_uri": "https://localhost:8080/",
          "height": 584
        },
        "id": "_-LDzbOk35NS",
        "outputId": "a5a5eecb-7ba7-4617-af10-df676586d6bd"
      },
      "outputs": [
        {
          "output_type": "stream",
          "name": "stderr",
          "text": [
            "No handles with labels found to put in legend.\n"
          ]
        },
        {
          "output_type": "display_data",
          "data": {
            "image/png": "[encoded data removed]",
            "text/plain": [
              "<Figure size 1080x864 with 5 Axes>"
            ]
          },
          "metadata": {
            "needs_background": "light"
          }
        }
      ],
      "source": [
        "plt.figure(figsize=(15,12))\n",
        "plt.suptitle('Lag Plots', fontsize=22)\n",
        "\n",
        "plt.subplot(3,3,1)\n",
        "pd.plotting.lag_plot(btc_input_df_datetype['Price'], lag=1) #minute lag\n",
        "plt.title('1-Minute Lag')\n",
        "\n",
        "plt.subplot(3,3,2)\n",
        "pd.plotting.lag_plot(btc_input_df_datetype['Price'], lag=60) #hourley lag\n",
        "plt.title('1-Hour Lag')\n",
        "\n",
        "plt.subplot(3,3,3)\n",
        "pd.plotting.lag_plot(btc_input_df_datetype['Price'], lag=1440) #Daily lag\n",
        "plt.title('Daily Lag')\n",
        "\n",
        "plt.subplot(3,3,4)\n",
        "pd.plotting.lag_plot(btc_input_df_datetype['Price'], lag=10080) #weekly lag\n",
        "plt.title('Weekly Lag')\n",
        "\n",
        "plt.subplot(3,3,5)\n",
        "pd.plotting.lag_plot(btc_input_df_datetype['Price'], lag=43200) #month lag\n",
        "plt.title('1-Month Lag')\n",
        "\n",
        "plt.legend()\n",
        "plt.show()"
      ]
    },
    {
      "cell_type": "code",
      "execution_count": 13,
      "metadata": {
        "colab": {
          "base_uri": "https://localhost:8080/",
          "height": 206
        },
        "id": "pUlQ2_y-4QvA",
        "outputId": "a518b4ba-225e-4965-df61-174440a9c4c4"
      },
      "outputs": [
        {
          "output_type": "display_data",
          "data": {
            "text/html": [
              "\n",
              "  <div id=\"df-dfa9cd0b-a285-44ba-8bb0-7843bd2cf1c5\">\n",
              "    <div class=\"colab-df-container\">\n",
              "      <div>\n",
              "<style scoped>\n",
              "    .dataframe tbody tr th:only-of-type {\n",
              "        vertical-align: middle;\n",
              "    }\n",
              "\n",
              "    .dataframe tbody tr th {\n",
              "        vertical-align: top;\n",
              "    }\n",
              "\n",
              "    .dataframe thead th {\n",
              "        text-align: right;\n",
              "    }\n",
              "</style>\n",
              "<table border=\"1\" class=\"dataframe\">\n",
              "  <thead>\n",
              "    <tr style=\"text-align: right;\">\n",
              "      <th></th>\n",
              "      <th>Sno</th>\n",
              "      <th>Date</th>\n",
              "      <th>Price</th>\n",
              "      <th>Open</th>\n",
              "      <th>High</th>\n",
              "      <th>Low</th>\n",
              "      <th>Vol.</th>\n",
              "      <th>Change %</th>\n",
              "      <th>Google</th>\n",
              "      <th>Fear_greed_ratio</th>\n",
              "      <th>Fear_greed</th>\n",
              "      <th>date</th>\n",
              "    </tr>\n",
              "  </thead>\n",
              "  <tbody>\n",
              "    <tr>\n",
              "      <th>0</th>\n",
              "      <td>1</td>\n",
              "      <td>2010-07-18</td>\n",
              "      <td>0.1</td>\n",
              "      <td>0.0</td>\n",
              "      <td>0.1</td>\n",
              "      <td>0.1</td>\n",
              "      <td>80.0</td>\n",
              "      <td>0.0</td>\n",
              "      <td>1.0</td>\n",
              "      <td>NaN</td>\n",
              "      <td>NaN</td>\n",
              "      <td>2010-07-18</td>\n",
              "    </tr>\n",
              "    <tr>\n",
              "      <th>1</th>\n",
              "      <td>2</td>\n",
              "      <td>2010-07-19</td>\n",
              "      <td>0.1</td>\n",
              "      <td>0.1</td>\n",
              "      <td>0.1</td>\n",
              "      <td>0.1</td>\n",
              "      <td>570.0</td>\n",
              "      <td>0.0</td>\n",
              "      <td>1.0</td>\n",
              "      <td>NaN</td>\n",
              "      <td>NaN</td>\n",
              "      <td>2010-07-19</td>\n",
              "    </tr>\n",
              "    <tr>\n",
              "      <th>2</th>\n",
              "      <td>3</td>\n",
              "      <td>2010-07-20</td>\n",
              "      <td>0.1</td>\n",
              "      <td>0.1</td>\n",
              "      <td>0.1</td>\n",
              "      <td>0.1</td>\n",
              "      <td>260.0</td>\n",
              "      <td>0.0</td>\n",
              "      <td>1.0</td>\n",
              "      <td>NaN</td>\n",
              "      <td>NaN</td>\n",
              "      <td>2010-07-20</td>\n",
              "    </tr>\n",
              "    <tr>\n",
              "      <th>3</th>\n",
              "      <td>4</td>\n",
              "      <td>2010-07-21</td>\n",
              "      <td>0.1</td>\n",
              "      <td>0.1</td>\n",
              "      <td>0.1</td>\n",
              "      <td>0.1</td>\n",
              "      <td>580.0</td>\n",
              "      <td>0.0</td>\n",
              "      <td>1.0</td>\n",
              "      <td>NaN</td>\n",
              "      <td>NaN</td>\n",
              "      <td>2010-07-21</td>\n",
              "    </tr>\n",
              "    <tr>\n",
              "      <th>4</th>\n",
              "      <td>5</td>\n",
              "      <td>2010-07-22</td>\n",
              "      <td>0.1</td>\n",
              "      <td>0.1</td>\n",
              "      <td>0.1</td>\n",
              "      <td>0.1</td>\n",
              "      <td>2160.0</td>\n",
              "      <td>0.0</td>\n",
              "      <td>1.0</td>\n",
              "      <td>NaN</td>\n",
              "      <td>NaN</td>\n",
              "      <td>2010-07-22</td>\n",
              "    </tr>\n",
              "  </tbody>\n",
              "</table>\n",
              "</div>\n",
              "      <button class=\"colab-df-convert\" onclick=\"convertToInteractive('df-dfa9cd0b-a285-44ba-8bb0-7843bd2cf1c5')\"\n",
              "              title=\"Convert this dataframe to an interactive table.\"\n",
              "              style=\"display:none;\">\n",
              "        \n",
              "  <svg xmlns=\"http://www.w3.org/2000/svg\" height=\"24px\"viewBox=\"0 0 24 24\"\n",
              "       width=\"24px\">\n",
              "    <path d=\"M0 0h24v24H0V0z\" fill=\"none\"/>\n",
              "    <path d=\"M18.56 5.44l.94 2.06.94-2.06 2.06-.94-2.06-.94-.94-2.06-.94 2.06-2.06.94zm-11 1L8.5 8.5l.94-2.06 2.06-.94-2.06-.94L8.5 2.5l-.94 2.06-2.06.94zm10 10l.94 2.06.94-2.06 2.06-.94-2.06-.94-.94-2.06-.94 2.06-2.06.94z\"/><path d=\"M17.41 7.96l-1.37-1.37c-.4-.4-.92-.59-1.43-.59-.52 0-1.04.2-1.43.59L10.3 9.45l-7.72 7.72c-.78.78-.78 2.05 0 2.83L4 21.41c.39.39.9.59 1.41.59.51 0 1.02-.2 1.41-.59l7.78-7.78 2.81-2.81c.8-.78.8-2.07 0-2.86zM5.41 20L4 18.59l7.72-7.72 1.47 1.35L5.41 20z\"/>\n",
              "  </svg>\n",
              "      </button>\n",
              "      \n",
              "  <style>\n",
              "    .colab-df-container {\n",
              "      display:flex;\n",
              "      flex-wrap:wrap;\n",
              "      gap: 12px;\n",
              "    }\n",
              "\n",
              "    .colab-df-convert {\n",
              "      background-color: #E8F0FE;\n",
              "      border: none;\n",
              "      border-radius: 50%;\n",
              "      cursor: pointer;\n",
              "      display: none;\n",
              "      fill: #1967D2;\n",
              "      height: 32px;\n",
              "      padding: 0 0 0 0;\n",
              "      width: 32px;\n",
              "    }\n",
              "\n",
              "    .colab-df-convert:hover {\n",
              "      background-color: #E2EBFA;\n",
              "      box-shadow: 0px 1px 2px rgba(60, 64, 67, 0.3), 0px 1px 3px 1px rgba(60, 64, 67, 0.15);\n",
              "      fill: #174EA6;\n",
              "    }\n",
              "\n",
              "    [theme=dark] .colab-df-convert {\n",
              "      background-color: #3B4455;\n",
              "      fill: #D2E3FC;\n",
              "    }\n",
              "\n",
              "    [theme=dark] .colab-df-convert:hover {\n",
              "      background-color: #434B5C;\n",
              "      box-shadow: 0px 1px 3px 1px rgba(0, 0, 0, 0.15);\n",
              "      filter: drop-shadow(0px 1px 2px rgba(0, 0, 0, 0.3));\n",
              "      fill: #FFFFFF;\n",
              "    }\n",
              "  </style>\n",
              "\n",
              "      <script>\n",
              "        const buttonEl =\n",
              "          document.querySelector('#df-dfa9cd0b-a285-44ba-8bb0-7843bd2cf1c5 button.colab-df-convert');\n",
              "        buttonEl.style.display =\n",
              "          google.colab.kernel.accessAllowed ? 'block' : 'none';\n",
              "\n",
              "        async function convertToInteractive(key) {\n",
              "          const element = document.querySelector('#df-dfa9cd0b-a285-44ba-8bb0-7843bd2cf1c5');\n",
              "          const dataTable =\n",
              "            await google.colab.kernel.invokeFunction('convertToInteractive',\n",
              "                                                     [key], {});\n",
              "          if (!dataTable) return;\n",
              "\n",
              "          const docLinkHtml = 'Like what you see? Visit the ' +\n",
              "            '<a target=\"_blank\" href=https://colab.research.google.com/notebooks/data_table.ipynb>data table notebook</a>'\n",
              "            + ' to learn more about interactive tables.';\n",
              "          element.innerHTML = '';\n",
              "          dataTable['output_type'] = 'display_data';\n",
              "          await google.colab.output.renderOutput(dataTable, element);\n",
              "          const docLink = document.createElement('div');\n",
              "          docLink.innerHTML = docLinkHtml;\n",
              "          element.appendChild(docLink);\n",
              "        }\n",
              "      </script>\n",
              "    </div>\n",
              "  </div>\n",
              "  "
            ],
            "text/plain": [
              "   Sno       Date  Price  Open  ...  Google  Fear_greed_ratio  Fear_greed        date\n",
              "0    1 2010-07-18    0.1   0.0  ...     1.0               NaN         NaN  2010-07-18\n",
              "1    2 2010-07-19    0.1   0.1  ...     1.0               NaN         NaN  2010-07-19\n",
              "2    3 2010-07-20    0.1   0.1  ...     1.0               NaN         NaN  2010-07-20\n",
              "3    4 2010-07-21    0.1   0.1  ...     1.0               NaN         NaN  2010-07-21\n",
              "4    5 2010-07-22    0.1   0.1  ...     1.0               NaN         NaN  2010-07-22\n",
              "\n",
              "[5 rows x 12 columns]"
            ]
          },
          "metadata": {}
        }
      ],
      "source": [
        "btc_input_df_datetype['date'] = pd.to_datetime(btc_input_df_datetype['Date'], unit='s').dt.date\n",
        "\n",
        "display(btc_input_df_datetype.head())"
      ]
    },
    {
      "cell_type": "code",
      "execution_count": 14,
      "metadata": {
        "id": "EICRnkFe4rue"
      },
      "outputs": [],
      "source": [
        "group = btc_input_df_datetype.groupby('date')\n",
        "\n",
        "btc_closing_price_groupby_date = group['Price'].mean()"
      ]
    },
    {
      "cell_type": "code",
      "execution_count": 15,
      "metadata": {
        "colab": {
          "base_uri": "https://localhost:8080/"
        },
        "id": "nV8ob8vn4-az",
        "outputId": "b96444d4-3126-449c-d162-74f2bdf9bc9f"
      },
      "outputs": [
        {
          "output_type": "execute_result",
          "data": {
            "text/plain": [
              "date\n",
              "2010-07-18    0.1\n",
              "2010-07-19    0.1\n",
              "2010-07-20    0.1\n",
              "2010-07-21    0.1\n",
              "2010-07-22    0.1\n",
              "Name: Price, dtype: float64"
            ]
          },
          "metadata": {},
          "execution_count": 15
        }
      ],
      "source": [
        "btc_closing_price_groupby_date.head()"
      ]
    },
    {
      "cell_type": "code",
      "execution_count": 16,
      "metadata": {
        "colab": {
          "base_uri": "https://localhost:8080/"
        },
        "id": "GnxCyLSn5EPY",
        "outputId": "9b64ebf4-ec29-4ecb-d386-bd5c2d7119ee"
      },
      "outputs": [
        {
          "output_type": "execute_result",
          "data": {
            "text/plain": [
              "(4161,)"
            ]
          },
          "metadata": {},
          "execution_count": 16
        }
      ],
      "source": [
        "btc_closing_price_groupby_date.shape"
      ]
    },
    {
      "cell_type": "code",
      "execution_count": 17,
      "metadata": {
        "id": "onbVi6Rr5aM0"
      },
      "outputs": [],
      "source": [
        "prediction_days = 60\n",
        "\n",
        "# Set Train data to be uplo ( Total data length - prediction_days )\n",
        "df_train= btc_closing_price_groupby_date[:len(btc_closing_price_groupby_date)-prediction_days].values.reshape(-1,1)\n",
        "\n",
        "\n",
        "# Set Test data to be the last prediction_days (or 60 days in this case)\n",
        "df_test= btc_closing_price_groupby_date[len(btc_closing_price_groupby_date)-prediction_days:].values.reshape(-1,1)"
      ]
    },
    {
      "cell_type": "code",
      "execution_count": 18,
      "metadata": {
        "colab": {
          "base_uri": "https://localhost:8080/"
        },
        "id": "xJDZFioa50-2",
        "outputId": "2b9b149e-c9b6-404c-e12b-a78b45508585"
      },
      "outputs": [
        {
          "output_type": "execute_result",
          "data": {
            "text/plain": [
              "(4101, 1)"
            ]
          },
          "metadata": {},
          "execution_count": 18
        }
      ],
      "source": [
        "df_train.shape"
      ]
    },
    {
      "cell_type": "code",
      "execution_count": 19,
      "metadata": {
        "colab": {
          "base_uri": "https://localhost:8080/"
        },
        "id": "a0J_jy_254lg",
        "outputId": "5dad7d05-9a53-4580-e919-6588970e44ea"
      },
      "outputs": [
        {
          "output_type": "execute_result",
          "data": {
            "text/plain": [
              "(60, 1)"
            ]
          },
          "metadata": {},
          "execution_count": 19
        }
      ],
      "source": [
        "df_test.shape"
      ]
    },
    {
      "cell_type": "code",
      "execution_count": 20,
      "metadata": {
        "colab": {
          "base_uri": "https://localhost:8080/",
          "height": 442
        },
        "id": "38ngNq2_6HPv",
        "outputId": "a185d427-8925-4aab-9733-d87e23ff035e"
      },
      "outputs": [
        {
          "output_type": "execute_result",
          "data": {
            "text/plain": [
              "<matplotlib.legend.Legend at 0x7f15f94c3d90>"
            ]
          },
          "metadata": {},
          "execution_count": 20
        },
        {
          "output_type": "display_data",
          "data": {
            "image/png": "[encoded data removed]",
            "text/plain": [
              "<Figure size 936x504 with 1 Axes>"
            ]
          },
          "metadata": {
            "needs_background": "light"
          }
        }
      ],
      "source": [
        "chosen_col = 'Price'\n",
        "\n",
        "fig, ax = plt.subplots(1, figsize=(13, 7))\n",
        "ax.plot(df_train, label='Train', linewidth=2)\n",
        "ax.plot(df_test, label='Test', linewidth=2)\n",
        "ax.set_ylabel('Price USD', fontsize=14)\n",
        "ax.set_title('', fontsize=16)\n",
        "ax.legend(loc='best', fontsize=16)"
      ]
    },
    {
      "cell_type": "code",
      "execution_count": 21,
      "metadata": {
        "id": "H8ZUGeVx6Z-t"
      },
      "outputs": [],
      "source": [
        "scaler_train = MinMaxScaler(feature_range=(0, 1))\n",
        "scaled_train = scaler_train.fit_transform(df_train)\n",
        "\n",
        "scaler_test = MinMaxScaler(feature_range=(0, 1))\n",
        "scaled_test = scaler_test.fit_transform(df_test)"
      ]
    },
    {
      "cell_type": "code",
      "execution_count": 22,
      "metadata": {
        "colab": {
          "base_uri": "https://localhost:8080/"
        },
        "id": "BNnw0D4c6fEg",
        "outputId": "16809dc0-8071-4640-8bae-3ae763be15b8"
      },
      "outputs": [
        {
          "output_type": "execute_result",
          "data": {
            "text/plain": [
              "array([[0.        ],\n",
              "       [0.        ],\n",
              "       [0.        ],\n",
              "       ...,\n",
              "       [0.87092671],\n",
              "       [0.84666419],\n",
              "       [0.84927669]])"
            ]
          },
          "metadata": {},
          "execution_count": 22
        }
      ],
      "source": [
        "scaled_train"
      ]
    },
    {
      "cell_type": "code",
      "execution_count": 23,
      "metadata": {
        "colab": {
          "base_uri": "https://localhost:8080/"
        },
        "id": "v31xiFMC6zpC",
        "outputId": "27db5ff6-58a4-4c72-e4a1-5a10953235ef"
      },
      "outputs": [
        {
          "output_type": "execute_result",
          "data": {
            "text/plain": [
              "array([[0.31239803],\n",
              "       [0.29755888],\n",
              "       [0.45028099],\n",
              "       [0.36933949],\n",
              "       [0.44372197],\n",
              "       [0.44329552],\n",
              "       [0.68005135],\n",
              "       [0.63538702],\n",
              "       [0.67086261],\n",
              "       [0.69899998],\n",
              "       [0.82244459],\n",
              "       [0.9165489 ],\n",
              "       [0.70782452],\n",
              "       [0.6250243 ],\n",
              "       [0.65846207],\n",
              "       [0.63413441],\n",
              "       [0.75584971],\n",
              "       [0.60591185],\n",
              "       [0.50313918],\n",
              "       [0.61978287],\n",
              "       [0.71179422],\n",
              "       [0.6908094 ],\n",
              "       [0.66084662],\n",
              "       [0.63932505],\n",
              "       [0.76584058],\n",
              "       [0.74776124],\n",
              "       [0.66635178],\n",
              "       [0.64241618],\n",
              "       [0.67152878],\n",
              "       [0.7681678 ],\n",
              "       [1.        ],\n",
              "       [0.96668181],\n",
              "       [0.85570163],\n",
              "       [0.84998952],\n",
              "       [0.81396789],\n",
              "       [0.82773407],\n",
              "       [0.88807189],\n",
              "       [0.78539314],\n",
              "       [0.59337262],\n",
              "       [0.6066703 ],\n",
              "       [0.41809529],\n",
              "       [0.48493916],\n",
              "       [0.57441306],\n",
              "       [0.51491942],\n",
              "       [0.38439432],\n",
              "       [0.45461708],\n",
              "       [0.43254675],\n",
              "       [0.53217751],\n",
              "       [0.24662111],\n",
              "       [0.30130034],\n",
              "       [0.44098359],\n",
              "       [0.4694262 ],\n",
              "       [0.423008  ],\n",
              "       [0.43603266],\n",
              "       [0.39753474],\n",
              "       [0.24008885],\n",
              "       [0.        ],\n",
              "       [0.0132742 ],\n",
              "       [0.07035381],\n",
              "       [0.07559141]])"
            ]
          },
          "metadata": {},
          "execution_count": 23
        }
      ],
      "source": [
        "scaled_test\n"
      ]
    },
    {
      "cell_type": "code",
      "execution_count": 24,
      "metadata": {
        "colab": {
          "base_uri": "https://localhost:8080/"
        },
        "id": "wWbTfpUH7n2c",
        "outputId": "1fc3332b-e1a1-44e6-977f-33a18360fe31"
      },
      "outputs": [
        {
          "output_type": "stream",
          "name": "stdout",
          "text": [
            "trainX:  (4096, 5)\n",
            "trainY:  (4096,)\n",
            "testX:  (55, 5)\n",
            "testY (55,)\n"
          ]
        }
      ],
      "source": [
        "def dataset_generator_lstm(dataset, look_back=5):\n",
        "    # A “lookback period” defines the window-size of how many\n",
        "    # previous timesteps are used in order to predict\n",
        "    # the subsequent timestep. \n",
        "    dataX, dataY = [], []\n",
        "    \n",
        "    for i in range(len(dataset) - look_back):\n",
        "        window_size_x = dataset[i:(i + look_back), 0]\n",
        "        dataX.append(window_size_x)\n",
        "        dataY.append(dataset[i + look_back, 0]) # this is the label or actual y-value\n",
        "    return np.array(dataX), np.array(dataY)\n",
        "\n",
        "trainX, trainY = dataset_generator_lstm(scaled_train)\n",
        "\n",
        "testX, testY = dataset_generator_lstm(scaled_test)\n",
        "\n",
        "\n",
        "print(\"trainX: \", trainX.shape)\n",
        "print(\"trainY: \", trainY.shape)\n",
        "print(\"testX: \", testX.shape)\n",
        "print(\"testY\", testY.shape)"
      ]
    },
    {
      "cell_type": "code",
      "execution_count": 25,
      "metadata": {
        "colab": {
          "base_uri": "https://localhost:8080/"
        },
        "id": "ASK6rWqB8ogd",
        "outputId": "d1e61766-2e03-4387-c671-c5a0eec962e0"
      },
      "outputs": [
        {
          "output_type": "stream",
          "name": "stdout",
          "text": [
            "trainX:  [[0.         0.         0.         0.         0.        ]\n",
            " [0.         0.         0.         0.         0.        ]\n",
            " [0.         0.         0.         0.         0.        ]\n",
            " ...\n",
            " [0.75802728 0.75003132 0.75910108 0.77502077 0.8104067 ]\n",
            " [0.75003132 0.75910108 0.77502077 0.8104067  0.87092671]\n",
            " [0.75910108 0.77502077 0.8104067  0.87092671 0.84666419]]\n"
          ]
        }
      ],
      "source": [
        "print(\"trainX: \", trainX)"
      ]
    },
    {
      "cell_type": "code",
      "execution_count": 26,
      "metadata": {
        "colab": {
          "base_uri": "https://localhost:8080/"
        },
        "id": "Tu6rFjjn9Lr3",
        "outputId": "9e67472c-6417-49de-8742-65c0b4dc7642"
      },
      "outputs": [
        {
          "output_type": "stream",
          "name": "stdout",
          "text": [
            "trainY:  [0.         0.         0.         ... 0.87092671 0.84666419 0.84927669]\n"
          ]
        }
      ],
      "source": [
        "print(\"trainY: \", trainY)"
      ]
    },
    {
      "cell_type": "code",
      "execution_count": 27,
      "metadata": {
        "colab": {
          "base_uri": "https://localhost:8080/"
        },
        "id": "OnVGI8tG9RaR",
        "outputId": "2789d570-e38c-4a7f-ac6c-bf98eb436194"
      },
      "outputs": [
        {
          "output_type": "stream",
          "name": "stdout",
          "text": [
            "trainX:  (4096, 5)\n",
            "trainY:  (4096,)\n",
            "testX:  (55, 5)\n",
            "testY (55,)\n"
          ]
        }
      ],
      "source": [
        "print(\"trainX: \", trainX.shape)\n",
        "print(\"trainY: \", trainY.shape)\n",
        "print(\"testX: \", testX.shape)\n",
        "print(\"testY\", testY.shape)"
      ]
    },
    {
      "cell_type": "code",
      "execution_count": 28,
      "metadata": {
        "colab": {
          "base_uri": "https://localhost:8080/"
        },
        "id": "xy9KNCqP9VVf",
        "outputId": "209dbe60-411e-4129-b1dd-a637a35dc9ad"
      },
      "outputs": [
        {
          "output_type": "stream",
          "name": "stdout",
          "text": [
            "testX:  [[0.31239803 0.29755888 0.45028099 0.36933949 0.44372197]\n",
            " [0.29755888 0.45028099 0.36933949 0.44372197 0.44329552]\n",
            " [0.45028099 0.36933949 0.44372197 0.44329552 0.68005135]\n",
            " [0.36933949 0.44372197 0.44329552 0.68005135 0.63538702]\n",
            " [0.44372197 0.44329552 0.68005135 0.63538702 0.67086261]\n",
            " [0.44329552 0.68005135 0.63538702 0.67086261 0.69899998]\n",
            " [0.68005135 0.63538702 0.67086261 0.69899998 0.82244459]\n",
            " [0.63538702 0.67086261 0.69899998 0.82244459 0.9165489 ]\n",
            " [0.67086261 0.69899998 0.82244459 0.9165489  0.70782452]\n",
            " [0.69899998 0.82244459 0.9165489  0.70782452 0.6250243 ]\n",
            " [0.82244459 0.9165489  0.70782452 0.6250243  0.65846207]\n",
            " [0.9165489  0.70782452 0.6250243  0.65846207 0.63413441]\n",
            " [0.70782452 0.6250243  0.65846207 0.63413441 0.75584971]\n",
            " [0.6250243  0.65846207 0.63413441 0.75584971 0.60591185]\n",
            " [0.65846207 0.63413441 0.75584971 0.60591185 0.50313918]\n",
            " [0.63413441 0.75584971 0.60591185 0.50313918 0.61978287]\n",
            " [0.75584971 0.60591185 0.50313918 0.61978287 0.71179422]\n",
            " [0.60591185 0.50313918 0.61978287 0.71179422 0.6908094 ]\n",
            " [0.50313918 0.61978287 0.71179422 0.6908094  0.66084662]\n",
            " [0.61978287 0.71179422 0.6908094  0.66084662 0.63932505]\n",
            " [0.71179422 0.6908094  0.66084662 0.63932505 0.76584058]\n",
            " [0.6908094  0.66084662 0.63932505 0.76584058 0.74776124]\n",
            " [0.66084662 0.63932505 0.76584058 0.74776124 0.66635178]\n",
            " [0.63932505 0.76584058 0.74776124 0.66635178 0.64241618]\n",
            " [0.76584058 0.74776124 0.66635178 0.64241618 0.67152878]\n",
            " [0.74776124 0.66635178 0.64241618 0.67152878 0.7681678 ]\n",
            " [0.66635178 0.64241618 0.67152878 0.7681678  1.        ]\n",
            " [0.64241618 0.67152878 0.7681678  1.         0.96668181]\n",
            " [0.67152878 0.7681678  1.         0.96668181 0.85570163]\n",
            " [0.7681678  1.         0.96668181 0.85570163 0.84998952]\n",
            " [1.         0.96668181 0.85570163 0.84998952 0.81396789]\n",
            " [0.96668181 0.85570163 0.84998952 0.81396789 0.82773407]\n",
            " [0.85570163 0.84998952 0.81396789 0.82773407 0.88807189]\n",
            " [0.84998952 0.81396789 0.82773407 0.88807189 0.78539314]\n",
            " [0.81396789 0.82773407 0.88807189 0.78539314 0.59337262]\n",
            " [0.82773407 0.88807189 0.78539314 0.59337262 0.6066703 ]\n",
            " [0.88807189 0.78539314 0.59337262 0.6066703  0.41809529]\n",
            " [0.78539314 0.59337262 0.6066703  0.41809529 0.48493916]\n",
            " [0.59337262 0.6066703  0.41809529 0.48493916 0.57441306]\n",
            " [0.6066703  0.41809529 0.48493916 0.57441306 0.51491942]\n",
            " [0.41809529 0.48493916 0.57441306 0.51491942 0.38439432]\n",
            " [0.48493916 0.57441306 0.51491942 0.38439432 0.45461708]\n",
            " [0.57441306 0.51491942 0.38439432 0.45461708 0.43254675]\n",
            " [0.51491942 0.38439432 0.45461708 0.43254675 0.53217751]\n",
            " [0.38439432 0.45461708 0.43254675 0.53217751 0.24662111]\n",
            " [0.45461708 0.43254675 0.53217751 0.24662111 0.30130034]\n",
            " [0.43254675 0.53217751 0.24662111 0.30130034 0.44098359]\n",
            " [0.53217751 0.24662111 0.30130034 0.44098359 0.4694262 ]\n",
            " [0.24662111 0.30130034 0.44098359 0.4694262  0.423008  ]\n",
            " [0.30130034 0.44098359 0.4694262  0.423008   0.43603266]\n",
            " [0.44098359 0.4694262  0.423008   0.43603266 0.39753474]\n",
            " [0.4694262  0.423008   0.43603266 0.39753474 0.24008885]\n",
            " [0.423008   0.43603266 0.39753474 0.24008885 0.        ]\n",
            " [0.43603266 0.39753474 0.24008885 0.         0.0132742 ]\n",
            " [0.39753474 0.24008885 0.         0.0132742  0.07035381]]\n",
            "testY (55,)\n"
          ]
        }
      ],
      "source": [
        "print(\"testX: \", testX)\n",
        "print(\"testY\", testY.shape)"
      ]
    },
    {
      "cell_type": "code",
      "execution_count": 29,
      "metadata": {
        "colab": {
          "base_uri": "https://localhost:8080/"
        },
        "id": "D5INVrMU9c5v",
        "outputId": "8659eb54-b504-431d-a1d2-73f4e715d1d1"
      },
      "outputs": [
        {
          "output_type": "stream",
          "name": "stdout",
          "text": [
            "testY [0.44329552 0.68005135 0.63538702 0.67086261 0.69899998 0.82244459\n",
            " 0.9165489  0.70782452 0.6250243  0.65846207 0.63413441 0.75584971\n",
            " 0.60591185 0.50313918 0.61978287 0.71179422 0.6908094  0.66084662\n",
            " 0.63932505 0.76584058 0.74776124 0.66635178 0.64241618 0.67152878\n",
            " 0.7681678  1.         0.96668181 0.85570163 0.84998952 0.81396789\n",
            " 0.82773407 0.88807189 0.78539314 0.59337262 0.6066703  0.41809529\n",
            " 0.48493916 0.57441306 0.51491942 0.38439432 0.45461708 0.43254675\n",
            " 0.53217751 0.24662111 0.30130034 0.44098359 0.4694262  0.423008\n",
            " 0.43603266 0.39753474 0.24008885 0.         0.0132742  0.07035381\n",
            " 0.07559141]\n"
          ]
        }
      ],
      "source": [
        "print(\"testY\", testY)"
      ]
    },
    {
      "cell_type": "code",
      "execution_count": 30,
      "metadata": {
        "colab": {
          "base_uri": "https://localhost:8080/"
        },
        "id": "cu3OK31T_FKz",
        "outputId": "46c39db1-462d-415c-cb26-fea9c2750b55"
      },
      "outputs": [
        {
          "output_type": "stream",
          "name": "stdout",
          "text": [
            "(1, 10, 1)\n"
          ]
        }
      ],
      "source": [
        "from numpy import array\n",
        "data = array([0.1, 0.2, 0.3, 0.4, 0.5, 0.6, 0.7, 0.8, 0.9, 1.0])\n",
        "data = data.reshape((1, 10, 1))\n",
        "print(data.shape)"
      ]
    },
    {
      "cell_type": "code",
      "execution_count": null,
      "metadata": {
        "id": "mNCwlT16ZhGG"
      },
      "outputs": [],
      "source": [
        "model = Sequential()\n",
        "model.add(LSTM(32, input_shape=(10, 1)))\n",
        "model.add(Dense(1))"
      ]
    },
    {
      "cell_type": "code",
      "execution_count": null,
      "metadata": {
        "colab": {
          "base_uri": "https://localhost:8080/"
        },
        "id": "WQGxLQ_1ZixI",
        "outputId": "6299a06a-2178-4536-e625-83e5c664fde0"
      },
      "outputs": [
        {
          "name": "stdout",
          "output_type": "stream",
          "text": [
            "(2028, 5)\n"
          ]
        }
      ],
      "source": [
        "print(trainX.shape)"
      ]
    },
    {
      "cell_type": "code",
      "execution_count": null,
      "metadata": {
        "colab": {
          "base_uri": "https://localhost:8080/"
        },
        "id": "KTy-ZKg8Zmqq",
        "outputId": "23b18b87-c26f-45d4-fe5e-8c3a7abc0d6e"
      },
      "outputs": [
        {
          "name": "stdout",
          "output_type": "stream",
          "text": [
            "(2028,)\n"
          ]
        }
      ],
      "source": [
        "print(trainY.shape)"
      ]
    },
    {
      "cell_type": "code",
      "execution_count": null,
      "metadata": {
        "colab": {
          "base_uri": "https://localhost:8080/"
        },
        "id": "wRHRGIlzZ0IF",
        "outputId": "05bc3280-8a1a-4066-e372-1ffb30a2f373"
      },
      "outputs": [
        {
          "data": {
            "text/plain": [
              "2028"
            ]
          },
          "execution_count": 34,
          "metadata": {},
          "output_type": "execute_result"
        }
      ],
      "source": [
        "trainX.shape[0]"
      ]
    },
    {
      "cell_type": "code",
      "execution_count": null,
      "metadata": {
        "colab": {
          "base_uri": "https://localhost:8080/"
        },
        "id": "xlTRazzWZ7Fo",
        "outputId": "7a80aba0-ae89-42fe-e4be-9c9df24e5e86"
      },
      "outputs": [
        {
          "name": "stdout",
          "output_type": "stream",
          "text": [
            "Shape of trainX:  (2028, 5, 1)\n",
            "Shape of testX:  (55, 5, 1)\n"
          ]
        }
      ],
      "source": [
        "trainX = np.reshape(trainX, (trainX.shape[0], trainX.shape[1], 1))\n",
        "\n",
        "testX = np.reshape(testX, (testX.shape[0], testX.shape[1], 1 ))\n",
        "\n",
        "print(\"Shape of trainX: \", trainX.shape)\n",
        "print(\"Shape of testX: \", testX.shape)"
      ]
    },
    {
      "cell_type": "code",
      "execution_count": null,
      "metadata": {
        "colab": {
          "base_uri": "https://localhost:8080/"
        },
        "id": "Ld8M5WV5ac1A",
        "outputId": "1a28f6e3-96e9-49d2-fe87-7f7dd04c245d"
      },
      "outputs": [
        {
          "data": {
            "text/plain": [
              "array([[[0.00121363],\n",
              "        [0.00126169],\n",
              "        [0.0014948 ],\n",
              "        [0.0020115 ],\n",
              "        [0.00139387]],\n",
              "\n",
              "       [[0.00126169],\n",
              "        [0.0014948 ],\n",
              "        [0.0020115 ],\n",
              "        [0.00139387],\n",
              "        [0.00152845]],\n",
              "\n",
              "       [[0.0014948 ],\n",
              "        [0.0020115 ],\n",
              "        [0.00139387],\n",
              "        [0.00152845],\n",
              "        [0.00148519]],\n",
              "\n",
              "       ...,\n",
              "\n",
              "       [[0.70109443],\n",
              "        [0.73394648],\n",
              "        [0.70139723],\n",
              "        [0.67264989],\n",
              "        [0.68334182]],\n",
              "\n",
              "       [[0.73394648],\n",
              "        [0.70139723],\n",
              "        [0.67264989],\n",
              "        [0.68334182],\n",
              "        [0.71946706]],\n",
              "\n",
              "       [[0.70139723],\n",
              "        [0.67264989],\n",
              "        [0.68334182],\n",
              "        [0.71946706],\n",
              "        [0.79413518]]])"
            ]
          },
          "execution_count": 36,
          "metadata": {},
          "output_type": "execute_result"
        }
      ],
      "source": [
        "trainX"
      ]
    },
    {
      "cell_type": "code",
      "execution_count": null,
      "metadata": {
        "colab": {
          "base_uri": "https://localhost:8080/"
        },
        "id": "_57qOh6zbgs6",
        "outputId": "3f2adfa1-1f78-4d7f-a269-f51a1bb9d3e9"
      },
      "outputs": [
        {
          "name": "stdout",
          "output_type": "stream",
          "text": [
            "Model: \"sequential_1\"\n",
            "_________________________________________________________________\n",
            " Layer (type)                Output Shape              Param #   \n",
            "=================================================================\n",
            " lstm_1 (LSTM)               (None, 5, 128)            66560     \n",
            "                                                                 \n",
            " dropout (Dropout)           (None, 5, 128)            0         \n",
            "                                                                 \n",
            " lstm_2 (LSTM)               (None, 64)                49408     \n",
            "                                                                 \n",
            " dropout_1 (Dropout)         (None, 64)                0         \n",
            "                                                                 \n",
            " dense_1 (Dense)             (None, 1)                 65        \n",
            "                                                                 \n",
            "=================================================================\n",
            "Total params: 116,033\n",
            "Trainable params: 116,033\n",
            "Non-trainable params: 0\n",
            "_________________________________________________________________\n"
          ]
        }
      ],
      "source": [
        "regressor = Sequential()\n",
        "\n",
        "# Adding the first LSTM layer and some Dropout regularisation\n",
        "# You must set return_sequences=True when stacking LSTM layers so that the second LSTM layer\n",
        "# has a compatible n-dimensional sequence input.\n",
        "# This hyper parameter should be set to False (which is the default value) for the last layer\n",
        "# and true for the other previous layers.\n",
        "\n",
        "regressor.add(LSTM(units = 128, activation = 'relu',return_sequences=True, input_shape = (trainX.shape[1], trainX.shape[2])))\n",
        "regressor.add(Dropout(0.2))\n",
        "\n",
        "# Adding a second LSTM layer and some Dropout regularisation\n",
        "regressor.add(LSTM(units = 64, input_shape = (trainX.shape[1], trainX.shape[2])))\n",
        "# regressor.add(LSTM(units = 64, return_sequences = True, input_shape = (trainX.shape[1], trainX.shape[2])))\n",
        "regressor.add(Dropout(0.2))\n",
        "# Note - If I plan to add 3-rd or 4-th layers of LSTM then \n",
        "# I must set return_sequences=True in the 2-nd layer above\n",
        "# so that the 3-rd LSTM layer has a compatible n-dimensional sequence input.\n",
        "\n",
        "\n",
        "# Adding a third LSTM layer and some Dropout regularisation\n",
        "# regressor.add(LSTM(units = 64, return_sequences = True, input_shape = (trainX.shape[1], trainX.shape[2])))\n",
        "# regressor.add(Dropout(0.2))\n",
        "\n",
        "\n",
        "# Adding a fourth LSTM layer and some Dropout regularisation\n",
        "# regressor.add(LSTM(units = 64, input_shape = (trainX.shape[1], trainX.shape[2])))\n",
        "# regressor.add(Dropout(0.2))\n",
        "\n",
        "\n",
        "# Adding the output layer\n",
        "regressor.add(Dense(units = 1))\n",
        "\n",
        "regressor.summary()"
      ]
    },
    {
      "cell_type": "code",
      "execution_count": null,
      "metadata": {
        "colab": {
          "base_uri": "https://localhost:8080/"
        },
        "id": "Re7PP98Ub-jc",
        "outputId": "264554e9-ed92-481c-aca4-9db311c22b05"
      },
      "outputs": [
        {
          "name": "stdout",
          "output_type": "stream",
          "text": [
            "Epoch 1/600\n",
            "62/64 [============================>.] - ETA: 0s - loss: 0.0225\n",
            "Epoch 00001: val_loss improved from inf to 0.07111, saving model to my_best_model.hdf5\n",
            "64/64 [==============================] - 6s 33ms/step - loss: 0.0266 - val_loss: 0.0711\n",
            "Epoch 2/600\n",
            "63/64 [============================>.] - ETA: 0s - loss: 0.0112\n",
            "Epoch 00002: val_loss improved from 0.07111 to 0.02605, saving model to my_best_model.hdf5\n",
            "64/64 [==============================] - 1s 16ms/step - loss: 0.0112 - val_loss: 0.0261\n",
            "Epoch 3/600\n",
            "61/64 [===========================>..] - ETA: 0s - loss: 0.0018\n",
            "Epoch 00003: val_loss improved from 0.02605 to 0.02058, saving model to my_best_model.hdf5\n",
            "64/64 [==============================] - 1s 16ms/step - loss: 0.0021 - val_loss: 0.0206\n",
            "Epoch 4/600\n",
            "63/64 [============================>.] - ETA: 0s - loss: 0.0012    \n",
            "Epoch 00004: val_loss improved from 0.02058 to 0.01720, saving model to my_best_model.hdf5\n",
            "64/64 [==============================] - 1s 16ms/step - loss: 0.0012 - val_loss: 0.0172\n",
            "Epoch 5/600\n",
            "61/64 [===========================>..] - ETA: 0s - loss: 8.7450e-04\n",
            "Epoch 00005: val_loss improved from 0.01720 to 0.01715, saving model to my_best_model.hdf5\n",
            "64/64 [==============================] - 1s 16ms/step - loss: 0.0011 - val_loss: 0.0172\n",
            "Epoch 6/600\n",
            "61/64 [===========================>..] - ETA: 0s - loss: 8.9383e-04\n",
            "Epoch 00006: val_loss improved from 0.01715 to 0.01612, saving model to my_best_model.hdf5\n",
            "64/64 [==============================] - 1s 15ms/step - loss: 0.0012 - val_loss: 0.0161\n",
            "Epoch 7/600\n",
            "64/64 [==============================] - ETA: 0s - loss: 0.0030\n",
            "Epoch 00007: val_loss did not improve from 0.01612\n",
            "64/64 [==============================] - 1s 15ms/step - loss: 0.0030 - val_loss: 0.0195\n",
            "Epoch 8/600\n",
            "62/64 [============================>.] - ETA: 0s - loss: 0.0026\n",
            "Epoch 00008: val_loss improved from 0.01612 to 0.01587, saving model to my_best_model.hdf5\n",
            "64/64 [==============================] - 1s 16ms/step - loss: 0.0028 - val_loss: 0.0159\n",
            "Epoch 9/600\n",
            "63/64 [============================>.] - ETA: 0s - loss: 0.0017\n",
            "Epoch 00009: val_loss improved from 0.01587 to 0.01577, saving model to my_best_model.hdf5\n",
            "64/64 [==============================] - 1s 16ms/step - loss: 0.0018 - val_loss: 0.0158\n",
            "Epoch 10/600\n",
            "64/64 [==============================] - ETA: 0s - loss: 0.0011    \n",
            "Epoch 00010: val_loss improved from 0.01577 to 0.01508, saving model to my_best_model.hdf5\n",
            "64/64 [==============================] - 1s 16ms/step - loss: 0.0011 - val_loss: 0.0151\n",
            "Epoch 11/600\n",
            "64/64 [==============================] - ETA: 0s - loss: 0.0011    \n",
            "Epoch 00011: val_loss did not improve from 0.01508\n",
            "64/64 [==============================] - 1s 15ms/step - loss: 0.0011 - val_loss: 0.0155\n",
            "Epoch 12/600\n",
            "62/64 [============================>.] - ETA: 0s - loss: 0.0010    \n",
            "Epoch 00012: val_loss did not improve from 0.01508\n",
            "64/64 [==============================] - 1s 22ms/step - loss: 0.0012 - val_loss: 0.0165\n",
            "Epoch 13/600\n",
            "63/64 [============================>.] - ETA: 0s - loss: 8.1920e-04\n",
            "Epoch 00013: val_loss did not improve from 0.01508\n",
            "64/64 [==============================] - 1s 20ms/step - loss: 8.7890e-04 - val_loss: 0.0169\n",
            "Epoch 14/600\n",
            "62/64 [============================>.] - ETA: 0s - loss: 8.5450e-04\n",
            "Epoch 00014: val_loss did not improve from 0.01508\n",
            "64/64 [==============================] - 1s 19ms/step - loss: 9.7517e-04 - val_loss: 0.0196\n",
            "Epoch 15/600\n",
            "62/64 [============================>.] - ETA: 0s - loss: 6.5584e-04\n",
            "Epoch 00015: val_loss did not improve from 0.01508\n",
            "64/64 [==============================] - 1s 16ms/step - loss: 7.7754e-04 - val_loss: 0.0173\n",
            "Epoch 16/600\n",
            "63/64 [============================>.] - ETA: 0s - loss: 8.8227e-04\n",
            "Epoch 00016: val_loss did not improve from 0.01508\n",
            "64/64 [==============================] - 1s 16ms/step - loss: 9.1748e-04 - val_loss: 0.0168\n",
            "Epoch 17/600\n",
            "64/64 [==============================] - ETA: 0s - loss: 9.2199e-04\n",
            "Epoch 00017: val_loss did not improve from 0.01508\n",
            "64/64 [==============================] - 1s 15ms/step - loss: 9.2199e-04 - val_loss: 0.0167\n",
            "Epoch 18/600\n",
            "62/64 [============================>.] - ETA: 0s - loss: 7.7338e-04\n",
            "Epoch 00018: val_loss improved from 0.01508 to 0.01446, saving model to my_best_model.hdf5\n",
            "64/64 [==============================] - 1s 16ms/step - loss: 9.4166e-04 - val_loss: 0.0145\n",
            "Epoch 19/600\n",
            "62/64 [============================>.] - ETA: 0s - loss: 0.0011    \n",
            "Epoch 00019: val_loss improved from 0.01446 to 0.01401, saving model to my_best_model.hdf5\n",
            "64/64 [==============================] - 1s 17ms/step - loss: 0.0012 - val_loss: 0.0140\n",
            "Epoch 20/600\n",
            "64/64 [==============================] - ETA: 0s - loss: 0.0012    \n",
            "Epoch 00020: val_loss improved from 0.01401 to 0.01380, saving model to my_best_model.hdf5\n",
            "64/64 [==============================] - 1s 16ms/step - loss: 0.0012 - val_loss: 0.0138\n",
            "Epoch 21/600\n",
            "64/64 [==============================] - ETA: 0s - loss: 0.0012    \n",
            "Epoch 00021: val_loss improved from 0.01380 to 0.01368, saving model to my_best_model.hdf5\n",
            "64/64 [==============================] - 1s 15ms/step - loss: 0.0012 - val_loss: 0.0137\n",
            "Epoch 22/600\n",
            "61/64 [===========================>..] - ETA: 0s - loss: 0.0013    \n",
            "Epoch 00022: val_loss did not improve from 0.01368\n",
            "64/64 [==============================] - 1s 15ms/step - loss: 0.0015 - val_loss: 0.0164\n",
            "Epoch 23/600\n",
            "64/64 [==============================] - ETA: 0s - loss: 0.0016\n",
            "Epoch 00023: val_loss did not improve from 0.01368\n",
            "64/64 [==============================] - 1s 15ms/step - loss: 0.0016 - val_loss: 0.0147\n",
            "Epoch 24/600\n",
            "61/64 [===========================>..] - ETA: 0s - loss: 0.0017\n",
            "Epoch 00024: val_loss improved from 0.01368 to 0.01355, saving model to my_best_model.hdf5\n",
            "64/64 [==============================] - 1s 17ms/step - loss: 0.0019 - val_loss: 0.0135\n",
            "Epoch 25/600\n",
            "63/64 [============================>.] - ETA: 0s - loss: 9.8960e-04\n",
            "Epoch 00025: val_loss did not improve from 0.01355\n",
            "64/64 [==============================] - 1s 16ms/step - loss: 0.0010 - val_loss: 0.0144\n",
            "Epoch 26/600\n",
            "61/64 [===========================>..] - ETA: 0s - loss: 0.0012    \n",
            "Epoch 00026: val_loss did not improve from 0.01355\n",
            "64/64 [==============================] - 1s 15ms/step - loss: 0.0013 - val_loss: 0.0142\n",
            "Epoch 27/600\n",
            "63/64 [============================>.] - ETA: 0s - loss: 8.3592e-04\n",
            "Epoch 00027: val_loss did not improve from 0.01355\n",
            "64/64 [==============================] - 1s 15ms/step - loss: 8.6045e-04 - val_loss: 0.0141\n",
            "Epoch 28/600\n",
            "64/64 [==============================] - ETA: 0s - loss: 8.3284e-04\n",
            "Epoch 00028: val_loss did not improve from 0.01355\n",
            "64/64 [==============================] - 1s 15ms/step - loss: 8.3284e-04 - val_loss: 0.0148\n",
            "Epoch 29/600\n",
            "62/64 [============================>.] - ETA: 0s - loss: 6.6331e-04\n",
            "Epoch 00029: val_loss did not improve from 0.01355\n",
            "64/64 [==============================] - 1s 15ms/step - loss: 7.9577e-04 - val_loss: 0.0171\n",
            "Epoch 30/600\n",
            "64/64 [==============================] - ETA: 0s - loss: 7.3249e-04\n",
            "Epoch 00030: val_loss did not improve from 0.01355\n",
            "64/64 [==============================] - 1s 16ms/step - loss: 7.3249e-04 - val_loss: 0.0161\n",
            "Epoch 31/600\n",
            "62/64 [============================>.] - ETA: 0s - loss: 6.4656e-04\n",
            "Epoch 00031: val_loss did not improve from 0.01355\n",
            "64/64 [==============================] - 1s 16ms/step - loss: 8.7981e-04 - val_loss: 0.0192\n",
            "Epoch 32/600\n",
            "63/64 [============================>.] - ETA: 0s - loss: 7.1439e-04\n",
            "Epoch 00032: val_loss did not improve from 0.01355\n",
            "64/64 [==============================] - 1s 16ms/step - loss: 7.7785e-04 - val_loss: 0.0171\n",
            "Epoch 33/600\n",
            "64/64 [==============================] - ETA: 0s - loss: 8.7049e-04\n",
            "Epoch 00033: val_loss did not improve from 0.01355\n",
            "64/64 [==============================] - 1s 20ms/step - loss: 8.7049e-04 - val_loss: 0.0141\n",
            "Epoch 34/600\n",
            "61/64 [===========================>..] - ETA: 0s - loss: 0.0010    \n",
            "Epoch 00034: val_loss improved from 0.01355 to 0.01310, saving model to my_best_model.hdf5\n",
            "64/64 [==============================] - 1s 22ms/step - loss: 0.0012 - val_loss: 0.0131\n",
            "Epoch 35/600\n",
            "63/64 [============================>.] - ETA: 0s - loss: 0.0013    \n",
            "Epoch 00035: val_loss did not improve from 0.01310\n",
            "64/64 [==============================] - 1s 17ms/step - loss: 0.0013 - val_loss: 0.0135\n",
            "Epoch 36/600\n",
            "63/64 [============================>.] - ETA: 0s - loss: 0.0011    \n",
            "Epoch 00036: val_loss did not improve from 0.01310\n",
            "64/64 [==============================] - 1s 15ms/step - loss: 0.0012 - val_loss: 0.0132\n",
            "Epoch 37/600\n",
            "61/64 [===========================>..] - ETA: 0s - loss: 8.9999e-04\n",
            "Epoch 00037: val_loss did not improve from 0.01310\n",
            "64/64 [==============================] - 1s 15ms/step - loss: 0.0011 - val_loss: 0.0132\n",
            "Epoch 38/600\n",
            "63/64 [============================>.] - ETA: 0s - loss: 0.0011    \n",
            "Epoch 00038: val_loss did not improve from 0.01310\n",
            "64/64 [==============================] - 1s 15ms/step - loss: 0.0011 - val_loss: 0.0134\n",
            "Epoch 39/600\n",
            "62/64 [============================>.] - ETA: 0s - loss: 7.3113e-04\n",
            "Epoch 00039: val_loss did not improve from 0.01310\n",
            "64/64 [==============================] - 1s 15ms/step - loss: 8.5695e-04 - val_loss: 0.0133\n",
            "Epoch 40/600\n",
            "64/64 [==============================] - ETA: 0s - loss: 8.4140e-04\n",
            "Epoch 00040: val_loss did not improve from 0.01310\n",
            "64/64 [==============================] - 1s 16ms/step - loss: 8.4140e-04 - val_loss: 0.0141\n",
            "Epoch 41/600\n",
            "63/64 [============================>.] - ETA: 0s - loss: 7.2651e-04\n",
            "Epoch 00041: val_loss did not improve from 0.01310\n",
            "64/64 [==============================] - 1s 16ms/step - loss: 7.5003e-04 - val_loss: 0.0144\n",
            "Epoch 42/600\n",
            "63/64 [============================>.] - ETA: 0s - loss: 9.2800e-04\n",
            "Epoch 00042: val_loss did not improve from 0.01310\n",
            "64/64 [==============================] - 1s 15ms/step - loss: 9.9037e-04 - val_loss: 0.0167\n",
            "Epoch 43/600\n",
            "62/64 [============================>.] - ETA: 0s - loss: 0.0012    \n",
            "Epoch 00043: val_loss did not improve from 0.01310\n",
            "64/64 [==============================] - 1s 15ms/step - loss: 0.0016 - val_loss: 0.0190\n",
            "Epoch 44/600\n",
            "61/64 [===========================>..] - ETA: 0s - loss: 0.0013    \n",
            "Epoch 00044: val_loss did not improve from 0.01310\n",
            "64/64 [==============================] - 1s 16ms/step - loss: 0.0018 - val_loss: 0.0217\n"
          ]
        }
      ],
      "source": [
        "from tensorflow.keras.callbacks import ModelCheckpoint, EarlyStopping\n",
        "\n",
        "# Compiling the LSTM\n",
        "regressor.compile(optimizer = 'adam', loss = 'mean_squared_error')\n",
        "\n",
        "checkpoint_path = 'my_best_model.hdf5'\n",
        "\n",
        "checkpoint = ModelCheckpoint(filepath=checkpoint_path, \n",
        "                             monitor='val_loss',\n",
        "                             verbose=1, \n",
        "                             save_best_only=True,\n",
        "                             mode='min')\n",
        "\n",
        "\n",
        "earlystopping = EarlyStopping(monitor='val_loss', patience=10, restore_best_weights=True)\n",
        "\n",
        "callbacks = [checkpoint, earlystopping]\n",
        "# callbacks = [checkpoint]\n",
        "\n",
        "\n",
        "history = regressor.fit(trainX, trainY, batch_size = 32, epochs = 600, verbose=1, shuffle=False, validation_data=(testX, testY), callbacks=callbacks)"
      ]
    },
    {
      "cell_type": "code",
      "execution_count": null,
      "metadata": {
        "colab": {
          "base_uri": "https://localhost:8080/",
          "height": 424
        },
        "id": "KGMDhLoSd72N",
        "outputId": "a2280861-9b96-4c99-d0d2-4fc378945778"
      },
      "outputs": [
        {
          "data": {
            "image/png": "[encoded data removed]",
            "text/plain": [
              "<Figure size 1152x504 with 1 Axes>"
            ]
          },
          "metadata": {},
          "output_type": "display_data"
        }
      ],
      "source": [
        "plt.figure(figsize=(16,7))\n",
        "plt.plot(history.history['loss'], label='train')\n",
        "\n",
        "plt.plot(history.history['val_loss'], label='test')\n",
        "plt.legend()\n",
        "plt.show()"
      ]
    },
    {
      "cell_type": "code",
      "execution_count": null,
      "metadata": {
        "id": "DHaBFbv2iNH0"
      },
      "outputs": [],
      "source": [
        "# Transformation to original form and making the predictions\n",
        "\n",
        "# predicted_btc_price_test_data = regressor.predict(testX)\n",
        "\n",
        "from tensorflow.keras.models import load_model\n",
        "\n",
        "model_from_saved_checkpoint = load_model(checkpoint_path)\n",
        "predicted_btc_price_test_data = model_from_saved_checkpoint.predict(testX)\n",
        "\n",
        "predicted_btc_price_test_data = scaler_test.inverse_transform(predicted_btc_price_test_data.reshape(-1, 1))\n",
        "\n",
        "test_actual = scaler_test.inverse_transform(testY.reshape(-1, 1))"
      ]
    },
    {
      "cell_type": "code",
      "execution_count": null,
      "metadata": {
        "colab": {
          "base_uri": "https://localhost:8080/",
          "height": 424
        },
        "id": "hIPwpvStjYLj",
        "outputId": "33964c5a-8268-4a1a-9be9-fc3e5f6bfc99"
      },
      "outputs": [
        {
          "data": {
            "image/png": "[encoded data removed]",
            "text/plain": [
              "<Figure size 1152x504 with 1 Axes>"
            ]
          },
          "metadata": {},
          "output_type": "display_data"
        }
      ],
      "source": [
        "plt.figure(figsize=(16,7))\n",
        "\n",
        "plt.plot(predicted_btc_price_test_data, 'r', marker='.', label='Predicted Test')\n",
        "\n",
        "plt.plot(test_actual, marker='.', label='Actual Test')\n",
        "\n",
        "plt.legend()\n",
        "plt.show()"
      ]
    },
    {
      "cell_type": "code",
      "execution_count": null,
      "metadata": {
        "id": "xQp2AaB8lkRv"
      },
      "outputs": [],
      "source": [
        "predicted_btc_price_train_data = model_from_saved_checkpoint.predict(trainX)\n",
        "\n",
        "predicted_btc_price_train_data = scaler_train.inverse_transform(predicted_btc_price_train_data.reshape(-1, 1))\n",
        "\n",
        "train_actual = scaler_train.inverse_transform(trainY.reshape(-1, 1))"
      ]
    },
    {
      "cell_type": "code",
      "execution_count": null,
      "metadata": {
        "colab": {
          "base_uri": "https://localhost:8080/",
          "height": 424
        },
        "id": "RiuARb-Bln1g",
        "outputId": "ba2f768d-6817-4a37-9dc7-fa36cb76a96a"
      },
      "outputs": [
        {
          "data": {
            "image/png": "[encoded data removed]",
            "text/plain": [
              "<Figure size 1152x504 with 1 Axes>"
            ]
          },
          "metadata": {},
          "output_type": "display_data"
        }
      ],
      "source": [
        "plt.figure(figsize=(16,7))\n",
        "\n",
        "plt.plot(predicted_btc_price_train_data, 'r', marker='.', label='Predicted Train')\n",
        "\n",
        "plt.plot(train_actual, marker='.', label='Actual Train')\n",
        "\n",
        "plt.legend()\n",
        "plt.show()"
      ]
    },
    {
      "cell_type": "code",
      "execution_count": null,
      "metadata": {
        "colab": {
          "base_uri": "https://localhost:8080/"
        },
        "id": "RZtRqnreWNgO",
        "outputId": "d72a9fa9-5614-45d5-9d4d-9921964439d7"
      },
      "outputs": [
        {
          "data": {
            "text/plain": [
              "[array([99.59948073]),\n",
              " array([98.86125675]),\n",
              " array([93.30330357]),\n",
              " array([97.15407047]),\n",
              " array([96.15596142]),\n",
              " array([99.95758114]),\n",
              " array([95.02795426]),\n",
              " array([93.88670087]),\n",
              " array([97.7680037]),\n",
              " array([99.24961543]),\n",
              " array([96.18442549]),\n",
              " array([98.90980133]),\n",
              " array([94.07225886]),\n",
              " array([98.17718184]),\n",
              " array([98.34998903]),\n",
              " array([97.64195183]),\n",
              " array([98.53497883]),\n",
              " array([99.06822185]),\n",
              " array([98.50870503]),\n",
              " array([93.14931714]),\n",
              " array([97.84031561]),\n",
              " array([94.97072253]),\n",
              " array([98.81077178]),\n",
              " array([99.66949456]),\n",
              " array([99.65306248]),\n",
              " array([95.25694047]),\n",
              " array([96.23489915]),\n",
              " array([98.68032413]),\n",
              " array([99.2653587]),\n",
              " array([99.83166039]),\n",
              " array([98.4394492]),\n",
              " array([94.40007132]),\n",
              " array([97.16200956]),\n",
              " array([99.93591662]),\n",
              " array([98.23669548]),\n",
              " array([99.74899977]),\n",
              " array([99.66826664]),\n",
              " array([99.73671083]),\n",
              " array([98.66570871]),\n",
              " array([91.26558749]),\n",
              " array([94.66339595]),\n",
              " array([89.56207742]),\n",
              " array([98.5034707]),\n",
              " array([97.72518371]),\n",
              " array([98.76091917]),\n",
              " array([94.40508628]),\n",
              " array([99.02645179]),\n",
              " array([98.44051864]),\n",
              " array([95.76046249]),\n",
              " array([92.53731255]),\n",
              " array([94.54584827]),\n",
              " array([99.71068247]),\n",
              " array([96.57357393]),\n",
              " array([93.45021465]),\n",
              " array([95.31039489])]"
            ]
          },
          "execution_count": 112,
          "metadata": {},
          "output_type": "execute_result"
        }
      ],
      "source": [
        "\n",
        "predicted = []\n",
        "test=[]\n",
        "verschil = []\n",
        "\n",
        "for i in predicted_btc_price_test_data:\n",
        "  predicted.append(i)\n",
        "for i in test_actual:\n",
        "  test.append(i)\n",
        "\n",
        "for i in range(test_actual.size):\n",
        "  waarde = ((predicted_btc_price_test_data[i]-test_actual[i])/predicted_btc_price_test_data[i])*100\n",
        "  if waarde <0:\n",
        "    resultaat = 100+((predicted_btc_price_test_data[i]-test_actual[i])/predicted_btc_price_test_data[i])*100\n",
        "  else:\n",
        "    resultaat = 100-((predicted_btc_price_test_data[i]-test_actual[i])/predicted_btc_price_test_data[i])*100\n",
        "  verschil.append(resultaat)\n",
        "verschil\n",
        "\n",
        "\n"
      ]
    },
    {
      "cell_type": "code",
      "execution_count": null,
      "metadata": {
        "colab": {
          "base_uri": "https://localhost:8080/"
        },
        "id": "dOxNyxofh_ve",
        "outputId": "03c47136-78e7-49fa-d861-4b483d8471fc"
      },
      "outputs": [
        {
          "data": {
            "text/plain": [
              "array([97.09107851])"
            ]
          },
          "execution_count": 113,
          "metadata": {},
          "output_type": "execute_result"
        }
      ],
      "source": [
        "def Average(vershil):\n",
        "    return sum(vershil) / len(vershil)\n",
        "average = Average(verschil)\n",
        "average"
      ]
    },
    {
      "cell_type": "code",
      "execution_count": null,
      "metadata": {
        "colab": {
          "base_uri": "https://localhost:8080/"
        },
        "id": "mnaUYfx7aA4f",
        "outputId": "895cac89-eaa6-4487-9261-0e7cd9be478c"
      },
      "outputs": [
        {
          "data": {
            "text/plain": [
              "array([12.88])"
            ]
          },
          "execution_count": 76,
          "metadata": {},
          "output_type": "execute_result"
        }
      ],
      "source": [
        "train_actual[1]"
      ]
    },
    {
      "cell_type": "code",
      "execution_count": null,
      "metadata": {
        "colab": {
          "base_uri": "https://localhost:8080/"
        },
        "id": "1VjDuwVTaKjo",
        "outputId": "a03a7876-fc96-41cd-ad3c-0ea50071d798"
      },
      "outputs": [
        {
          "data": {
            "text/plain": [
              "array([227.12216], dtype=float32)"
            ]
          },
          "execution_count": 77,
          "metadata": {},
          "output_type": "execute_result"
        }
      ],
      "source": [
        "predicted_btc_price_train_data[1]"
      ]
    },
    {
      "cell_type": "markdown",
      "metadata": {
        "id": "c7ooUI54mBCT"
      },
      "source": [
        "rmse_lstm_test = math.sqrt(mean_squared_error(test_actual, predicted_btc_price_test_data))\n",
        "\n",
        "print('Test RMSE: %.3f' % rmse_lstm_test)"
      ]
    },
    {
      "cell_type": "code",
      "execution_count": null,
      "metadata": {
        "colab": {
          "base_uri": "https://localhost:8080/"
        },
        "id": "z2NjZ0d3mMeZ",
        "outputId": "bab815d5-bee2-44e5-859d-9a5f72eee1ee"
      },
      "outputs": [
        {
          "name": "stdout",
          "output_type": "stream",
          "text": [
            "Test RMSE: 258.763\n"
          ]
        }
      ],
      "source": [
        "rmse_lstm_train = math.sqrt(mean_squared_error(train_actual, predicted_btc_price_train_data))\n",
        "\n",
        "print('Test RMSE: %.3f' % rmse_lstm_train)"
      ]
    },
    {
      "cell_type": "code",
      "execution_count": null,
      "metadata": {
        "colab": {
          "base_uri": "https://localhost:8080/"
        },
        "id": "jSENHUqEqw7I",
        "outputId": "37919a15-520a-4ef9-e67d-a8f3e2a0456a"
      },
      "outputs": [
        {
          "data": {
            "text/plain": [
              "array([[[0.02307152],\n",
              "        [0.        ],\n",
              "        [0.08991367],\n",
              "        [0.13241384],\n",
              "        [0.14129992]],\n",
              "\n",
              "       [[0.        ],\n",
              "        [0.08991367],\n",
              "        [0.13241384],\n",
              "        [0.14129992],\n",
              "        [0.12406822]],\n",
              "\n",
              "       [[0.08991367],\n",
              "        [0.13241384],\n",
              "        [0.14129992],\n",
              "        [0.12406822],\n",
              "        [0.1323998 ]],\n",
              "\n",
              "       [[0.13241384],\n",
              "        [0.14129992],\n",
              "        [0.12406822],\n",
              "        [0.1323998 ],\n",
              "        [0.01951288]],\n",
              "\n",
              "       [[0.14129992],\n",
              "        [0.12406822],\n",
              "        [0.1323998 ],\n",
              "        [0.01951288],\n",
              "        [0.10891416]],\n",
              "\n",
              "       [[0.12406822],\n",
              "        [0.1323998 ],\n",
              "        [0.01951288],\n",
              "        [0.10891416],\n",
              "        [0.0725837 ]],\n",
              "\n",
              "       [[0.1323998 ],\n",
              "        [0.01951288],\n",
              "        [0.10891416],\n",
              "        [0.0725837 ],\n",
              "        [0.1551274 ]],\n",
              "\n",
              "       [[0.01951288],\n",
              "        [0.10891416],\n",
              "        [0.0725837 ],\n",
              "        [0.1551274 ],\n",
              "        [0.28389135]],\n",
              "\n",
              "       [[0.10891416],\n",
              "        [0.0725837 ],\n",
              "        [0.1551274 ],\n",
              "        [0.28389135],\n",
              "        [0.33868885]],\n",
              "\n",
              "       [[0.0725837 ],\n",
              "        [0.1551274 ],\n",
              "        [0.28389135],\n",
              "        [0.33868885],\n",
              "        [0.31056363]],\n",
              "\n",
              "       [[0.1551274 ],\n",
              "        [0.28389135],\n",
              "        [0.33868885],\n",
              "        [0.31056363],\n",
              "        [0.32286095]],\n",
              "\n",
              "       [[0.28389135],\n",
              "        [0.33868885],\n",
              "        [0.31056363],\n",
              "        [0.32286095],\n",
              "        [0.2514775 ]],\n",
              "\n",
              "       [[0.33868885],\n",
              "        [0.31056363],\n",
              "        [0.32286095],\n",
              "        [0.2514775 ],\n",
              "        [0.3446129 ]],\n",
              "\n",
              "       [[0.31056363],\n",
              "        [0.32286095],\n",
              "        [0.2514775 ],\n",
              "        [0.3446129 ],\n",
              "        [0.54379168]],\n",
              "\n",
              "       [[0.32286095],\n",
              "        [0.2514775 ],\n",
              "        [0.3446129 ],\n",
              "        [0.54379168],\n",
              "        [0.46795817]],\n",
              "\n",
              "       [[0.2514775 ],\n",
              "        [0.3446129 ],\n",
              "        [0.54379168],\n",
              "        [0.46795817],\n",
              "        [0.41015652]],\n",
              "\n",
              "       [[0.3446129 ],\n",
              "        [0.54379168],\n",
              "        [0.46795817],\n",
              "        [0.41015652],\n",
              "        [0.54843827]],\n",
              "\n",
              "       [[0.54379168],\n",
              "        [0.46795817],\n",
              "        [0.41015652],\n",
              "        [0.54843827],\n",
              "        [0.48813083]],\n",
              "\n",
              "       [[0.46795817],\n",
              "        [0.41015652],\n",
              "        [0.54843827],\n",
              "        [0.48813083],\n",
              "        [0.58519688]],\n",
              "\n",
              "       [[0.41015652],\n",
              "        [0.54843827],\n",
              "        [0.48813083],\n",
              "        [0.58519688],\n",
              "        [0.52240472]],\n",
              "\n",
              "       [[0.54843827],\n",
              "        [0.48813083],\n",
              "        [0.58519688],\n",
              "        [0.52240472],\n",
              "        [0.37673896]],\n",
              "\n",
              "       [[0.48813083],\n",
              "        [0.58519688],\n",
              "        [0.52240472],\n",
              "        [0.37673896],\n",
              "        [0.63245596]],\n",
              "\n",
              "       [[0.58519688],\n",
              "        [0.52240472],\n",
              "        [0.37673896],\n",
              "        [0.63245596],\n",
              "        [0.72578789]],\n",
              "\n",
              "       [[0.52240472],\n",
              "        [0.37673896],\n",
              "        [0.63245596],\n",
              "        [0.72578789],\n",
              "        [0.65801221]],\n",
              "\n",
              "       [[0.37673896],\n",
              "        [0.63245596],\n",
              "        [0.72578789],\n",
              "        [0.65801221],\n",
              "        [0.63378957]],\n",
              "\n",
              "       [[0.63245596],\n",
              "        [0.72578789],\n",
              "        [0.65801221],\n",
              "        [0.63378957],\n",
              "        [0.65676283]],\n",
              "\n",
              "       [[0.72578789],\n",
              "        [0.65801221],\n",
              "        [0.63378957],\n",
              "        [0.65676283],\n",
              "        [0.84776444]],\n",
              "\n",
              "       [[0.65801221],\n",
              "        [0.63378957],\n",
              "        [0.65676283],\n",
              "        [0.84776444],\n",
              "        [0.85552748]],\n",
              "\n",
              "       [[0.63378957],\n",
              "        [0.65676283],\n",
              "        [0.84776444],\n",
              "        [0.85552748],\n",
              "        [0.80715238]],\n",
              "\n",
              "       [[0.65676283],\n",
              "        [0.84776444],\n",
              "        [0.85552748],\n",
              "        [0.80715238],\n",
              "        [0.76666667]],\n",
              "\n",
              "       [[0.84776444],\n",
              "        [0.85552748],\n",
              "        [0.80715238],\n",
              "        [0.76666667],\n",
              "        [0.79733277]],\n",
              "\n",
              "       [[0.85552748],\n",
              "        [0.80715238],\n",
              "        [0.76666667],\n",
              "        [0.79733277],\n",
              "        [0.86321331]],\n",
              "\n",
              "       [[0.80715238],\n",
              "        [0.76666667],\n",
              "        [0.79733277],\n",
              "        [0.86321331],\n",
              "        [1.        ]],\n",
              "\n",
              "       [[0.76666667],\n",
              "        [0.79733277],\n",
              "        [0.86321331],\n",
              "        [1.        ],\n",
              "        [0.94363024]],\n",
              "\n",
              "       [[0.79733277],\n",
              "        [0.86321331],\n",
              "        [1.        ],\n",
              "        [0.94363024],\n",
              "        [0.87388222]],\n",
              "\n",
              "       [[0.86321331],\n",
              "        [1.        ],\n",
              "        [0.94363024],\n",
              "        [0.87388222],\n",
              "        [0.93680775]],\n",
              "\n",
              "       [[1.        ],\n",
              "        [0.94363024],\n",
              "        [0.87388222],\n",
              "        [0.93680775],\n",
              "        [0.89853302]],\n",
              "\n",
              "       [[0.94363024],\n",
              "        [0.87388222],\n",
              "        [0.93680775],\n",
              "        [0.89853302],\n",
              "        [0.88245947]],\n",
              "\n",
              "       [[0.87388222],\n",
              "        [0.93680775],\n",
              "        [0.89853302],\n",
              "        [0.88245947],\n",
              "        [0.87023935]],\n",
              "\n",
              "       [[0.93680775],\n",
              "        [0.89853302],\n",
              "        [0.88245947],\n",
              "        [0.87023935],\n",
              "        [0.82674247]],\n",
              "\n",
              "       [[0.89853302],\n",
              "        [0.88245947],\n",
              "        [0.87023935],\n",
              "        [0.82674247],\n",
              "        [0.57717414]],\n",
              "\n",
              "       [[0.88245947],\n",
              "        [0.87023935],\n",
              "        [0.82674247],\n",
              "        [0.57717414],\n",
              "        [0.63325612]],\n",
              "\n",
              "       [[0.87023935],\n",
              "        [0.82674247],\n",
              "        [0.57717414],\n",
              "        [0.63325612],\n",
              "        [0.4286727 ]],\n",
              "\n",
              "       [[0.82674247],\n",
              "        [0.57717414],\n",
              "        [0.63325612],\n",
              "        [0.4286727 ],\n",
              "        [0.64038043]],\n",
              "\n",
              "       [[0.57717414],\n",
              "        [0.63325612],\n",
              "        [0.4286727 ],\n",
              "        [0.64038043],\n",
              "        [0.72260125]],\n",
              "\n",
              "       [[0.63325612],\n",
              "        [0.4286727 ],\n",
              "        [0.64038043],\n",
              "        [0.72260125],\n",
              "        [0.61471889]],\n",
              "\n",
              "       [[0.4286727 ],\n",
              "        [0.64038043],\n",
              "        [0.72260125],\n",
              "        [0.61471889],\n",
              "        [0.49270724]],\n",
              "\n",
              "       [[0.64038043],\n",
              "        [0.72260125],\n",
              "        [0.61471889],\n",
              "        [0.49270724],\n",
              "        [0.66990945]],\n",
              "\n",
              "       [[0.72260125],\n",
              "        [0.61471889],\n",
              "        [0.49270724],\n",
              "        [0.66990945],\n",
              "        [0.62015863]],\n",
              "\n",
              "       [[0.61471889],\n",
              "        [0.49270724],\n",
              "        [0.66990945],\n",
              "        [0.62015863],\n",
              "        [0.79923493]],\n",
              "\n",
              "       [[0.49270724],\n",
              "        [0.66990945],\n",
              "        [0.62015863],\n",
              "        [0.79923493],\n",
              "        [0.46077771]],\n",
              "\n",
              "       [[0.66990945],\n",
              "        [0.62015863],\n",
              "        [0.79923493],\n",
              "        [0.46077771],\n",
              "        [0.49912964]],\n",
              "\n",
              "       [[0.62015863],\n",
              "        [0.79923493],\n",
              "        [0.46077771],\n",
              "        [0.49912964],\n",
              "        [0.63955921]],\n",
              "\n",
              "       [[0.79923493],\n",
              "        [0.46077771],\n",
              "        [0.49912964],\n",
              "        [0.63955921],\n",
              "        [0.74557451]],\n",
              "\n",
              "       [[0.46077771],\n",
              "        [0.49912964],\n",
              "        [0.63955921],\n",
              "        [0.74557451],\n",
              "        [0.87579841]]])"
            ]
          },
          "execution_count": 46,
          "metadata": {},
          "output_type": "execute_result"
        }
      ],
      "source": [
        "testX"
      ]
    },
    {
      "cell_type": "code",
      "execution_count": null,
      "metadata": {
        "colab": {
          "base_uri": "https://localhost:8080/"
        },
        "id": "NmxLzThXq73M",
        "outputId": "aa53118c-b08f-4c38-85f2-9bd76bb58199"
      },
      "outputs": [
        {
          "data": {
            "text/plain": [
              "(55, 5, 1)"
            ]
          },
          "execution_count": 47,
          "metadata": {},
          "output_type": "execute_result"
        }
      ],
      "source": [
        "testX.shape"
      ]
    },
    {
      "cell_type": "code",
      "execution_count": null,
      "metadata": {
        "colab": {
          "base_uri": "https://localhost:8080/"
        },
        "id": "QZ2viFibrAC-",
        "outputId": "5b50bfdf-f398-4988-f125-47b1027f79d2"
      },
      "outputs": [
        {
          "data": {
            "text/plain": [
              "(10, 5, 1)"
            ]
          },
          "execution_count": 48,
          "metadata": {},
          "output_type": "execute_result"
        }
      ],
      "source": [
        "loopback_period = 10\n",
        "\n",
        "testX_last_10_days = testX[testX.shape[0] - loopback_period : ]\n",
        "\n",
        "testX_last_10_days.shape"
      ]
    },
    {
      "cell_type": "code",
      "execution_count": null,
      "metadata": {
        "colab": {
          "base_uri": "https://localhost:8080/"
        },
        "id": "iqBKU7f3rgDy",
        "outputId": "ee931838-cfe9-4fa5-e58e-0cbc04d8e1aa"
      },
      "outputs": [
        {
          "data": {
            "text/plain": [
              "array([[[0.63325612],\n",
              "        [0.4286727 ],\n",
              "        [0.64038043],\n",
              "        [0.72260125],\n",
              "        [0.61471889]],\n",
              "\n",
              "       [[0.4286727 ],\n",
              "        [0.64038043],\n",
              "        [0.72260125],\n",
              "        [0.61471889],\n",
              "        [0.49270724]],\n",
              "\n",
              "       [[0.64038043],\n",
              "        [0.72260125],\n",
              "        [0.61471889],\n",
              "        [0.49270724],\n",
              "        [0.66990945]],\n",
              "\n",
              "       [[0.72260125],\n",
              "        [0.61471889],\n",
              "        [0.49270724],\n",
              "        [0.66990945],\n",
              "        [0.62015863]],\n",
              "\n",
              "       [[0.61471889],\n",
              "        [0.49270724],\n",
              "        [0.66990945],\n",
              "        [0.62015863],\n",
              "        [0.79923493]],\n",
              "\n",
              "       [[0.49270724],\n",
              "        [0.66990945],\n",
              "        [0.62015863],\n",
              "        [0.79923493],\n",
              "        [0.46077771]],\n",
              "\n",
              "       [[0.66990945],\n",
              "        [0.62015863],\n",
              "        [0.79923493],\n",
              "        [0.46077771],\n",
              "        [0.49912964]],\n",
              "\n",
              "       [[0.62015863],\n",
              "        [0.79923493],\n",
              "        [0.46077771],\n",
              "        [0.49912964],\n",
              "        [0.63955921]],\n",
              "\n",
              "       [[0.79923493],\n",
              "        [0.46077771],\n",
              "        [0.49912964],\n",
              "        [0.63955921],\n",
              "        [0.74557451]],\n",
              "\n",
              "       [[0.46077771],\n",
              "        [0.49912964],\n",
              "        [0.63955921],\n",
              "        [0.74557451],\n",
              "        [0.87579841]]])"
            ]
          },
          "execution_count": 49,
          "metadata": {},
          "output_type": "execute_result"
        }
      ],
      "source": [
        "testX_last_10_days"
      ]
    },
    {
      "cell_type": "code",
      "execution_count": null,
      "metadata": {
        "colab": {
          "base_uri": "https://localhost:8080/"
        },
        "id": "mT_J8VeVri9_",
        "outputId": "6ad00740-4727-47fc-85c3-95bf9f40efb5"
      },
      "outputs": [
        {
          "name": "stdout",
          "output_type": "stream",
          "text": [
            "Forecast for the next 10 Days Beyond the actual trading days  [[[4331.504 ]]\n",
            "\n",
            " [[4299.76  ]]\n",
            "\n",
            " [[4338.3965]]\n",
            "\n",
            " [[4341.7974]]\n",
            "\n",
            " [[4369.773 ]]\n",
            "\n",
            " [[4334.733 ]]\n",
            "\n",
            " [[4310.852 ]]\n",
            "\n",
            " [[4302.0146]]\n",
            "\n",
            " [[4350.0327]]\n",
            "\n",
            " [[4381.476 ]]]\n"
          ]
        }
      ],
      "source": [
        " predicted_10_days_forecast_price_test_x = []\n",
        "\n",
        "for i in range(10):  \n",
        "  predicted_forecast_price_test_x = model_from_saved_checkpoint.predict(testX_last_10_days[i:i+1])\n",
        "  \n",
        "  predicted_forecast_price_test_x = scaler_test.inverse_transform(predicted_forecast_price_test_x.reshape(-1, 1))\n",
        "  # print(predicted_forecast_price_test_x)\n",
        "  predicted_10_days_forecast_price_test_x.append(predicted_forecast_price_test_x)\n",
        "  \n",
        "print(\"Forecast for the next 10 Days Beyond the actual trading days \", np.array(predicted_10_days_forecast_price_test_x)) \n",
        "# That is the original Trading data ended on 30-Oct-2021, but now I am going to forecast beyond 30-Oct-2021"
      ]
    },
    {
      "cell_type": "code",
      "execution_count": null,
      "metadata": {
        "colab": {
          "base_uri": "https://localhost:8080/"
        },
        "id": "yZRGhdJKsjm8",
        "outputId": "651a726f-a924-4db7-fdd1-bfa60dc97d8b"
      },
      "outputs": [
        {
          "data": {
            "text/plain": [
              "(10, 1, 1)"
            ]
          },
          "execution_count": 51,
          "metadata": {},
          "output_type": "execute_result"
        }
      ],
      "source": [
        "predicted_10_days_forecast_price_test_x = np.array(predicted_10_days_forecast_price_test_x)\n",
        "\n",
        "predicted_10_days_forecast_price_test_x.shape"
      ]
    },
    {
      "cell_type": "code",
      "execution_count": null,
      "metadata": {
        "colab": {
          "base_uri": "https://localhost:8080/"
        },
        "id": "KYdKhvurslVj",
        "outputId": "dc4c93b5-4b22-4567-d31c-17066ce74bd7"
      },
      "outputs": [
        {
          "data": {
            "text/plain": [
              "(55, 1)"
            ]
          },
          "execution_count": 52,
          "metadata": {},
          "output_type": "execute_result"
        }
      ],
      "source": [
        "predicted_btc_price_test_data.shape"
      ]
    },
    {
      "cell_type": "code",
      "execution_count": null,
      "metadata": {
        "colab": {
          "base_uri": "https://localhost:8080/"
        },
        "id": "Sb7xjG8GsnM6",
        "outputId": "5fd0ef87-20dd-4963-9ba2-466b0dbacd49"
      },
      "outputs": [
        {
          "data": {
            "text/plain": [
              "array([[3578.2917],\n",
              "       [3617.0186],\n",
              "       [3660.1062],\n",
              "       [3646.1365],\n",
              "       [3630.1545],\n",
              "       [3609.7412],\n",
              "       [3612.0664],\n",
              "       [3646.7908],\n",
              "       [3746.0483],\n",
              "       [3818.5264],\n",
              "       [3894.0608],\n",
              "       [3920.9158],\n",
              "       [3929.0369],\n",
              "       [3981.3276],\n",
              "       [4038.1804],\n",
              "       [4072.5278],\n",
              "       [4143.341 ],\n",
              "       [4181.9634],\n",
              "       [4194.015 ],\n",
              "       [4212.527 ],\n",
              "       [4197.605 ],\n",
              "       [4209.5215],\n",
              "       [4273.844 ],\n",
              "       [4304.386 ],\n",
              "       [4337.94  ],\n",
              "       [4386.935 ],\n",
              "       [4438.9395],\n",
              "       [4478.054 ],\n",
              "       [4512.6216],\n",
              "       [4530.787 ],\n",
              "       [4546.076 ],\n",
              "       [4556.7266],\n",
              "       [4601.0137],\n",
              "       [4629.2534],\n",
              "       [4640.052 ],\n",
              "       [4655.6543],\n",
              "       [4659.8984],\n",
              "       [4639.2446],\n",
              "       [4626.795 ],\n",
              "       [4612.363 ],\n",
              "       [4531.213 ],\n",
              "       [4463.8647],\n",
              "       [4364.8716],\n",
              "       [4318.453 ],\n",
              "       [4316.4746],\n",
              "       [4331.504 ],\n",
              "       [4299.76  ],\n",
              "       [4338.3965],\n",
              "       [4341.798 ],\n",
              "       [4369.7725],\n",
              "       [4334.733 ],\n",
              "       [4310.852 ],\n",
              "       [4302.0146],\n",
              "       [4350.032 ],\n",
              "       [4381.476 ]], dtype=float32)"
            ]
          },
          "execution_count": 53,
          "metadata": {},
          "output_type": "execute_result"
        }
      ],
      "source": [
        "predicted_btc_price_test_data"
      ]
    },
    {
      "cell_type": "code",
      "execution_count": null,
      "metadata": {
        "colab": {
          "base_uri": "https://localhost:8080/"
        },
        "id": "sgOFDv8essXT",
        "outputId": "16972306-bba6-4e2c-d4ae-4024cc62943a"
      },
      "outputs": [
        {
          "data": {
            "text/plain": [
              "array([[[4331.504 ]],\n",
              "\n",
              "       [[4299.76  ]],\n",
              "\n",
              "       [[4338.3965]],\n",
              "\n",
              "       [[4341.7974]],\n",
              "\n",
              "       [[4369.773 ]],\n",
              "\n",
              "       [[4334.733 ]],\n",
              "\n",
              "       [[4310.852 ]],\n",
              "\n",
              "       [[4302.0146]],\n",
              "\n",
              "       [[4350.0327]],\n",
              "\n",
              "       [[4381.476 ]]], dtype=float32)"
            ]
          },
          "execution_count": 54,
          "metadata": {},
          "output_type": "execute_result"
        }
      ],
      "source": [
        "predicted_10_days_forecast_price_test_x"
      ]
    },
    {
      "cell_type": "code",
      "execution_count": null,
      "metadata": {
        "colab": {
          "base_uri": "https://localhost:8080/"
        },
        "id": "mnjenPdwsuOo",
        "outputId": "23e1ae6f-e257-4c2b-85d4-4be3ace7f4d5"
      },
      "outputs": [
        {
          "data": {
            "text/plain": [
              "array([4331.504 , 4299.76  , 4338.3965, 4341.7974, 4369.773 , 4334.733 ,\n",
              "       4310.852 , 4302.0146, 4350.0327, 4381.476 ], dtype=float32)"
            ]
          },
          "execution_count": 55,
          "metadata": {},
          "output_type": "execute_result"
        }
      ],
      "source": [
        "predicted_10_days_forecast_price_test_x = predicted_10_days_forecast_price_test_x.flatten()\n",
        "\n",
        "predicted_10_days_forecast_price_test_x"
      ]
    },
    {
      "cell_type": "code",
      "execution_count": null,
      "metadata": {
        "colab": {
          "base_uri": "https://localhost:8080/"
        },
        "id": "nnPFEufWsw7l",
        "outputId": "3964a309-1f78-41c2-8840-1d95bb82b3d3"
      },
      "outputs": [
        {
          "data": {
            "text/plain": [
              "array([3578.2917, 3617.0186, 3660.1062, 3646.1365, 3630.1545, 3609.7412,\n",
              "       3612.0664, 3646.7908, 3746.0483, 3818.5264, 3894.0608, 3920.9158,\n",
              "       3929.0369, 3981.3276, 4038.1804, 4072.5278, 4143.341 , 4181.9634,\n",
              "       4194.015 , 4212.527 , 4197.605 , 4209.5215, 4273.844 , 4304.386 ,\n",
              "       4337.94  , 4386.935 , 4438.9395, 4478.054 , 4512.6216, 4530.787 ,\n",
              "       4546.076 , 4556.7266, 4601.0137, 4629.2534, 4640.052 , 4655.6543,\n",
              "       4659.8984, 4639.2446, 4626.795 , 4612.363 , 4531.213 , 4463.8647,\n",
              "       4364.8716, 4318.453 , 4316.4746, 4331.504 , 4299.76  , 4338.3965,\n",
              "       4341.798 , 4369.7725, 4334.733 , 4310.852 , 4302.0146, 4350.032 ,\n",
              "       4381.476 ], dtype=float32)"
            ]
          },
          "execution_count": 56,
          "metadata": {},
          "output_type": "execute_result"
        }
      ],
      "source": [
        "predicted_btc_price_test_data = predicted_btc_price_test_data.flatten()\n",
        "\n",
        "predicted_btc_price_test_data"
      ]
    },
    {
      "cell_type": "code",
      "execution_count": null,
      "metadata": {
        "colab": {
          "base_uri": "https://localhost:8080/"
        },
        "id": "Kar_7NC0s0KH",
        "outputId": "290c03c5-f586-4f06-9a15-5438ee83658c"
      },
      "outputs": [
        {
          "data": {
            "text/plain": [
              "(65,)"
            ]
          },
          "execution_count": 57,
          "metadata": {},
          "output_type": "execute_result"
        }
      ],
      "source": [
        "predicted_btc_test_concatenated = np.concatenate((predicted_btc_price_test_data, predicted_10_days_forecast_price_test_x))\n",
        "\n",
        "predicted_btc_test_concatenated\n",
        "\n",
        "predicted_btc_test_concatenated.shape"
      ]
    },
    {
      "cell_type": "code",
      "execution_count": null,
      "metadata": {
        "colab": {
          "base_uri": "https://localhost:8080/",
          "height": 424
        },
        "id": "OkXNoKGMs2wI",
        "outputId": "c057aad7-1964-49e2-9c09-b673f528dc3d"
      },
      "outputs": [
        {
          "data": {
            "image/png": "[encoded data removed]",
            "text/plain": [
              "<Figure size 1800x504 with 1 Axes>"
            ]
          },
          "metadata": {},
          "output_type": "display_data"
        }
      ],
      "source": [
        "plt.figure(figsize=(25,7))\n",
        "\n",
        "plt.plot(predicted_btc_test_concatenated, 'r', marker='.', label='Predicted Test')\n",
        "\n",
        "plt.plot(test_actual, marker='.', label='Actual Test')\n",
        "\n",
        "plt.legend()\n",
        "\n",
        "plt.show()"
      ]
    }
  ],
  "metadata": {
    "colab": {
      "collapsed_sections": [],
      "name": "Price_Prediction_Bitcoin.ipynb",
      "provenance": []
    },
    "kernelspec": {
      "display_name": "Python 3",
      "name": "python3"
    },
    "language_info": {
      "name": "python"
    }
  },
  "nbformat": 4,
  "nbformat_minor": 0
}