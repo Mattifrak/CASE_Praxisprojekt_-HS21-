{
  "cells": [
    {
      "cell_type": "code",
      "execution_count": null,
      "metadata": {
        "id": "DzZ9hs6pt3Wo"
      },
      "outputs": [],
      "source": [
        "import warnings\n",
        "warnings.filterwarnings('ignore')\n",
        "import os\n",
        "import pandas as pd\n",
        "import numpy as np\n",
        "import math\n",
        "import datetime as dt\n",
        "import matplotlib.pyplot as plt\n",
        "\n",
        "from sklearn.metrics import mean_squared_error, mean_absolute_error, explained_variance_score, r2_score \n",
        "from sklearn.metrics import mean_poisson_deviance, mean_gamma_deviance, accuracy_score\n",
        "from sklearn.preprocessing import MinMaxScaler\n",
        "\n",
        "from itertools import product\n",
        "import statsmodels.api as sm\n",
        "\n",
        "import tensorflow as tf\n",
        "\n",
        "from tensorflow.keras.models import Sequential\n",
        "from tensorflow.keras.layers import Dense, Dropout\n",
        "from tensorflow.keras.layers import LSTM\n",
        "\n",
        "from itertools import cycle\n",
        "import plotly.offline as py\n",
        "import plotly.graph_objects as go\n",
        "import plotly.express as px\n",
        "from plotly.subplots import make_subplots\n",
        "\n",
        "plt.style.use('seaborn-darkgrid')"
      ]
    },
    {
      "cell_type": "code",
      "execution_count": null,
      "metadata": {
        "colab": {
          "base_uri": "https://localhost:8080/",
          "height": 74,
          "resources": {
            "http://localhost:8080/nbextensions/google.colab/files.js": {
              "data": "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",
              "headers": [
                [
                  "content-type",
                  "application/javascript"
                ]
              ],
              "ok": true,
              "status": 200,
              "status_text": ""
            }
          }
        },
        "id": "6T7CVWm4uwXi",
        "outputId": "2faa1c21-5f7d-46b0-b688-67fd7f60287b"
      },
      "outputs": [
        {
          "output_type": "display_data",
          "data": {
            "text/html": [
              "\n",
              "     <input type=\"file\" id=\"files-a2c58608-0fd1-4272-9402-32406b58a38a\" name=\"files[]\" multiple disabled\n",
              "        style=\"border:none\" />\n",
              "     <output id=\"result-a2c58608-0fd1-4272-9402-32406b58a38a\">\n",
              "      Upload widget is only available when the cell has been executed in the\n",
              "      current browser session. Please rerun this cell to enable.\n",
              "      </output>\n",
              "      <script src=\"/nbextensions/google.colab/files.js\"></script> "
            ],
            "text/plain": [
              "<IPython.core.display.HTML object>"
            ]
          },
          "metadata": {}
        },
        {
          "output_type": "stream",
          "name": "stdout",
          "text": [
            "Saving Bitcoin.csv to Bitcoin.csv\n"
          ]
        }
      ],
      "source": [
        "from google.colab import files\n",
        "uploaded = files.upload()"
      ]
    },
    {
      "cell_type": "code",
      "execution_count": null,
      "metadata": {
        "colab": {
          "base_uri": "https://localhost:8080/",
          "height": 206
        },
        "id": "zMpZ3VPP0vWF",
        "outputId": "98d42508-722c-4c65-c41e-c672fe67592c"
      },
      "outputs": [
        {
          "output_type": "execute_result",
          "data": {
            "text/html": [
              "\n",
              "  <div id=\"df-66541dbf-c50e-486c-8fdf-0d8e50a33518\">\n",
              "    <div class=\"colab-df-container\">\n",
              "      <div>\n",
              "<style scoped>\n",
              "    .dataframe tbody tr th:only-of-type {\n",
              "        vertical-align: middle;\n",
              "    }\n",
              "\n",
              "    .dataframe tbody tr th {\n",
              "        vertical-align: top;\n",
              "    }\n",
              "\n",
              "    .dataframe thead th {\n",
              "        text-align: right;\n",
              "    }\n",
              "</style>\n",
              "<table border=\"1\" class=\"dataframe\">\n",
              "  <thead>\n",
              "    <tr style=\"text-align: right;\">\n",
              "      <th></th>\n",
              "      <th>Sno</th>\n",
              "      <th>Date</th>\n",
              "      <th>Price</th>\n",
              "      <th>Open</th>\n",
              "      <th>High</th>\n",
              "      <th>Low</th>\n",
              "      <th>Vol.</th>\n",
              "      <th>Change %</th>\n",
              "      <th>Google</th>\n",
              "      <th>Fear_greed_ratio</th>\n",
              "      <th>Fear_greed</th>\n",
              "    </tr>\n",
              "  </thead>\n",
              "  <tbody>\n",
              "    <tr>\n",
              "      <th>4156</th>\n",
              "      <td>4157</td>\n",
              "      <td>2021-12-03</td>\n",
              "      <td>53638.04</td>\n",
              "      <td>56521.45</td>\n",
              "      <td>57670.68</td>\n",
              "      <td>51640.0</td>\n",
              "      <td>19567.631138</td>\n",
              "      <td>NaN</td>\n",
              "      <td>NaN</td>\n",
              "      <td>NaN</td>\n",
              "      <td>NaN</td>\n",
              "    </tr>\n",
              "    <tr>\n",
              "      <th>4157</th>\n",
              "      <td>4158</td>\n",
              "      <td>2021-12-04</td>\n",
              "      <td>49241.12</td>\n",
              "      <td>53633.02</td>\n",
              "      <td>53876.09</td>\n",
              "      <td>42333.0</td>\n",
              "      <td>39023.329785</td>\n",
              "      <td>NaN</td>\n",
              "      <td>NaN</td>\n",
              "      <td>NaN</td>\n",
              "      <td>NaN</td>\n",
              "    </tr>\n",
              "    <tr>\n",
              "      <th>4158</th>\n",
              "      <td>4159</td>\n",
              "      <td>2021-12-05</td>\n",
              "      <td>49484.22</td>\n",
              "      <td>49235.26</td>\n",
              "      <td>49783.00</td>\n",
              "      <td>47827.0</td>\n",
              "      <td>21727.138212</td>\n",
              "      <td>NaN</td>\n",
              "      <td>NaN</td>\n",
              "      <td>NaN</td>\n",
              "      <td>NaN</td>\n",
              "    </tr>\n",
              "    <tr>\n",
              "      <th>4159</th>\n",
              "      <td>4160</td>\n",
              "      <td>2021-12-06</td>\n",
              "      <td>50529.56</td>\n",
              "      <td>49484.21</td>\n",
              "      <td>51105.00</td>\n",
              "      <td>47200.0</td>\n",
              "      <td>23082.304656</td>\n",
              "      <td>NaN</td>\n",
              "      <td>NaN</td>\n",
              "      <td>NaN</td>\n",
              "      <td>NaN</td>\n",
              "    </tr>\n",
              "    <tr>\n",
              "      <th>4160</th>\n",
              "      <td>4161</td>\n",
              "      <td>2021-12-07</td>\n",
              "      <td>50625.48</td>\n",
              "      <td>50529.56</td>\n",
              "      <td>51995.00</td>\n",
              "      <td>50067.1</td>\n",
              "      <td>14107.332166</td>\n",
              "      <td>NaN</td>\n",
              "      <td>NaN</td>\n",
              "      <td>NaN</td>\n",
              "      <td>NaN</td>\n",
              "    </tr>\n",
              "  </tbody>\n",
              "</table>\n",
              "</div>\n",
              "      <button class=\"colab-df-convert\" onclick=\"convertToInteractive('df-66541dbf-c50e-486c-8fdf-0d8e50a33518')\"\n",
              "              title=\"Convert this dataframe to an interactive table.\"\n",
              "              style=\"display:none;\">\n",
              "        \n",
              "  <svg xmlns=\"http://www.w3.org/2000/svg\" height=\"24px\"viewBox=\"0 0 24 24\"\n",
              "       width=\"24px\">\n",
              "    <path d=\"M0 0h24v24H0V0z\" fill=\"none\"/>\n",
              "    <path d=\"M18.56 5.44l.94 2.06.94-2.06 2.06-.94-2.06-.94-.94-2.06-.94 2.06-2.06.94zm-11 1L8.5 8.5l.94-2.06 2.06-.94-2.06-.94L8.5 2.5l-.94 2.06-2.06.94zm10 10l.94 2.06.94-2.06 2.06-.94-2.06-.94-.94-2.06-.94 2.06-2.06.94z\"/><path d=\"M17.41 7.96l-1.37-1.37c-.4-.4-.92-.59-1.43-.59-.52 0-1.04.2-1.43.59L10.3 9.45l-7.72 7.72c-.78.78-.78 2.05 0 2.83L4 21.41c.39.39.9.59 1.41.59.51 0 1.02-.2 1.41-.59l7.78-7.78 2.81-2.81c.8-.78.8-2.07 0-2.86zM5.41 20L4 18.59l7.72-7.72 1.47 1.35L5.41 20z\"/>\n",
              "  </svg>\n",
              "      </button>\n",
              "      \n",
              "  <style>\n",
              "    .colab-df-container {\n",
              "      display:flex;\n",
              "      flex-wrap:wrap;\n",
              "      gap: 12px;\n",
              "    }\n",
              "\n",
              "    .colab-df-convert {\n",
              "      background-color: #E8F0FE;\n",
              "      border: none;\n",
              "      border-radius: 50%;\n",
              "      cursor: pointer;\n",
              "      display: none;\n",
              "      fill: #1967D2;\n",
              "      height: 32px;\n",
              "      padding: 0 0 0 0;\n",
              "      width: 32px;\n",
              "    }\n",
              "\n",
              "    .colab-df-convert:hover {\n",
              "      background-color: #E2EBFA;\n",
              "      box-shadow: 0px 1px 2px rgba(60, 64, 67, 0.3), 0px 1px 3px 1px rgba(60, 64, 67, 0.15);\n",
              "      fill: #174EA6;\n",
              "    }\n",
              "\n",
              "    [theme=dark] .colab-df-convert {\n",
              "      background-color: #3B4455;\n",
              "      fill: #D2E3FC;\n",
              "    }\n",
              "\n",
              "    [theme=dark] .colab-df-convert:hover {\n",
              "      background-color: #434B5C;\n",
              "      box-shadow: 0px 1px 3px 1px rgba(0, 0, 0, 0.15);\n",
              "      filter: drop-shadow(0px 1px 2px rgba(0, 0, 0, 0.3));\n",
              "      fill: #FFFFFF;\n",
              "    }\n",
              "  </style>\n",
              "\n",
              "      <script>\n",
              "        const buttonEl =\n",
              "          document.querySelector('#df-66541dbf-c50e-486c-8fdf-0d8e50a33518 button.colab-df-convert');\n",
              "        buttonEl.style.display =\n",
              "          google.colab.kernel.accessAllowed ? 'block' : 'none';\n",
              "\n",
              "        async function convertToInteractive(key) {\n",
              "          const element = document.querySelector('#df-66541dbf-c50e-486c-8fdf-0d8e50a33518');\n",
              "          const dataTable =\n",
              "            await google.colab.kernel.invokeFunction('convertToInteractive',\n",
              "                                                     [key], {});\n",
              "          if (!dataTable) return;\n",
              "\n",
              "          const docLinkHtml = 'Like what you see? Visit the ' +\n",
              "            '<a target=\"_blank\" href=https://colab.research.google.com/notebooks/data_table.ipynb>data table notebook</a>'\n",
              "            + ' to learn more about interactive tables.';\n",
              "          element.innerHTML = '';\n",
              "          dataTable['output_type'] = 'display_data';\n",
              "          await google.colab.output.renderOutput(dataTable, element);\n",
              "          const docLink = document.createElement('div');\n",
              "          docLink.innerHTML = docLinkHtml;\n",
              "          element.appendChild(docLink);\n",
              "        }\n",
              "      </script>\n",
              "    </div>\n",
              "  </div>\n",
              "  "
            ],
            "text/plain": [
              "       Sno        Date     Price  ...  Google  Fear_greed_ratio  Fear_greed\n",
              "4156  4157  2021-12-03  53638.04  ...     NaN               NaN         NaN\n",
              "4157  4158  2021-12-04  49241.12  ...     NaN               NaN         NaN\n",
              "4158  4159  2021-12-05  49484.22  ...     NaN               NaN         NaN\n",
              "4159  4160  2021-12-06  50529.56  ...     NaN               NaN         NaN\n",
              "4160  4161  2021-12-07  50625.48  ...     NaN               NaN         NaN\n",
              "\n",
              "[5 rows x 11 columns]"
            ]
          },
          "metadata": {},
          "execution_count": 4
        }
      ],
      "source": [
        "btc_input_df = pd.read_csv('Ethereum.csv',sep=';')\n",
        "btc_input_df.tail()"
      ]
    },
    {
      "cell_type": "code",
      "execution_count": null,
      "metadata": {
        "colab": {
          "base_uri": "https://localhost:8080/"
        },
        "id": "Fv8lBXfb1RWR",
        "outputId": "7eeca181-b4d8-493c-a45f-d004d8020b28"
      },
      "outputs": [
        {
          "output_type": "execute_result",
          "data": {
            "text/plain": [
              "(4161, 11)"
            ]
          },
          "metadata": {},
          "execution_count": 5
        }
      ],
      "source": [
        "btc_input_df.shape"
      ]
    },
    {
      "cell_type": "code",
      "execution_count": null,
      "metadata": {
        "colab": {
          "base_uri": "https://localhost:8080/",
          "height": 300
        },
        "id": "xq0VyN6P1dgc",
        "outputId": "eea031d3-ad15-4c64-fb14-8ee335f710c8"
      },
      "outputs": [
        {
          "output_type": "execute_result",
          "data": {
            "text/html": [
              "\n",
              "  <div id=\"df-f4d8b204-3eef-465f-9d1b-84c550cb1351\">\n",
              "    <div class=\"colab-df-container\">\n",
              "      <div>\n",
              "<style scoped>\n",
              "    .dataframe tbody tr th:only-of-type {\n",
              "        vertical-align: middle;\n",
              "    }\n",
              "\n",
              "    .dataframe tbody tr th {\n",
              "        vertical-align: top;\n",
              "    }\n",
              "\n",
              "    .dataframe thead th {\n",
              "        text-align: right;\n",
              "    }\n",
              "</style>\n",
              "<table border=\"1\" class=\"dataframe\">\n",
              "  <thead>\n",
              "    <tr style=\"text-align: right;\">\n",
              "      <th></th>\n",
              "      <th>Sno</th>\n",
              "      <th>Price</th>\n",
              "      <th>Open</th>\n",
              "      <th>High</th>\n",
              "      <th>Low</th>\n",
              "      <th>Vol.</th>\n",
              "      <th>Change %</th>\n",
              "      <th>Google</th>\n",
              "      <th>Fear_greed_ratio</th>\n",
              "    </tr>\n",
              "  </thead>\n",
              "  <tbody>\n",
              "    <tr>\n",
              "      <th>count</th>\n",
              "      <td>4161.000000</td>\n",
              "      <td>4161.000000</td>\n",
              "      <td>4161.000000</td>\n",
              "      <td>4161.000000</td>\n",
              "      <td>4161.000000</td>\n",
              "      <td>4.161000e+03</td>\n",
              "      <td>4056.000000</td>\n",
              "      <td>4056.000000</td>\n",
              "      <td>1301.000000</td>\n",
              "    </tr>\n",
              "    <tr>\n",
              "      <th>mean</th>\n",
              "      <td>2081.000000</td>\n",
              "      <td>6654.840036</td>\n",
              "      <td>6642.200238</td>\n",
              "      <td>6837.239253</td>\n",
              "      <td>6424.299510</td>\n",
              "      <td>2.857270e+05</td>\n",
              "      <td>0.494423</td>\n",
              "      <td>12.540680</td>\n",
              "      <td>45.845503</td>\n",
              "    </tr>\n",
              "    <tr>\n",
              "      <th>std</th>\n",
              "      <td>1201.321564</td>\n",
              "      <td>13195.135473</td>\n",
              "      <td>13176.350828</td>\n",
              "      <td>13559.295175</td>\n",
              "      <td>12737.073197</td>\n",
              "      <td>9.718767e+05</td>\n",
              "      <td>7.739525</td>\n",
              "      <td>17.520545</td>\n",
              "      <td>22.788863</td>\n",
              "    </tr>\n",
              "    <tr>\n",
              "      <th>min</th>\n",
              "      <td>1.000000</td>\n",
              "      <td>0.100000</td>\n",
              "      <td>0.000000</td>\n",
              "      <td>0.100000</td>\n",
              "      <td>0.000000</td>\n",
              "      <td>0.000000e+00</td>\n",
              "      <td>-57.210000</td>\n",
              "      <td>1.000000</td>\n",
              "      <td>5.000000</td>\n",
              "    </tr>\n",
              "    <tr>\n",
              "      <th>25%</th>\n",
              "      <td>1041.000000</td>\n",
              "      <td>104.000000</td>\n",
              "      <td>104.000000</td>\n",
              "      <td>108.000000</td>\n",
              "      <td>99.000000</td>\n",
              "      <td>2.506000e+04</td>\n",
              "      <td>-1.170000</td>\n",
              "      <td>2.000000</td>\n",
              "      <td>27.000000</td>\n",
              "    </tr>\n",
              "    <tr>\n",
              "      <th>50%</th>\n",
              "      <td>2081.000000</td>\n",
              "      <td>610.300000</td>\n",
              "      <td>609.800000</td>\n",
              "      <td>619.600000</td>\n",
              "      <td>602.000000</td>\n",
              "      <td>6.279000e+04</td>\n",
              "      <td>0.000000</td>\n",
              "      <td>4.000000</td>\n",
              "      <td>41.000000</td>\n",
              "    </tr>\n",
              "    <tr>\n",
              "      <th>75%</th>\n",
              "      <td>3121.000000</td>\n",
              "      <td>7530.800000</td>\n",
              "      <td>7530.400000</td>\n",
              "      <td>7736.600000</td>\n",
              "      <td>7366.300000</td>\n",
              "      <td>1.639200e+05</td>\n",
              "      <td>1.910000</td>\n",
              "      <td>15.000000</td>\n",
              "      <td>63.000000</td>\n",
              "    </tr>\n",
              "    <tr>\n",
              "      <th>max</th>\n",
              "      <td>4161.000000</td>\n",
              "      <td>67554.840000</td>\n",
              "      <td>67554.130000</td>\n",
              "      <td>69000.000000</td>\n",
              "      <td>66261.790000</td>\n",
              "      <td>2.026000e+07</td>\n",
              "      <td>336.840000</td>\n",
              "      <td>100.000000</td>\n",
              "      <td>95.000000</td>\n",
              "    </tr>\n",
              "  </tbody>\n",
              "</table>\n",
              "</div>\n",
              "      <button class=\"colab-df-convert\" onclick=\"convertToInteractive('df-f4d8b204-3eef-465f-9d1b-84c550cb1351')\"\n",
              "              title=\"Convert this dataframe to an interactive table.\"\n",
              "              style=\"display:none;\">\n",
              "        \n",
              "  <svg xmlns=\"http://www.w3.org/2000/svg\" height=\"24px\"viewBox=\"0 0 24 24\"\n",
              "       width=\"24px\">\n",
              "    <path d=\"M0 0h24v24H0V0z\" fill=\"none\"/>\n",
              "    <path d=\"M18.56 5.44l.94 2.06.94-2.06 2.06-.94-2.06-.94-.94-2.06-.94 2.06-2.06.94zm-11 1L8.5 8.5l.94-2.06 2.06-.94-2.06-.94L8.5 2.5l-.94 2.06-2.06.94zm10 10l.94 2.06.94-2.06 2.06-.94-2.06-.94-.94-2.06-.94 2.06-2.06.94z\"/><path d=\"M17.41 7.96l-1.37-1.37c-.4-.4-.92-.59-1.43-.59-.52 0-1.04.2-1.43.59L10.3 9.45l-7.72 7.72c-.78.78-.78 2.05 0 2.83L4 21.41c.39.39.9.59 1.41.59.51 0 1.02-.2 1.41-.59l7.78-7.78 2.81-2.81c.8-.78.8-2.07 0-2.86zM5.41 20L4 18.59l7.72-7.72 1.47 1.35L5.41 20z\"/>\n",
              "  </svg>\n",
              "      </button>\n",
              "      \n",
              "  <style>\n",
              "    .colab-df-container {\n",
              "      display:flex;\n",
              "      flex-wrap:wrap;\n",
              "      gap: 12px;\n",
              "    }\n",
              "\n",
              "    .colab-df-convert {\n",
              "      background-color: #E8F0FE;\n",
              "      border: none;\n",
              "      border-radius: 50%;\n",
              "      cursor: pointer;\n",
              "      display: none;\n",
              "      fill: #1967D2;\n",
              "      height: 32px;\n",
              "      padding: 0 0 0 0;\n",
              "      width: 32px;\n",
              "    }\n",
              "\n",
              "    .colab-df-convert:hover {\n",
              "      background-color: #E2EBFA;\n",
              "      box-shadow: 0px 1px 2px rgba(60, 64, 67, 0.3), 0px 1px 3px 1px rgba(60, 64, 67, 0.15);\n",
              "      fill: #174EA6;\n",
              "    }\n",
              "\n",
              "    [theme=dark] .colab-df-convert {\n",
              "      background-color: #3B4455;\n",
              "      fill: #D2E3FC;\n",
              "    }\n",
              "\n",
              "    [theme=dark] .colab-df-convert:hover {\n",
              "      background-color: #434B5C;\n",
              "      box-shadow: 0px 1px 3px 1px rgba(0, 0, 0, 0.15);\n",
              "      filter: drop-shadow(0px 1px 2px rgba(0, 0, 0, 0.3));\n",
              "      fill: #FFFFFF;\n",
              "    }\n",
              "  </style>\n",
              "\n",
              "      <script>\n",
              "        const buttonEl =\n",
              "          document.querySelector('#df-f4d8b204-3eef-465f-9d1b-84c550cb1351 button.colab-df-convert');\n",
              "        buttonEl.style.display =\n",
              "          google.colab.kernel.accessAllowed ? 'block' : 'none';\n",
              "\n",
              "        async function convertToInteractive(key) {\n",
              "          const element = document.querySelector('#df-f4d8b204-3eef-465f-9d1b-84c550cb1351');\n",
              "          const dataTable =\n",
              "            await google.colab.kernel.invokeFunction('convertToInteractive',\n",
              "                                                     [key], {});\n",
              "          if (!dataTable) return;\n",
              "\n",
              "          const docLinkHtml = 'Like what you see? Visit the ' +\n",
              "            '<a target=\"_blank\" href=https://colab.research.google.com/notebooks/data_table.ipynb>data table notebook</a>'\n",
              "            + ' to learn more about interactive tables.';\n",
              "          element.innerHTML = '';\n",
              "          dataTable['output_type'] = 'display_data';\n",
              "          await google.colab.output.renderOutput(dataTable, element);\n",
              "          const docLink = document.createElement('div');\n",
              "          docLink.innerHTML = docLinkHtml;\n",
              "          element.appendChild(docLink);\n",
              "        }\n",
              "      </script>\n",
              "    </div>\n",
              "  </div>\n",
              "  "
            ],
            "text/plain": [
              "               Sno         Price  ...       Google  Fear_greed_ratio\n",
              "count  4161.000000   4161.000000  ...  4056.000000       1301.000000\n",
              "mean   2081.000000   6654.840036  ...    12.540680         45.845503\n",
              "std    1201.321564  13195.135473  ...    17.520545         22.788863\n",
              "min       1.000000      0.100000  ...     1.000000          5.000000\n",
              "25%    1041.000000    104.000000  ...     2.000000         27.000000\n",
              "50%    2081.000000    610.300000  ...     4.000000         41.000000\n",
              "75%    3121.000000   7530.800000  ...    15.000000         63.000000\n",
              "max    4161.000000  67554.840000  ...   100.000000         95.000000\n",
              "\n",
              "[8 rows x 9 columns]"
            ]
          },
          "metadata": {},
          "execution_count": 6
        }
      ],
      "source": [
        "btc_input_df.describe()"
      ]
    },
    {
      "cell_type": "code",
      "execution_count": null,
      "metadata": {
        "colab": {
          "base_uri": "https://localhost:8080/"
        },
        "id": "VPV6fxm41h9Q",
        "outputId": "d7de3646-effd-47b7-b40b-acd0767b7ec6"
      },
      "outputs": [
        {
          "output_type": "stream",
          "name": "stdout",
          "text": [
            "<class 'pandas.core.frame.DataFrame'>\n",
            "RangeIndex: 4161 entries, 0 to 4160\n",
            "Data columns (total 11 columns):\n",
            " #   Column            Non-Null Count  Dtype  \n",
            "---  ------            --------------  -----  \n",
            " 0   Sno               4161 non-null   int64  \n",
            " 1   Date              4161 non-null   object \n",
            " 2   Price             4161 non-null   float64\n",
            " 3   Open              4161 non-null   float64\n",
            " 4   High              4161 non-null   float64\n",
            " 5   Low               4161 non-null   float64\n",
            " 6   Vol.              4161 non-null   float64\n",
            " 7   Change %          4056 non-null   float64\n",
            " 8   Google            4056 non-null   float64\n",
            " 9   Fear_greed_ratio  1301 non-null   float64\n",
            " 10  Fear_greed        1301 non-null   object \n",
            "dtypes: float64(8), int64(1), object(2)\n",
            "memory usage: 357.7+ KB\n"
          ]
        }
      ],
      "source": [
        "btc_input_df.info()"
      ]
    },
    {
      "cell_type": "code",
      "execution_count": null,
      "metadata": {
        "id": "VRJnFDwO2bIt"
      },
      "outputs": [],
      "source": [
        "btc_input_df_datetype = btc_input_df.astype({'Date': 'datetime64'})"
      ]
    },
    {
      "cell_type": "code",
      "execution_count": null,
      "metadata": {
        "colab": {
          "base_uri": "https://localhost:8080/"
        },
        "id": "V4nsHn7G2la0",
        "outputId": "61ddbf41-fef1-4f78-c11f-7af37f6d6971"
      },
      "outputs": [
        {
          "output_type": "stream",
          "name": "stdout",
          "text": [
            "<class 'pandas.core.frame.DataFrame'>\n",
            "RangeIndex: 4161 entries, 0 to 4160\n",
            "Data columns (total 11 columns):\n",
            " #   Column            Non-Null Count  Dtype         \n",
            "---  ------            --------------  -----         \n",
            " 0   Sno               4161 non-null   int64         \n",
            " 1   Date              4161 non-null   datetime64[ns]\n",
            " 2   Price             4161 non-null   float64       \n",
            " 3   Open              4161 non-null   float64       \n",
            " 4   High              4161 non-null   float64       \n",
            " 5   Low               4161 non-null   float64       \n",
            " 6   Vol.              4161 non-null   float64       \n",
            " 7   Change %          4056 non-null   float64       \n",
            " 8   Google            4056 non-null   float64       \n",
            " 9   Fear_greed_ratio  1301 non-null   float64       \n",
            " 10  Fear_greed        1301 non-null   object        \n",
            "dtypes: datetime64[ns](1), float64(8), int64(1), object(1)\n",
            "memory usage: 357.7+ KB\n"
          ]
        }
      ],
      "source": [
        "btc_input_df_datetype.info()"
      ]
    },
    {
      "cell_type": "code",
      "execution_count": null,
      "metadata": {
        "colab": {
          "base_uri": "https://localhost:8080/"
        },
        "id": "XFKxfx7y2tbJ",
        "outputId": "8c273467-4e1f-4814-d1c0-c527e372d60c"
      },
      "outputs": [
        {
          "output_type": "stream",
          "name": "stdout",
          "text": [
            "Null Values: 5930\n"
          ]
        }
      ],
      "source": [
        "print('Null Values:', btc_input_df_datetype.isnull().values.sum())"
      ]
    },
    {
      "cell_type": "code",
      "execution_count": null,
      "metadata": {
        "colab": {
          "base_uri": "https://localhost:8080/"
        },
        "id": "YskSXpV624Uo",
        "outputId": "fb85e3f3-bf1a-4358-bcd4-12c532f546d1"
      },
      "outputs": [
        {
          "output_type": "stream",
          "name": "stdout",
          "text": [
            "If any NA values: True\n"
          ]
        }
      ],
      "source": [
        "print('If any NA values:', btc_input_df_datetype.isnull().values.any())"
      ]
    },
    {
      "cell_type": "code",
      "execution_count": null,
      "metadata": {
        "colab": {
          "base_uri": "https://localhost:8080/",
          "height": 471
        },
        "id": "e4dmhx2R3nZS",
        "outputId": "44af9c73-73b3-4560-9b53-9ebaa1c418ef"
      },
      "outputs": [
        {
          "output_type": "execute_result",
          "data": {
            "text/plain": [
              "<matplotlib.axes._subplots.AxesSubplot at 0x7f84fded1890>"
            ]
          },
          "metadata": {},
          "execution_count": 12
        },
        {
          "output_type": "display_data",
          "data": {
            "image/png": "[encoded data removed]",
            "text/plain": [
              "<Figure size 1728x504 with 1 Axes>"
            ]
          },
          "metadata": {}
        }
      ],
      "source": [
        "btc_input_df_datetype.set_index(\"Date\").Price.plot(figsize=(24,7), title=\"Bitcoin Weighted Price\")"
      ]
    },
    {
      "cell_type": "code",
      "execution_count": null,
      "metadata": {
        "colab": {
          "base_uri": "https://localhost:8080/",
          "height": 584
        },
        "id": "_-LDzbOk35NS",
        "outputId": "33440bc1-dc60-4769-9d75-2e14ef6ed5e3"
      },
      "outputs": [
        {
          "output_type": "stream",
          "name": "stderr",
          "text": [
            "No handles with labels found to put in legend.\n"
          ]
        },
        {
          "output_type": "display_data",
          "data": {
            "image/png": "[encoded data removed]",
            "text/plain": [
              "<Figure size 1080x864 with 5 Axes>"
            ]
          },
          "metadata": {}
        }
      ],
      "source": [
        "plt.figure(figsize=(15,12))\n",
        "plt.suptitle('Lag Plots', fontsize=22)\n",
        "\n",
        "plt.subplot(3,3,1)\n",
        "pd.plotting.lag_plot(btc_input_df_datetype['Price'], lag=1) #minute lag\n",
        "plt.title('1-Minute Lag')\n",
        "\n",
        "plt.subplot(3,3,2)\n",
        "pd.plotting.lag_plot(btc_input_df_datetype['Price'], lag=60) #hourly lag\n",
        "plt.title('1-Hour Lag')\n",
        "\n",
        "plt.subplot(3,3,3)\n",
        "pd.plotting.lag_plot(btc_input_df_datetype['Price'], lag=1440) #daily lag\n",
        "plt.title('Daily Lag')\n",
        "\n",
        "plt.subplot(3,3,4)\n",
        "pd.plotting.lag_plot(btc_input_df_datetype['Price'], lag=10080) #weekly lag\n",
        "plt.title('Weekly Lag')\n",
        "\n",
        "plt.subplot(3,3,5)\n",
        "pd.plotting.lag_plot(btc_input_df_datetype['Price'], lag=43200) #month lag\n",
        "plt.title('1-Month Lag')\n",
        "\n",
        "plt.legend()\n",
        "plt.show()"
      ]
    },
    {
      "cell_type": "code",
      "execution_count": null,
      "metadata": {
        "colab": {
          "base_uri": "https://localhost:8080/",
          "height": 206
        },
        "id": "pUlQ2_y-4QvA",
        "outputId": "4231832c-c3f7-40c9-e1a3-f12420bee6e2"
      },
      "outputs": [
        {
          "output_type": "display_data",
          "data": {
            "text/html": [
              "\n",
              "  <div id=\"df-63b16ed1-5f28-4d0e-99aa-28f931e61bbc\">\n",
              "    <div class=\"colab-df-container\">\n",
              "      <div>\n",
              "<style scoped>\n",
              "    .dataframe tbody tr th:only-of-type {\n",
              "        vertical-align: middle;\n",
              "    }\n",
              "\n",
              "    .dataframe tbody tr th {\n",
              "        vertical-align: top;\n",
              "    }\n",
              "\n",
              "    .dataframe thead th {\n",
              "        text-align: right;\n",
              "    }\n",
              "</style>\n",
              "<table border=\"1\" class=\"dataframe\">\n",
              "  <thead>\n",
              "    <tr style=\"text-align: right;\">\n",
              "      <th></th>\n",
              "      <th>Sno</th>\n",
              "      <th>Date</th>\n",
              "      <th>Price</th>\n",
              "      <th>Open</th>\n",
              "      <th>High</th>\n",
              "      <th>Low</th>\n",
              "      <th>Vol.</th>\n",
              "      <th>Change %</th>\n",
              "      <th>Google</th>\n",
              "      <th>Fear_greed_ratio</th>\n",
              "      <th>Fear_greed</th>\n",
              "      <th>date</th>\n",
              "    </tr>\n",
              "  </thead>\n",
              "  <tbody>\n",
              "    <tr>\n",
              "      <th>0</th>\n",
              "      <td>1</td>\n",
              "      <td>2010-07-18</td>\n",
              "      <td>0.1</td>\n",
              "      <td>0.0</td>\n",
              "      <td>0.1</td>\n",
              "      <td>0.1</td>\n",
              "      <td>80.0</td>\n",
              "      <td>0.0</td>\n",
              "      <td>1.0</td>\n",
              "      <td>NaN</td>\n",
              "      <td>NaN</td>\n",
              "      <td>2010-07-18</td>\n",
              "    </tr>\n",
              "    <tr>\n",
              "      <th>1</th>\n",
              "      <td>2</td>\n",
              "      <td>2010-07-19</td>\n",
              "      <td>0.1</td>\n",
              "      <td>0.1</td>\n",
              "      <td>0.1</td>\n",
              "      <td>0.1</td>\n",
              "      <td>570.0</td>\n",
              "      <td>0.0</td>\n",
              "      <td>1.0</td>\n",
              "      <td>NaN</td>\n",
              "      <td>NaN</td>\n",
              "      <td>2010-07-19</td>\n",
              "    </tr>\n",
              "    <tr>\n",
              "      <th>2</th>\n",
              "      <td>3</td>\n",
              "      <td>2010-07-20</td>\n",
              "      <td>0.1</td>\n",
              "      <td>0.1</td>\n",
              "      <td>0.1</td>\n",
              "      <td>0.1</td>\n",
              "      <td>260.0</td>\n",
              "      <td>0.0</td>\n",
              "      <td>1.0</td>\n",
              "      <td>NaN</td>\n",
              "      <td>NaN</td>\n",
              "      <td>2010-07-20</td>\n",
              "    </tr>\n",
              "    <tr>\n",
              "      <th>3</th>\n",
              "      <td>4</td>\n",
              "      <td>2010-07-21</td>\n",
              "      <td>0.1</td>\n",
              "      <td>0.1</td>\n",
              "      <td>0.1</td>\n",
              "      <td>0.1</td>\n",
              "      <td>580.0</td>\n",
              "      <td>0.0</td>\n",
              "      <td>1.0</td>\n",
              "      <td>NaN</td>\n",
              "      <td>NaN</td>\n",
              "      <td>2010-07-21</td>\n",
              "    </tr>\n",
              "    <tr>\n",
              "      <th>4</th>\n",
              "      <td>5</td>\n",
              "      <td>2010-07-22</td>\n",
              "      <td>0.1</td>\n",
              "      <td>0.1</td>\n",
              "      <td>0.1</td>\n",
              "      <td>0.1</td>\n",
              "      <td>2160.0</td>\n",
              "      <td>0.0</td>\n",
              "      <td>1.0</td>\n",
              "      <td>NaN</td>\n",
              "      <td>NaN</td>\n",
              "      <td>2010-07-22</td>\n",
              "    </tr>\n",
              "  </tbody>\n",
              "</table>\n",
              "</div>\n",
              "      <button class=\"colab-df-convert\" onclick=\"convertToInteractive('df-63b16ed1-5f28-4d0e-99aa-28f931e61bbc')\"\n",
              "              title=\"Convert this dataframe to an interactive table.\"\n",
              "              style=\"display:none;\">\n",
              "        \n",
              "  <svg xmlns=\"http://www.w3.org/2000/svg\" height=\"24px\"viewBox=\"0 0 24 24\"\n",
              "       width=\"24px\">\n",
              "    <path d=\"M0 0h24v24H0V0z\" fill=\"none\"/>\n",
              "    <path d=\"M18.56 5.44l.94 2.06.94-2.06 2.06-.94-2.06-.94-.94-2.06-.94 2.06-2.06.94zm-11 1L8.5 8.5l.94-2.06 2.06-.94-2.06-.94L8.5 2.5l-.94 2.06-2.06.94zm10 10l.94 2.06.94-2.06 2.06-.94-2.06-.94-.94-2.06-.94 2.06-2.06.94z\"/><path d=\"M17.41 7.96l-1.37-1.37c-.4-.4-.92-.59-1.43-.59-.52 0-1.04.2-1.43.59L10.3 9.45l-7.72 7.72c-.78.78-.78 2.05 0 2.83L4 21.41c.39.39.9.59 1.41.59.51 0 1.02-.2 1.41-.59l7.78-7.78 2.81-2.81c.8-.78.8-2.07 0-2.86zM5.41 20L4 18.59l7.72-7.72 1.47 1.35L5.41 20z\"/>\n",
              "  </svg>\n",
              "      </button>\n",
              "      \n",
              "  <style>\n",
              "    .colab-df-container {\n",
              "      display:flex;\n",
              "      flex-wrap:wrap;\n",
              "      gap: 12px;\n",
              "    }\n",
              "\n",
              "    .colab-df-convert {\n",
              "      background-color: #E8F0FE;\n",
              "      border: none;\n",
              "      border-radius: 50%;\n",
              "      cursor: pointer;\n",
              "      display: none;\n",
              "      fill: #1967D2;\n",
              "      height: 32px;\n",
              "      padding: 0 0 0 0;\n",
              "      width: 32px;\n",
              "    }\n",
              "\n",
              "    .colab-df-convert:hover {\n",
              "      background-color: #E2EBFA;\n",
              "      box-shadow: 0px 1px 2px rgba(60, 64, 67, 0.3), 0px 1px 3px 1px rgba(60, 64, 67, 0.15);\n",
              "      fill: #174EA6;\n",
              "    }\n",
              "\n",
              "    [theme=dark] .colab-df-convert {\n",
              "      background-color: #3B4455;\n",
              "      fill: #D2E3FC;\n",
              "    }\n",
              "\n",
              "    [theme=dark] .colab-df-convert:hover {\n",
              "      background-color: #434B5C;\n",
              "      box-shadow: 0px 1px 3px 1px rgba(0, 0, 0, 0.15);\n",
              "      filter: drop-shadow(0px 1px 2px rgba(0, 0, 0, 0.3));\n",
              "      fill: #FFFFFF;\n",
              "    }\n",
              "  </style>\n",
              "\n",
              "      <script>\n",
              "        const buttonEl =\n",
              "          document.querySelector('#df-63b16ed1-5f28-4d0e-99aa-28f931e61bbc button.colab-df-convert');\n",
              "        buttonEl.style.display =\n",
              "          google.colab.kernel.accessAllowed ? 'block' : 'none';\n",
              "\n",
              "        async function convertToInteractive(key) {\n",
              "          const element = document.querySelector('#df-63b16ed1-5f28-4d0e-99aa-28f931e61bbc');\n",
              "          const dataTable =\n",
              "            await google.colab.kernel.invokeFunction('convertToInteractive',\n",
              "                                                     [key], {});\n",
              "          if (!dataTable) return;\n",
              "\n",
              "          const docLinkHtml = 'Like what you see? Visit the ' +\n",
              "            '<a target=\"_blank\" href=https://colab.research.google.com/notebooks/data_table.ipynb>data table notebook</a>'\n",
              "            + ' to learn more about interactive tables.';\n",
              "          element.innerHTML = '';\n",
              "          dataTable['output_type'] = 'display_data';\n",
              "          await google.colab.output.renderOutput(dataTable, element);\n",
              "          const docLink = document.createElement('div');\n",
              "          docLink.innerHTML = docLinkHtml;\n",
              "          element.appendChild(docLink);\n",
              "        }\n",
              "      </script>\n",
              "    </div>\n",
              "  </div>\n",
              "  "
            ],
            "text/plain": [
              "   Sno       Date  Price  Open  ...  Google  Fear_greed_ratio  Fear_greed        date\n",
              "0    1 2010-07-18    0.1   0.0  ...     1.0               NaN         NaN  2010-07-18\n",
              "1    2 2010-07-19    0.1   0.1  ...     1.0               NaN         NaN  2010-07-19\n",
              "2    3 2010-07-20    0.1   0.1  ...     1.0               NaN         NaN  2010-07-20\n",
              "3    4 2010-07-21    0.1   0.1  ...     1.0               NaN         NaN  2010-07-21\n",
              "4    5 2010-07-22    0.1   0.1  ...     1.0               NaN         NaN  2010-07-22\n",
              "\n",
              "[5 rows x 12 columns]"
            ]
          },
          "metadata": {}
        }
      ],
      "source": [
        "btc_input_df_datetype['date'] = pd.to_datetime(btc_input_df_datetype['Date'], unit='s').dt.date\n",
        "\n",
        "display(btc_input_df_datetype.head())"
      ]
    },
    {
      "cell_type": "code",
      "execution_count": null,
      "metadata": {
        "id": "EICRnkFe4rue"
      },
      "outputs": [],
      "source": [
        "group = btc_input_df_datetype.groupby('date')\n",
        "\n",
        "btc_closing_price_groupby_date = group['Price'].mean()"
      ]
    },
    {
      "cell_type": "code",
      "execution_count": null,
      "metadata": {
        "colab": {
          "base_uri": "https://localhost:8080/"
        },
        "id": "nV8ob8vn4-az",
        "outputId": "5cbc3ea3-1480-4ac1-a72e-39750e52d2e8"
      },
      "outputs": [
        {
          "output_type": "execute_result",
          "data": {
            "text/plain": [
              "date\n",
              "2010-07-18    0.1\n",
              "2010-07-19    0.1\n",
              "2010-07-20    0.1\n",
              "2010-07-21    0.1\n",
              "2010-07-22    0.1\n",
              "Name: Price, dtype: float64"
            ]
          },
          "metadata": {},
          "execution_count": 17
        }
      ],
      "source": [
        "btc_closing_price_groupby_date.head()"
      ]
    },
    {
      "cell_type": "code",
      "execution_count": null,
      "metadata": {
        "colab": {
          "base_uri": "https://localhost:8080/"
        },
        "id": "GnxCyLSn5EPY",
        "outputId": "66ed04ac-cbbb-476f-b3ac-423b72f6d595"
      },
      "outputs": [
        {
          "output_type": "execute_result",
          "data": {
            "text/plain": [
              "(4161,)"
            ]
          },
          "metadata": {},
          "execution_count": 18
        }
      ],
      "source": [
        "btc_closing_price_groupby_date.shape"
      ]
    },
    {
      "cell_type": "code",
      "execution_count": null,
      "metadata": {
        "id": "onbVi6Rr5aM0"
      },
      "outputs": [],
      "source": [
        "prediction_days = 60\n",
        "\n",
        "# Set Train data to be uplo ( Total data length - prediction_days )\n",
        "df_train= btc_closing_price_groupby_date[:len(btc_closing_price_groupby_date)-prediction_days].values.reshape(-1,1)\n",
        "\n",
        "\n",
        "# Set Test data to be the last prediction_days (or 60 days in this case)\n",
        "df_test= btc_closing_price_groupby_date[len(btc_closing_price_groupby_date)-prediction_days:].values.reshape(-1,1)"
      ]
    },
    {
      "cell_type": "code",
      "execution_count": null,
      "metadata": {
        "colab": {
          "base_uri": "https://localhost:8080/"
        },
        "id": "xJDZFioa50-2",
        "outputId": "53a8fa7d-9ab3-4026-b815-df441efd240e"
      },
      "outputs": [
        {
          "output_type": "execute_result",
          "data": {
            "text/plain": [
              "(4101, 1)"
            ]
          },
          "metadata": {},
          "execution_count": 20
        }
      ],
      "source": [
        "df_train.shape"
      ]
    },
    {
      "cell_type": "code",
      "execution_count": null,
      "metadata": {
        "colab": {
          "base_uri": "https://localhost:8080/"
        },
        "id": "a0J_jy_254lg",
        "outputId": "20aa9909-3fc4-4053-e5f4-fd572db7d2b1"
      },
      "outputs": [
        {
          "output_type": "execute_result",
          "data": {
            "text/plain": [
              "(60, 1)"
            ]
          },
          "metadata": {},
          "execution_count": 21
        }
      ],
      "source": [
        "df_test.shape"
      ]
    },
    {
      "cell_type": "code",
      "execution_count": null,
      "metadata": {
        "colab": {
          "base_uri": "https://localhost:8080/",
          "height": 442
        },
        "id": "38ngNq2_6HPv",
        "outputId": "e17a035b-be8f-48a9-a011-42f13d919e1f"
      },
      "outputs": [
        {
          "output_type": "execute_result",
          "data": {
            "text/plain": [
              "<matplotlib.legend.Legend at 0x7f84fc1c3fd0>"
            ]
          },
          "metadata": {},
          "execution_count": 22
        },
        {
          "output_type": "display_data",
          "data": {
            "image/png": "[encoded data removed]",
            "text/plain": [
              "<Figure size 936x504 with 1 Axes>"
            ]
          },
          "metadata": {}
        }
      ],
      "source": [
        "chosen_col = 'Price'\n",
        "\n",
        "fig, ax = plt.subplots(1, figsize=(13, 7))\n",
        "ax.plot(df_train, label='Train', linewidth=2)\n",
        "ax.plot(df_test, label='Test', linewidth=2)\n",
        "ax.set_ylabel('Price USD', fontsize=14)\n",
        "ax.set_title('', fontsize=16)\n",
        "ax.legend(loc='best', fontsize=16)"
      ]
    },
    {
      "cell_type": "code",
      "execution_count": null,
      "metadata": {
        "id": "H8ZUGeVx6Z-t"
      },
      "outputs": [],
      "source": [
        "scaler_train = MinMaxScaler(feature_range=(0, 1))\n",
        "scaled_train = scaler_train.fit_transform(df_train)\n",
        "\n",
        "scaler_test = MinMaxScaler(feature_range=(0, 1))\n",
        "scaled_test = scaler_test.fit_transform(df_test)"
      ]
    },
    {
      "cell_type": "code",
      "source": [
        "df_train\n"
      ],
      "metadata": {
        "id": "6f8FakpF8pcX",
        "outputId": "916158f5-d22c-4e01-e507-d8b566b90da5",
        "colab": {
          "base_uri": "https://localhost:8080/"
        }
      },
      "execution_count": null,
      "outputs": [
        {
          "output_type": "execute_result",
          "data": {
            "text/plain": [
              "array([[1.000000e-01],\n",
              "       [1.000000e-01],\n",
              "       [1.000000e-01],\n",
              "       ...,\n",
              "       [5.533948e+04],\n",
              "       [5.379782e+04],\n",
              "       [5.396382e+04]])"
            ]
          },
          "metadata": {},
          "execution_count": 24
        }
      ]
    },
    {
      "cell_type": "code",
      "execution_count": null,
      "metadata": {
        "colab": {
          "base_uri": "https://localhost:8080/"
        },
        "id": "BNnw0D4c6fEg",
        "outputId": "393a6975-e45a-4ffe-bbdb-121168e59830"
      },
      "outputs": [
        {
          "output_type": "execute_result",
          "data": {
            "text/plain": [
              "array([[0.        ],\n",
              "       [0.        ],\n",
              "       [0.        ],\n",
              "       ...,\n",
              "       [0.87092671],\n",
              "       [0.84666419],\n",
              "       [0.84927669]])"
            ]
          },
          "metadata": {},
          "execution_count": 24
        }
      ],
      "source": [
        "scaled_train"
      ]
    },
    {
      "cell_type": "code",
      "execution_count": null,
      "metadata": {
        "colab": {
          "base_uri": "https://localhost:8080/"
        },
        "id": "v31xiFMC6zpC",
        "outputId": "f441231b-e35c-4482-a39d-cff717d50397"
      },
      "outputs": [
        {
          "output_type": "execute_result",
          "data": {
            "text/plain": [
              "array([[0.31239803],\n",
              "       [0.29755888],\n",
              "       [0.45028099],\n",
              "       [0.36933949],\n",
              "       [0.44372197],\n",
              "       [0.44329552],\n",
              "       [0.68005135],\n",
              "       [0.63538702],\n",
              "       [0.67086261],\n",
              "       [0.69899998],\n",
              "       [0.82244459],\n",
              "       [0.9165489 ],\n",
              "       [0.70782452],\n",
              "       [0.6250243 ],\n",
              "       [0.65846207],\n",
              "       [0.63413441],\n",
              "       [0.75584971],\n",
              "       [0.60591185],\n",
              "       [0.50313918],\n",
              "       [0.61978287],\n",
              "       [0.71179422],\n",
              "       [0.6908094 ],\n",
              "       [0.66084662],\n",
              "       [0.63932505],\n",
              "       [0.76584058],\n",
              "       [0.74776124],\n",
              "       [0.66635178],\n",
              "       [0.64241618],\n",
              "       [0.67152878],\n",
              "       [0.7681678 ],\n",
              "       [1.        ],\n",
              "       [0.96668181],\n",
              "       [0.85570163],\n",
              "       [0.84998952],\n",
              "       [0.81396789],\n",
              "       [0.82773407],\n",
              "       [0.88807189],\n",
              "       [0.78539314],\n",
              "       [0.59337262],\n",
              "       [0.6066703 ],\n",
              "       [0.41809529],\n",
              "       [0.48493916],\n",
              "       [0.57441306],\n",
              "       [0.51491942],\n",
              "       [0.38439432],\n",
              "       [0.45461708],\n",
              "       [0.43254675],\n",
              "       [0.53217751],\n",
              "       [0.24662111],\n",
              "       [0.30130034],\n",
              "       [0.44098359],\n",
              "       [0.4694262 ],\n",
              "       [0.423008  ],\n",
              "       [0.43603266],\n",
              "       [0.39753474],\n",
              "       [0.24008885],\n",
              "       [0.        ],\n",
              "       [0.0132742 ],\n",
              "       [0.07035381],\n",
              "       [0.07559141]])"
            ]
          },
          "metadata": {},
          "execution_count": 25
        }
      ],
      "source": [
        "scaled_test\n"
      ]
    },
    {
      "cell_type": "code",
      "execution_count": null,
      "metadata": {
        "colab": {
          "base_uri": "https://localhost:8080/"
        },
        "id": "wWbTfpUH7n2c",
        "outputId": "3adc1cad-e13e-44e9-d794-22a43030f441"
      },
      "outputs": [
        {
          "output_type": "stream",
          "name": "stdout",
          "text": [
            "trainX:  (4096, 5)\n",
            "trainY:  (4096,)\n",
            "testX:  (55, 5)\n",
            "testY (55,)\n"
          ]
        }
      ],
      "source": [
        "def dataset_generator_lstm(dataset, look_back=5):\n",
        "    # A “lookback period” defines the window-size of how many\n",
        "    # previous timesteps are used in order to predict\n",
        "    # the subsequent timestep. \n",
        "    dataX, dataY = [], []\n",
        "    \n",
        "    for i in range(len(dataset) - look_back):\n",
        "        window_size_x = dataset[i:(i + look_back), 0]\n",
        "        dataX.append(window_size_x)\n",
        "        dataY.append(dataset[i + look_back, 0]) # this is the label or actual y-value\n",
        "    return np.array(dataX), np.array(dataY)\n",
        "\n",
        "trainX, trainY = dataset_generator_lstm(scaled_train)\n",
        "\n",
        "testX, testY = dataset_generator_lstm(scaled_test)\n",
        "\n",
        "\n",
        "print(\"trainX: \", trainX.shape)\n",
        "print(\"trainY: \", trainY.shape)\n",
        "print(\"testX: \", testX.shape)\n",
        "print(\"testY\", testY.shape)"
      ]
    },
    {
      "cell_type": "code",
      "execution_count": null,
      "metadata": {
        "colab": {
          "base_uri": "https://localhost:8080/"
        },
        "id": "ASK6rWqB8ogd",
        "outputId": "6b006849-afaa-41ed-dc4f-4f704d2c0811"
      },
      "outputs": [
        {
          "output_type": "stream",
          "name": "stdout",
          "text": [
            "[[0.31239803 0.29755888 0.45028099 0.36933949 0.44372197]\n",
            " [0.29755888 0.45028099 0.36933949 0.44372197 0.44329552]\n",
            " [0.45028099 0.36933949 0.44372197 0.44329552 0.68005135]\n",
            " [0.36933949 0.44372197 0.44329552 0.68005135 0.63538702]\n",
            " [0.44372197 0.44329552 0.68005135 0.63538702 0.67086261]\n",
            " [0.44329552 0.68005135 0.63538702 0.67086261 0.69899998]\n",
            " [0.68005135 0.63538702 0.67086261 0.69899998 0.82244459]\n",
            " [0.63538702 0.67086261 0.69899998 0.82244459 0.9165489 ]\n",
            " [0.67086261 0.69899998 0.82244459 0.9165489  0.70782452]\n",
            " [0.69899998 0.82244459 0.9165489  0.70782452 0.6250243 ]\n",
            " [0.82244459 0.9165489  0.70782452 0.6250243  0.65846207]\n",
            " [0.9165489  0.70782452 0.6250243  0.65846207 0.63413441]\n",
            " [0.70782452 0.6250243  0.65846207 0.63413441 0.75584971]\n",
            " [0.6250243  0.65846207 0.63413441 0.75584971 0.60591185]\n",
            " [0.65846207 0.63413441 0.75584971 0.60591185 0.50313918]\n",
            " [0.63413441 0.75584971 0.60591185 0.50313918 0.61978287]\n",
            " [0.75584971 0.60591185 0.50313918 0.61978287 0.71179422]\n",
            " [0.60591185 0.50313918 0.61978287 0.71179422 0.6908094 ]\n",
            " [0.50313918 0.61978287 0.71179422 0.6908094  0.66084662]\n",
            " [0.61978287 0.71179422 0.6908094  0.66084662 0.63932505]\n",
            " [0.71179422 0.6908094  0.66084662 0.63932505 0.76584058]\n",
            " [0.6908094  0.66084662 0.63932505 0.76584058 0.74776124]\n",
            " [0.66084662 0.63932505 0.76584058 0.74776124 0.66635178]\n",
            " [0.63932505 0.76584058 0.74776124 0.66635178 0.64241618]\n",
            " [0.76584058 0.74776124 0.66635178 0.64241618 0.67152878]\n",
            " [0.74776124 0.66635178 0.64241618 0.67152878 0.7681678 ]\n",
            " [0.66635178 0.64241618 0.67152878 0.7681678  1.        ]\n",
            " [0.64241618 0.67152878 0.7681678  1.         0.96668181]\n",
            " [0.67152878 0.7681678  1.         0.96668181 0.85570163]\n",
            " [0.7681678  1.         0.96668181 0.85570163 0.84998952]\n",
            " [1.         0.96668181 0.85570163 0.84998952 0.81396789]\n",
            " [0.96668181 0.85570163 0.84998952 0.81396789 0.82773407]\n",
            " [0.85570163 0.84998952 0.81396789 0.82773407 0.88807189]\n",
            " [0.84998952 0.81396789 0.82773407 0.88807189 0.78539314]\n",
            " [0.81396789 0.82773407 0.88807189 0.78539314 0.59337262]\n",
            " [0.82773407 0.88807189 0.78539314 0.59337262 0.6066703 ]\n",
            " [0.88807189 0.78539314 0.59337262 0.6066703  0.41809529]\n",
            " [0.78539314 0.59337262 0.6066703  0.41809529 0.48493916]\n",
            " [0.59337262 0.6066703  0.41809529 0.48493916 0.57441306]\n",
            " [0.6066703  0.41809529 0.48493916 0.57441306 0.51491942]\n",
            " [0.41809529 0.48493916 0.57441306 0.51491942 0.38439432]\n",
            " [0.48493916 0.57441306 0.51491942 0.38439432 0.45461708]\n",
            " [0.57441306 0.51491942 0.38439432 0.45461708 0.43254675]\n",
            " [0.51491942 0.38439432 0.45461708 0.43254675 0.53217751]\n",
            " [0.38439432 0.45461708 0.43254675 0.53217751 0.24662111]\n",
            " [0.45461708 0.43254675 0.53217751 0.24662111 0.30130034]\n",
            " [0.43254675 0.53217751 0.24662111 0.30130034 0.44098359]\n",
            " [0.53217751 0.24662111 0.30130034 0.44098359 0.4694262 ]\n",
            " [0.24662111 0.30130034 0.44098359 0.4694262  0.423008  ]\n",
            " [0.30130034 0.44098359 0.4694262  0.423008   0.43603266]\n",
            " [0.44098359 0.4694262  0.423008   0.43603266 0.39753474]\n",
            " [0.4694262  0.423008   0.43603266 0.39753474 0.24008885]\n",
            " [0.423008   0.43603266 0.39753474 0.24008885 0.        ]\n",
            " [0.43603266 0.39753474 0.24008885 0.         0.0132742 ]\n",
            " [0.39753474 0.24008885 0.         0.0132742  0.07035381]]\n",
            "[0.44329552 0.68005135 0.63538702 0.67086261 0.69899998 0.82244459\n",
            " 0.9165489  0.70782452 0.6250243  0.65846207 0.63413441 0.75584971\n",
            " 0.60591185 0.50313918 0.61978287 0.71179422 0.6908094  0.66084662\n",
            " 0.63932505 0.76584058 0.74776124 0.66635178 0.64241618 0.67152878\n",
            " 0.7681678  1.         0.96668181 0.85570163 0.84998952 0.81396789\n",
            " 0.82773407 0.88807189 0.78539314 0.59337262 0.6066703  0.41809529\n",
            " 0.48493916 0.57441306 0.51491942 0.38439432 0.45461708 0.43254675\n",
            " 0.53217751 0.24662111 0.30130034 0.44098359 0.4694262  0.423008\n",
            " 0.43603266 0.39753474 0.24008885 0.         0.0132742  0.07035381\n",
            " 0.07559141]\n"
          ]
        }
      ],
      "source": [
        "print(testX)\n",
        "\n",
        "print(testY)"
      ]
    },
    {
      "cell_type": "code",
      "execution_count": null,
      "metadata": {
        "colab": {
          "base_uri": "https://localhost:8080/"
        },
        "id": "Tu6rFjjn9Lr3",
        "outputId": "b851910c-d67c-4e37-ecdc-6a595024de67"
      },
      "outputs": [
        {
          "output_type": "stream",
          "name": "stdout",
          "text": [
            "trainY:  [0.         0.         0.         ... 0.87092671 0.84666419 0.84927669]\n"
          ]
        }
      ],
      "source": [
        "print(\"trainY: \", trainY)"
      ]
    },
    {
      "cell_type": "code",
      "execution_count": null,
      "metadata": {
        "colab": {
          "base_uri": "https://localhost:8080/"
        },
        "id": "OnVGI8tG9RaR",
        "outputId": "da7a9c93-e101-4a5f-df0b-564020e15eb8"
      },
      "outputs": [
        {
          "output_type": "stream",
          "name": "stdout",
          "text": [
            "trainX:  (4096, 5)\n",
            "trainY:  (4096,)\n",
            "testX:  (55, 5)\n",
            "testY (55,)\n"
          ]
        }
      ],
      "source": [
        "print(\"trainX: \", trainX.shape)\n",
        "print(\"trainY: \", trainY.shape)\n",
        "print(\"testX: \", testX.shape)\n",
        "print(\"testY\", testY.shape)"
      ]
    },
    {
      "cell_type": "code",
      "execution_count": null,
      "metadata": {
        "colab": {
          "base_uri": "https://localhost:8080/"
        },
        "id": "xy9KNCqP9VVf",
        "outputId": "27f492ef-ca3f-4c4e-a806-2e7edaec6959"
      },
      "outputs": [
        {
          "output_type": "stream",
          "name": "stdout",
          "text": [
            "testX:  [[0.31239803 0.29755888 0.45028099 0.36933949 0.44372197]\n",
            " [0.29755888 0.45028099 0.36933949 0.44372197 0.44329552]\n",
            " [0.45028099 0.36933949 0.44372197 0.44329552 0.68005135]\n",
            " [0.36933949 0.44372197 0.44329552 0.68005135 0.63538702]\n",
            " [0.44372197 0.44329552 0.68005135 0.63538702 0.67086261]\n",
            " [0.44329552 0.68005135 0.63538702 0.67086261 0.69899998]\n",
            " [0.68005135 0.63538702 0.67086261 0.69899998 0.82244459]\n",
            " [0.63538702 0.67086261 0.69899998 0.82244459 0.9165489 ]\n",
            " [0.67086261 0.69899998 0.82244459 0.9165489  0.70782452]\n",
            " [0.69899998 0.82244459 0.9165489  0.70782452 0.6250243 ]\n",
            " [0.82244459 0.9165489  0.70782452 0.6250243  0.65846207]\n",
            " [0.9165489  0.70782452 0.6250243  0.65846207 0.63413441]\n",
            " [0.70782452 0.6250243  0.65846207 0.63413441 0.75584971]\n",
            " [0.6250243  0.65846207 0.63413441 0.75584971 0.60591185]\n",
            " [0.65846207 0.63413441 0.75584971 0.60591185 0.50313918]\n",
            " [0.63413441 0.75584971 0.60591185 0.50313918 0.61978287]\n",
            " [0.75584971 0.60591185 0.50313918 0.61978287 0.71179422]\n",
            " [0.60591185 0.50313918 0.61978287 0.71179422 0.6908094 ]\n",
            " [0.50313918 0.61978287 0.71179422 0.6908094  0.66084662]\n",
            " [0.61978287 0.71179422 0.6908094  0.66084662 0.63932505]\n",
            " [0.71179422 0.6908094  0.66084662 0.63932505 0.76584058]\n",
            " [0.6908094  0.66084662 0.63932505 0.76584058 0.74776124]\n",
            " [0.66084662 0.63932505 0.76584058 0.74776124 0.66635178]\n",
            " [0.63932505 0.76584058 0.74776124 0.66635178 0.64241618]\n",
            " [0.76584058 0.74776124 0.66635178 0.64241618 0.67152878]\n",
            " [0.74776124 0.66635178 0.64241618 0.67152878 0.7681678 ]\n",
            " [0.66635178 0.64241618 0.67152878 0.7681678  1.        ]\n",
            " [0.64241618 0.67152878 0.7681678  1.         0.96668181]\n",
            " [0.67152878 0.7681678  1.         0.96668181 0.85570163]\n",
            " [0.7681678  1.         0.96668181 0.85570163 0.84998952]\n",
            " [1.         0.96668181 0.85570163 0.84998952 0.81396789]\n",
            " [0.96668181 0.85570163 0.84998952 0.81396789 0.82773407]\n",
            " [0.85570163 0.84998952 0.81396789 0.82773407 0.88807189]\n",
            " [0.84998952 0.81396789 0.82773407 0.88807189 0.78539314]\n",
            " [0.81396789 0.82773407 0.88807189 0.78539314 0.59337262]\n",
            " [0.82773407 0.88807189 0.78539314 0.59337262 0.6066703 ]\n",
            " [0.88807189 0.78539314 0.59337262 0.6066703  0.41809529]\n",
            " [0.78539314 0.59337262 0.6066703  0.41809529 0.48493916]\n",
            " [0.59337262 0.6066703  0.41809529 0.48493916 0.57441306]\n",
            " [0.6066703  0.41809529 0.48493916 0.57441306 0.51491942]\n",
            " [0.41809529 0.48493916 0.57441306 0.51491942 0.38439432]\n",
            " [0.48493916 0.57441306 0.51491942 0.38439432 0.45461708]\n",
            " [0.57441306 0.51491942 0.38439432 0.45461708 0.43254675]\n",
            " [0.51491942 0.38439432 0.45461708 0.43254675 0.53217751]\n",
            " [0.38439432 0.45461708 0.43254675 0.53217751 0.24662111]\n",
            " [0.45461708 0.43254675 0.53217751 0.24662111 0.30130034]\n",
            " [0.43254675 0.53217751 0.24662111 0.30130034 0.44098359]\n",
            " [0.53217751 0.24662111 0.30130034 0.44098359 0.4694262 ]\n",
            " [0.24662111 0.30130034 0.44098359 0.4694262  0.423008  ]\n",
            " [0.30130034 0.44098359 0.4694262  0.423008   0.43603266]\n",
            " [0.44098359 0.4694262  0.423008   0.43603266 0.39753474]\n",
            " [0.4694262  0.423008   0.43603266 0.39753474 0.24008885]\n",
            " [0.423008   0.43603266 0.39753474 0.24008885 0.        ]\n",
            " [0.43603266 0.39753474 0.24008885 0.         0.0132742 ]\n",
            " [0.39753474 0.24008885 0.         0.0132742  0.07035381]]\n",
            "testY [0.44329552 0.68005135 0.63538702 0.67086261 0.69899998 0.82244459\n",
            " 0.9165489  0.70782452 0.6250243  0.65846207 0.63413441 0.75584971\n",
            " 0.60591185 0.50313918 0.61978287 0.71179422 0.6908094  0.66084662\n",
            " 0.63932505 0.76584058 0.74776124 0.66635178 0.64241618 0.67152878\n",
            " 0.7681678  1.         0.96668181 0.85570163 0.84998952 0.81396789\n",
            " 0.82773407 0.88807189 0.78539314 0.59337262 0.6066703  0.41809529\n",
            " 0.48493916 0.57441306 0.51491942 0.38439432 0.45461708 0.43254675\n",
            " 0.53217751 0.24662111 0.30130034 0.44098359 0.4694262  0.423008\n",
            " 0.43603266 0.39753474 0.24008885 0.         0.0132742  0.07035381\n",
            " 0.07559141]\n"
          ]
        }
      ],
      "source": [
        "print(\"testX: \", testX)\n",
        "print(\"testY\", testY)"
      ]
    },
    {
      "cell_type": "code",
      "execution_count": null,
      "metadata": {
        "colab": {
          "base_uri": "https://localhost:8080/"
        },
        "id": "D5INVrMU9c5v",
        "outputId": "56275e0e-e171-4e25-aed1-db8f7c2b2ed7"
      },
      "outputs": [
        {
          "output_type": "stream",
          "name": "stdout",
          "text": [
            "testY [0.44329552 0.68005135 0.63538702 0.67086261 0.69899998 0.82244459\n",
            " 0.9165489  0.70782452 0.6250243  0.65846207 0.63413441 0.75584971\n",
            " 0.60591185 0.50313918 0.61978287 0.71179422 0.6908094  0.66084662\n",
            " 0.63932505 0.76584058 0.74776124 0.66635178 0.64241618 0.67152878\n",
            " 0.7681678  1.         0.96668181 0.85570163 0.84998952 0.81396789\n",
            " 0.82773407 0.88807189 0.78539314 0.59337262 0.6066703  0.41809529\n",
            " 0.48493916 0.57441306 0.51491942 0.38439432 0.45461708 0.43254675\n",
            " 0.53217751 0.24662111 0.30130034 0.44098359 0.4694262  0.423008\n",
            " 0.43603266 0.39753474 0.24008885 0.         0.0132742  0.07035381\n",
            " 0.07559141]\n"
          ]
        }
      ],
      "source": [
        "print(\"testY\", testY)"
      ]
    },
    {
      "cell_type": "code",
      "execution_count": null,
      "metadata": {
        "colab": {
          "base_uri": "https://localhost:8080/"
        },
        "id": "cu3OK31T_FKz",
        "outputId": "88fce581-a73a-463b-f18f-14e2f4709408"
      },
      "outputs": [
        {
          "output_type": "stream",
          "name": "stdout",
          "text": [
            "(1, 10, 1)\n"
          ]
        }
      ],
      "source": [
        "from numpy import array\n",
        "data = array([0.1, 0.2, 0.3, 0.4, 0.5, 0.6, 0.7, 0.8, 0.9, 1.0])\n",
        "data = data.reshape((1, 10, 1))\n",
        "print(data.shape)"
      ]
    },
    {
      "cell_type": "code",
      "execution_count": null,
      "metadata": {
        "id": "mNCwlT16ZhGG"
      },
      "outputs": [],
      "source": [
        "model = Sequential()\n",
        "model.add(LSTM(32, input_shape=(10, 1)))\n",
        "model.add(Dense(1))"
      ]
    },
    {
      "cell_type": "code",
      "execution_count": null,
      "metadata": {
        "colab": {
          "base_uri": "https://localhost:8080/"
        },
        "id": "WQGxLQ_1ZixI",
        "outputId": "48ffcfeb-ac59-48c0-d449-a527a5ed67c8"
      },
      "outputs": [
        {
          "output_type": "stream",
          "name": "stdout",
          "text": [
            "(4096, 5)\n"
          ]
        }
      ],
      "source": [
        "print(trainX.shape)"
      ]
    },
    {
      "cell_type": "code",
      "execution_count": null,
      "metadata": {
        "colab": {
          "base_uri": "https://localhost:8080/"
        },
        "id": "KTy-ZKg8Zmqq",
        "outputId": "7690d73a-ad4e-48c2-98a6-692f9265a336"
      },
      "outputs": [
        {
          "output_type": "stream",
          "name": "stdout",
          "text": [
            "(4096,)\n"
          ]
        }
      ],
      "source": [
        "print(trainY.shape)"
      ]
    },
    {
      "cell_type": "code",
      "execution_count": null,
      "metadata": {
        "colab": {
          "base_uri": "https://localhost:8080/"
        },
        "id": "wRHRGIlzZ0IF",
        "outputId": "1bc77e10-ac78-477d-f456-bd82d6ee2e2e"
      },
      "outputs": [
        {
          "output_type": "execute_result",
          "data": {
            "text/plain": [
              "4096"
            ]
          },
          "metadata": {},
          "execution_count": 36
        }
      ],
      "source": [
        "trainX.shape[0]"
      ]
    },
    {
      "cell_type": "code",
      "execution_count": null,
      "metadata": {
        "colab": {
          "base_uri": "https://localhost:8080/"
        },
        "id": "xlTRazzWZ7Fo",
        "outputId": "ce94fd17-ad48-439f-f6c6-b8f8336c4d58"
      },
      "outputs": [
        {
          "output_type": "stream",
          "name": "stdout",
          "text": [
            "Shape of trainX:  (4096, 5, 1)\n",
            "Shape of testX:  (55, 5, 1)\n"
          ]
        }
      ],
      "source": [
        "trainX = np.reshape(trainX, (trainX.shape[0], trainX.shape[1], 1))\n",
        "\n",
        "testX = np.reshape(testX, (testX.shape[0], testX.shape[1], 1 ))\n",
        "\n",
        "print(\"Shape of trainX: \", trainX.shape)\n",
        "print(\"Shape of testX: \", testX.shape)"
      ]
    },
    {
      "cell_type": "code",
      "execution_count": null,
      "metadata": {
        "colab": {
          "base_uri": "https://localhost:8080/"
        },
        "id": "Ld8M5WV5ac1A",
        "outputId": "7e5dfc74-3280-4580-afbd-6c629e3c6140"
      },
      "outputs": [
        {
          "output_type": "execute_result",
          "data": {
            "text/plain": [
              "array([[[0.        ],\n",
              "        [0.        ],\n",
              "        [0.        ],\n",
              "        [0.        ],\n",
              "        [0.        ]],\n",
              "\n",
              "       [[0.        ],\n",
              "        [0.        ],\n",
              "        [0.        ],\n",
              "        [0.        ],\n",
              "        [0.        ]],\n",
              "\n",
              "       [[0.        ],\n",
              "        [0.        ],\n",
              "        [0.        ],\n",
              "        [0.        ],\n",
              "        [0.        ]],\n",
              "\n",
              "       ...,\n",
              "\n",
              "       [[0.75802728],\n",
              "        [0.75003132],\n",
              "        [0.75910108],\n",
              "        [0.77502077],\n",
              "        [0.8104067 ]],\n",
              "\n",
              "       [[0.75003132],\n",
              "        [0.75910108],\n",
              "        [0.77502077],\n",
              "        [0.8104067 ],\n",
              "        [0.87092671]],\n",
              "\n",
              "       [[0.75910108],\n",
              "        [0.77502077],\n",
              "        [0.8104067 ],\n",
              "        [0.87092671],\n",
              "        [0.84666419]]])"
            ]
          },
          "metadata": {},
          "execution_count": 35
        }
      ],
      "source": [
        "trainX"
      ]
    },
    {
      "cell_type": "code",
      "execution_count": null,
      "metadata": {
        "colab": {
          "base_uri": "https://localhost:8080/"
        },
        "id": "_57qOh6zbgs6",
        "outputId": "921d6ad9-7e6c-4b40-f654-0e47d2382574"
      },
      "outputs": [
        {
          "output_type": "stream",
          "name": "stdout",
          "text": [
            "Model: \"sequential_1\"\n",
            "_________________________________________________________________\n",
            " Layer (type)                Output Shape              Param #   \n",
            "=================================================================\n",
            " lstm_1 (LSTM)               (None, 5, 128)            66560     \n",
            "                                                                 \n",
            " dropout (Dropout)           (None, 5, 128)            0         \n",
            "                                                                 \n",
            " lstm_2 (LSTM)               (None, 64)                49408     \n",
            "                                                                 \n",
            " dropout_1 (Dropout)         (None, 64)                0         \n",
            "                                                                 \n",
            " dense_1 (Dense)             (None, 1)                 65        \n",
            "                                                                 \n",
            "=================================================================\n",
            "Total params: 116,033\n",
            "Trainable params: 116,033\n",
            "Non-trainable params: 0\n",
            "_________________________________________________________________\n"
          ]
        }
      ],
      "source": [
        "regressor = Sequential()\n",
        "\n",
        "\n",
        "regressor.add(LSTM(units = 128, activation = 'relu',return_sequences=True, input_shape = (trainX.shape[1], trainX.shape[2])))\n",
        "regressor.add(Dropout(0.2))\n",
        "\n",
        "\n",
        "regressor.add(LSTM(units = 64, input_shape = (trainX.shape[1], trainX.shape[2])))\n",
        "\n",
        "regressor.add(Dropout(0.2))\n",
        "\n",
        "regressor.add(Dense(units = 1))\n",
        "\n",
        "regressor.summary()"
      ]
    },
    {
      "cell_type": "code",
      "execution_count": null,
      "metadata": {
        "colab": {
          "base_uri": "https://localhost:8080/"
        },
        "id": "Re7PP98Ub-jc",
        "outputId": "c2487459-fe10-4a9d-8fc9-d2ec2e2a699a"
      },
      "outputs": [
        {
          "output_type": "stream",
          "name": "stdout",
          "text": [
            "Epoch 1/600\n",
            "126/128 [============================>.] - ETA: 0s - loss: 0.0056\n",
            "Epoch 00001: val_loss improved from inf to 0.09358, saving model to my_best_model.hdf5\n",
            "128/128 [==============================] - 7s 25ms/step - loss: 0.0060 - val_loss: 0.0936\n",
            "Epoch 2/600\n",
            "128/128 [==============================] - ETA: 0s - loss: 0.0183\n",
            "Epoch 00002: val_loss improved from 0.09358 to 0.05763, saving model to my_best_model.hdf5\n",
            "128/128 [==============================] - 2s 18ms/step - loss: 0.0183 - val_loss: 0.0576\n",
            "Epoch 3/600\n",
            "125/128 [============================>.] - ETA: 0s - loss: 0.0070\n",
            "Epoch 00003: val_loss improved from 0.05763 to 0.02313, saving model to my_best_model.hdf5\n",
            "128/128 [==============================] - 2s 15ms/step - loss: 0.0072 - val_loss: 0.0231\n",
            "Epoch 4/600\n",
            "126/128 [============================>.] - ETA: 0s - loss: 9.6434e-04\n",
            "Epoch 00004: val_loss did not improve from 0.02313\n",
            "128/128 [==============================] - 2s 15ms/step - loss: 0.0012 - val_loss: 0.0246\n",
            "Epoch 5/600\n",
            "126/128 [============================>.] - ETA: 0s - loss: 6.1364e-04\n",
            "Epoch 00005: val_loss improved from 0.02313 to 0.02231, saving model to my_best_model.hdf5\n",
            "128/128 [==============================] - 2s 16ms/step - loss: 7.4009e-04 - val_loss: 0.0223\n",
            "Epoch 6/600\n",
            "125/128 [============================>.] - ETA: 0s - loss: 4.9784e-04\n",
            "Epoch 00006: val_loss improved from 0.02231 to 0.02189, saving model to my_best_model.hdf5\n",
            "128/128 [==============================] - 2s 15ms/step - loss: 6.0117e-04 - val_loss: 0.0219\n",
            "Epoch 7/600\n",
            "127/128 [============================>.] - ETA: 0s - loss: 6.0390e-04\n",
            "Epoch 00007: val_loss did not improve from 0.02189\n",
            "128/128 [==============================] - 2s 15ms/step - loss: 6.6080e-04 - val_loss: 0.0223\n",
            "Epoch 8/600\n",
            "124/128 [============================>.] - ETA: 0s - loss: 4.6295e-04\n",
            "Epoch 00008: val_loss did not improve from 0.02189\n",
            "128/128 [==============================] - 2s 13ms/step - loss: 6.1981e-04 - val_loss: 0.0221\n",
            "Epoch 9/600\n",
            "128/128 [==============================] - ETA: 0s - loss: 8.6240e-04\n",
            "Epoch 00009: val_loss did not improve from 0.02189\n",
            "128/128 [==============================] - 2s 13ms/step - loss: 8.6240e-04 - val_loss: 0.0221\n",
            "Epoch 10/600\n",
            "128/128 [==============================] - ETA: 0s - loss: 0.0018\n",
            "Epoch 00010: val_loss did not improve from 0.02189\n",
            "128/128 [==============================] - 2s 14ms/step - loss: 0.0018 - val_loss: 0.0274\n",
            "Epoch 11/600\n",
            "127/128 [============================>.] - ETA: 0s - loss: 0.0031\n",
            "Epoch 00011: val_loss did not improve from 0.02189\n",
            "128/128 [==============================] - 2s 13ms/step - loss: 0.0034 - val_loss: 0.0565\n",
            "Epoch 12/600\n",
            "128/128 [==============================] - ETA: 0s - loss: 0.0021\n",
            "Epoch 00012: val_loss did not improve from 0.02189\n",
            "128/128 [==============================] - 2s 12ms/step - loss: 0.0021 - val_loss: 0.0321\n",
            "Epoch 13/600\n",
            "127/128 [============================>.] - ETA: 0s - loss: 0.0013    \n",
            "Epoch 00013: val_loss did not improve from 0.02189\n",
            "128/128 [==============================] - 2s 12ms/step - loss: 0.0014 - val_loss: 0.0306\n",
            "Epoch 14/600\n",
            "128/128 [==============================] - ETA: 0s - loss: 0.0011    \n",
            "Epoch 00014: val_loss did not improve from 0.02189\n",
            "128/128 [==============================] - 2s 12ms/step - loss: 0.0011 - val_loss: 0.0260\n",
            "Epoch 15/600\n",
            "126/128 [============================>.] - ETA: 0s - loss: 0.0010    \n",
            "Epoch 00015: val_loss did not improve from 0.02189\n",
            "128/128 [==============================] - 2s 12ms/step - loss: 0.0012 - val_loss: 0.0273\n",
            "Epoch 16/600\n",
            "125/128 [============================>.] - ETA: 0s - loss: 0.0010    \n",
            "Epoch 00016: val_loss did not improve from 0.02189\n",
            "128/128 [==============================] - 2s 12ms/step - loss: 0.0013 - val_loss: 0.0310\n"
          ]
        }
      ],
      "source": [
        "from tensorflow.keras.callbacks import ModelCheckpoint, EarlyStopping\n",
        "\n",
        "# Compiling the LSTM\n",
        "regressor.compile(optimizer = 'adam', loss = 'mean_squared_error')\n",
        "\n",
        "checkpoint_path = 'my_best_model.hdf5'\n",
        "\n",
        "checkpoint = ModelCheckpoint(filepath=checkpoint_path, \n",
        "                             monitor='val_loss',\n",
        "                             verbose=1, \n",
        "                             save_best_only=True,\n",
        "                             mode='min')\n",
        "\n",
        "\n",
        "earlystopping = EarlyStopping(monitor='val_loss', patience=10, restore_best_weights=True)\n",
        "\n",
        "callbacks = [checkpoint, earlystopping]\n",
        "# callbacks = [checkpoint]\n",
        "\n",
        "\n",
        "history = regressor.fit(trainX, trainY, batch_size = 32, epochs = 600, verbose=1, shuffle=False, validation_data=(testX, testY), callbacks=callbacks)"
      ]
    },
    {
      "cell_type": "code",
      "execution_count": null,
      "metadata": {
        "colab": {
          "base_uri": "https://localhost:8080/",
          "height": 425
        },
        "id": "KGMDhLoSd72N",
        "outputId": "f30f8809-39a3-471f-ab62-705435a744c3"
      },
      "outputs": [
        {
          "output_type": "display_data",
          "data": {
            "image/png": "[encoded data removed]",
            "text/plain": [
              "<Figure size 1152x504 with 1 Axes>"
            ]
          },
          "metadata": {}
        }
      ],
      "source": [
        "plt.figure(figsize=(16,7))\n",
        "plt.plot(history.history['loss'], label='train')\n",
        "\n",
        "plt.plot(history.history['val_loss'], label='test')\n",
        "plt.legend()\n",
        "plt.show()"
      ]
    },
    {
      "cell_type": "code",
      "execution_count": null,
      "metadata": {
        "id": "DHaBFbv2iNH0"
      },
      "outputs": [],
      "source": [
        "\n",
        "from tensorflow.keras.models import load_model\n",
        "\n",
        "model_from_saved_checkpoint = load_model(checkpoint_path)\n",
        "predicted_btc_price_test_data = model_from_saved_checkpoint.predict(testX)\n",
        "\n",
        "predicted_btc_price_test_data = scaler_test.inverse_transform(predicted_btc_price_test_data.reshape(-1, 1))\n",
        "\n",
        "test_actual = scaler_test.inverse_transform(testY.reshape(-1, 1))"
      ]
    },
    {
      "cell_type": "code",
      "execution_count": null,
      "metadata": {
        "colab": {
          "base_uri": "https://localhost:8080/",
          "height": 425
        },
        "id": "hIPwpvStjYLj",
        "outputId": "f1041b2d-9454-484b-bc15-59ae8201bbeb"
      },
      "outputs": [
        {
          "output_type": "display_data",
          "data": {
            "image/png": "[encoded data removed]",
            "text/plain": [
              "<Figure size 1152x504 with 1 Axes>"
            ]
          },
          "metadata": {}
        }
      ],
      "source": [
        "plt.figure(figsize=(16,7))\n",
        "\n",
        "plt.plot(predicted_btc_price_test_data, 'r', marker='.', label='Predicted Test')\n",
        "\n",
        "plt.plot(test_actual, marker='.', label='Actual Test')\n",
        "\n",
        "plt.legend()\n",
        "plt.show()"
      ]
    },
    {
      "cell_type": "code",
      "execution_count": null,
      "metadata": {
        "id": "xQp2AaB8lkRv"
      },
      "outputs": [],
      "source": [
        "predicted_btc_price_train_data = model_from_saved_checkpoint.predict(trainX)\n",
        "\n",
        "predicted_btc_price_train_data = scaler_train.inverse_transform(predicted_btc_price_train_data.reshape(-1, 1))\n",
        "\n",
        "train_actual = scaler_train.inverse_transform(trainY.reshape(-1, 1))"
      ]
    },
    {
      "cell_type": "code",
      "execution_count": null,
      "metadata": {
        "colab": {
          "base_uri": "https://localhost:8080/",
          "height": 425
        },
        "id": "RiuARb-Bln1g",
        "outputId": "613b4bda-e0d8-4fc9-c531-a831420f9e53"
      },
      "outputs": [
        {
          "output_type": "display_data",
          "data": {
            "image/png": "[encoded data removed]",
            "text/plain": [
              "<Figure size 1152x504 with 1 Axes>"
            ]
          },
          "metadata": {}
        }
      ],
      "source": [
        "plt.figure(figsize=(16,7))\n",
        "\n",
        "plt.plot(predicted_btc_price_train_data, 'r', marker='.', label='Predicted Train')\n",
        "\n",
        "plt.plot(train_actual, marker='.', label='Actual Train')\n",
        "\n",
        "plt.legend()\n",
        "plt.show()"
      ]
    },
    {
      "cell_type": "code",
      "execution_count": null,
      "metadata": {
        "colab": {
          "base_uri": "https://localhost:8080/"
        },
        "id": "RZtRqnreWNgO",
        "outputId": "f3f33bf3-42dc-497d-de97-5afa58cbe74b"
      },
      "outputs": [
        {
          "output_type": "execute_result",
          "data": {
            "text/plain": [
              "[array([97.42823374]),\n",
              " array([90.63188681]),\n",
              " array([94.10828492]),\n",
              " array([94.03356332]),\n",
              " array([95.23395656]),\n",
              " array([93.23161637]),\n",
              " array([92.82525872]),\n",
              " array([99.96900102]),\n",
              " array([96.57907726]),\n",
              " array([97.22144732]),\n",
              " array([96.49466923]),\n",
              " array([98.82990782]),\n",
              " array([98.41067133]),\n",
              " array([95.78054667]),\n",
              " array([99.54601031]),\n",
              " array([97.28946403]),\n",
              " array([98.10099955]),\n",
              " array([98.21748778]),\n",
              " array([99.2734386]),\n",
              " array([96.67891694]),\n",
              " array([97.92687515]),\n",
              " array([99.59199665]),\n",
              " array([98.85063792]),\n",
              " array([99.58350293]),\n",
              " array([97.87303168]),\n",
              " array([90.61517761]),\n",
              " array([92.26717473]),\n",
              " array([97.24942839]),\n",
              " array([99.18992776]),\n",
              " array([98.25090975]),\n",
              " array([97.97556126]),\n",
              " array([99.19074963]),\n",
              " array([98.71089599]),\n",
              " array([93.49609744]),\n",
              " array([94.75834155]),\n",
              " array([90.24519174]),\n",
              " array([94.05931387]),\n",
              " array([99.42283633]),\n",
              " array([99.51223057]),\n",
              " array([95.98508569]),\n",
              " array([99.36113648]),\n",
              " array([98.3329618]),\n",
              " array([98.26707396]),\n",
              " array([93.38306756]),\n",
              " array([96.28898627]),\n",
              " array([98.87628592]),\n",
              " array([97.47829571]),\n",
              " array([98.96836001]),\n",
              " array([97.57782119]),\n",
              " array([99.72439239]),\n",
              " array([93.7612717]),\n",
              " array([86.82128059]),\n",
              " array([89.43872941]),\n",
              " array([93.88757617]),\n",
              " array([96.95306835])]"
            ]
          },
          "metadata": {},
          "execution_count": 46
        }
      ],
      "source": [
        "\n",
        "#predicted = []\n",
        "#test=[]\n",
        "#verschil = []\n",
        "\n",
        "#for i in predicted_btc_price_test_data:\n",
        "#  predicted.append(i)\n",
        "#for i in test_actual:\n",
        "#  test.append(i)\n",
        "\n",
        "#for i in range(test_actual.size):\n",
        "#  waarde = ((predicted_btc_price_test_data[i]-test_actual[i])/predicted_btc_price_test_data[i])*100\n",
        "#  if waarde <0:\n",
        "#    resultaat = 100+((predicted_btc_price_test_data[i]-test_actual[i])/predicted_btc_price_test_data[i])*100\n",
        "#  else:\n",
        "#    resultaat = 100-((predicted_btc_price_test_data[i]-test_actual[i])/predicted_btc_price_test_data[i])*100\n",
        "#  verschil.append(resultaat)\n",
        "#verschil\n",
        "\n",
        "\n"
      ]
    },
    {
      "cell_type": "code",
      "execution_count": null,
      "metadata": {
        "colab": {
          "base_uri": "https://localhost:8080/"
        },
        "id": "dOxNyxofh_ve",
        "outputId": "b1696daf-0798-4b6a-a247-04b4ab1bc922"
      },
      "outputs": [
        {
          "output_type": "execute_result",
          "data": {
            "text/plain": [
              "array([96.43199477])"
            ]
          },
          "metadata": {},
          "execution_count": 47
        }
      ],
      "source": [
        "#def Average(vershil):\n",
        " #   return sum(vershil) / len(vershil)\n",
        "#average = Average(verschil)\n",
        "#average"
      ]
    },
    {
      "cell_type": "code",
      "execution_count": null,
      "metadata": {
        "colab": {
          "base_uri": "https://localhost:8080/"
        },
        "id": "mnaUYfx7aA4f",
        "outputId": "e7af23a0-2473-4966-e3f2-4e17a595916f"
      },
      "outputs": [
        {
          "output_type": "execute_result",
          "data": {
            "text/plain": [
              "array([0.1])"
            ]
          },
          "metadata": {},
          "execution_count": 43
        }
      ],
      "source": [
        "train_actual[1]"
      ]
    },
    {
      "cell_type": "code",
      "execution_count": null,
      "metadata": {
        "colab": {
          "base_uri": "https://localhost:8080/"
        },
        "id": "1VjDuwVTaKjo",
        "outputId": "78677235-4150-453d-d488-b5917ac644bc"
      },
      "outputs": [
        {
          "output_type": "execute_result",
          "data": {
            "text/plain": [
              "array([1639.3497], dtype=float32)"
            ]
          },
          "metadata": {},
          "execution_count": 44
        }
      ],
      "source": [
        "predicted_btc_price_train_data[1]"
      ]
    },
    {
      "cell_type": "markdown",
      "metadata": {
        "id": "c7ooUI54mBCT"
      },
      "source": [
        "rmse_lstm_test = math.sqrt(mean_squared_error(test_actual, predicted_btc_price_test_data))\n",
        "\n",
        "print('Test RMSE: %.3f' % rmse_lstm_test)"
      ]
    },
    {
      "cell_type": "code",
      "execution_count": null,
      "metadata": {
        "colab": {
          "base_uri": "https://localhost:8080/"
        },
        "id": "z2NjZ0d3mMeZ",
        "outputId": "2deaee99-e5d1-4880-8825-a9f8a3515d06"
      },
      "outputs": [
        {
          "output_type": "stream",
          "name": "stdout",
          "text": [
            "Train RMSE: 1514.523\n"
          ]
        }
      ],
      "source": [
        "rmse_lstm_train = math.sqrt(mean_squared_error(train_actual, predicted_btc_price_train_data))\n",
        "\n",
        "print('Train RMSE: %.3f' % rmse_lstm_train)"
      ]
    },
    {
      "cell_type": "code",
      "source": [
        "rmse_lstm_test = math.sqrt(mean_squared_error(test_actual, predicted_btc_price_test_data))\n",
        "\n",
        "print('Test RMSE: %.3f' % rmse_lstm_test)"
      ],
      "metadata": {
        "colab": {
          "base_uri": "https://localhost:8080/"
        },
        "id": "VHmS7pEjj2y-",
        "outputId": "6a89e276-17b2-4c63-f206-94102fe9a54a"
      },
      "execution_count": null,
      "outputs": [
        {
          "output_type": "stream",
          "name": "stdout",
          "text": [
            "Test RMSE: 2709.383\n"
          ]
        }
      ]
    },
    {
      "cell_type": "code",
      "execution_count": null,
      "metadata": {
        "colab": {
          "base_uri": "https://localhost:8080/"
        },
        "id": "jSENHUqEqw7I",
        "outputId": "15877604-8d32-494b-c36f-62e324c81b9a"
      },
      "outputs": [
        {
          "output_type": "execute_result",
          "data": {
            "text/plain": [
              "array([[[0.31239803],\n",
              "        [0.29755888],\n",
              "        [0.45028099],\n",
              "        [0.36933949],\n",
              "        [0.44372197]],\n",
              "\n",
              "       [[0.29755888],\n",
              "        [0.45028099],\n",
              "        [0.36933949],\n",
              "        [0.44372197],\n",
              "        [0.44329552]],\n",
              "\n",
              "       [[0.45028099],\n",
              "        [0.36933949],\n",
              "        [0.44372197],\n",
              "        [0.44329552],\n",
              "        [0.68005135]],\n",
              "\n",
              "       [[0.36933949],\n",
              "        [0.44372197],\n",
              "        [0.44329552],\n",
              "        [0.68005135],\n",
              "        [0.63538702]],\n",
              "\n",
              "       [[0.44372197],\n",
              "        [0.44329552],\n",
              "        [0.68005135],\n",
              "        [0.63538702],\n",
              "        [0.67086261]],\n",
              "\n",
              "       [[0.44329552],\n",
              "        [0.68005135],\n",
              "        [0.63538702],\n",
              "        [0.67086261],\n",
              "        [0.69899998]],\n",
              "\n",
              "       [[0.68005135],\n",
              "        [0.63538702],\n",
              "        [0.67086261],\n",
              "        [0.69899998],\n",
              "        [0.82244459]],\n",
              "\n",
              "       [[0.63538702],\n",
              "        [0.67086261],\n",
              "        [0.69899998],\n",
              "        [0.82244459],\n",
              "        [0.9165489 ]],\n",
              "\n",
              "       [[0.67086261],\n",
              "        [0.69899998],\n",
              "        [0.82244459],\n",
              "        [0.9165489 ],\n",
              "        [0.70782452]],\n",
              "\n",
              "       [[0.69899998],\n",
              "        [0.82244459],\n",
              "        [0.9165489 ],\n",
              "        [0.70782452],\n",
              "        [0.6250243 ]],\n",
              "\n",
              "       [[0.82244459],\n",
              "        [0.9165489 ],\n",
              "        [0.70782452],\n",
              "        [0.6250243 ],\n",
              "        [0.65846207]],\n",
              "\n",
              "       [[0.9165489 ],\n",
              "        [0.70782452],\n",
              "        [0.6250243 ],\n",
              "        [0.65846207],\n",
              "        [0.63413441]],\n",
              "\n",
              "       [[0.70782452],\n",
              "        [0.6250243 ],\n",
              "        [0.65846207],\n",
              "        [0.63413441],\n",
              "        [0.75584971]],\n",
              "\n",
              "       [[0.6250243 ],\n",
              "        [0.65846207],\n",
              "        [0.63413441],\n",
              "        [0.75584971],\n",
              "        [0.60591185]],\n",
              "\n",
              "       [[0.65846207],\n",
              "        [0.63413441],\n",
              "        [0.75584971],\n",
              "        [0.60591185],\n",
              "        [0.50313918]],\n",
              "\n",
              "       [[0.63413441],\n",
              "        [0.75584971],\n",
              "        [0.60591185],\n",
              "        [0.50313918],\n",
              "        [0.61978287]],\n",
              "\n",
              "       [[0.75584971],\n",
              "        [0.60591185],\n",
              "        [0.50313918],\n",
              "        [0.61978287],\n",
              "        [0.71179422]],\n",
              "\n",
              "       [[0.60591185],\n",
              "        [0.50313918],\n",
              "        [0.61978287],\n",
              "        [0.71179422],\n",
              "        [0.6908094 ]],\n",
              "\n",
              "       [[0.50313918],\n",
              "        [0.61978287],\n",
              "        [0.71179422],\n",
              "        [0.6908094 ],\n",
              "        [0.66084662]],\n",
              "\n",
              "       [[0.61978287],\n",
              "        [0.71179422],\n",
              "        [0.6908094 ],\n",
              "        [0.66084662],\n",
              "        [0.63932505]],\n",
              "\n",
              "       [[0.71179422],\n",
              "        [0.6908094 ],\n",
              "        [0.66084662],\n",
              "        [0.63932505],\n",
              "        [0.76584058]],\n",
              "\n",
              "       [[0.6908094 ],\n",
              "        [0.66084662],\n",
              "        [0.63932505],\n",
              "        [0.76584058],\n",
              "        [0.74776124]],\n",
              "\n",
              "       [[0.66084662],\n",
              "        [0.63932505],\n",
              "        [0.76584058],\n",
              "        [0.74776124],\n",
              "        [0.66635178]],\n",
              "\n",
              "       [[0.63932505],\n",
              "        [0.76584058],\n",
              "        [0.74776124],\n",
              "        [0.66635178],\n",
              "        [0.64241618]],\n",
              "\n",
              "       [[0.76584058],\n",
              "        [0.74776124],\n",
              "        [0.66635178],\n",
              "        [0.64241618],\n",
              "        [0.67152878]],\n",
              "\n",
              "       [[0.74776124],\n",
              "        [0.66635178],\n",
              "        [0.64241618],\n",
              "        [0.67152878],\n",
              "        [0.7681678 ]],\n",
              "\n",
              "       [[0.66635178],\n",
              "        [0.64241618],\n",
              "        [0.67152878],\n",
              "        [0.7681678 ],\n",
              "        [1.        ]],\n",
              "\n",
              "       [[0.64241618],\n",
              "        [0.67152878],\n",
              "        [0.7681678 ],\n",
              "        [1.        ],\n",
              "        [0.96668181]],\n",
              "\n",
              "       [[0.67152878],\n",
              "        [0.7681678 ],\n",
              "        [1.        ],\n",
              "        [0.96668181],\n",
              "        [0.85570163]],\n",
              "\n",
              "       [[0.7681678 ],\n",
              "        [1.        ],\n",
              "        [0.96668181],\n",
              "        [0.85570163],\n",
              "        [0.84998952]],\n",
              "\n",
              "       [[1.        ],\n",
              "        [0.96668181],\n",
              "        [0.85570163],\n",
              "        [0.84998952],\n",
              "        [0.81396789]],\n",
              "\n",
              "       [[0.96668181],\n",
              "        [0.85570163],\n",
              "        [0.84998952],\n",
              "        [0.81396789],\n",
              "        [0.82773407]],\n",
              "\n",
              "       [[0.85570163],\n",
              "        [0.84998952],\n",
              "        [0.81396789],\n",
              "        [0.82773407],\n",
              "        [0.88807189]],\n",
              "\n",
              "       [[0.84998952],\n",
              "        [0.81396789],\n",
              "        [0.82773407],\n",
              "        [0.88807189],\n",
              "        [0.78539314]],\n",
              "\n",
              "       [[0.81396789],\n",
              "        [0.82773407],\n",
              "        [0.88807189],\n",
              "        [0.78539314],\n",
              "        [0.59337262]],\n",
              "\n",
              "       [[0.82773407],\n",
              "        [0.88807189],\n",
              "        [0.78539314],\n",
              "        [0.59337262],\n",
              "        [0.6066703 ]],\n",
              "\n",
              "       [[0.88807189],\n",
              "        [0.78539314],\n",
              "        [0.59337262],\n",
              "        [0.6066703 ],\n",
              "        [0.41809529]],\n",
              "\n",
              "       [[0.78539314],\n",
              "        [0.59337262],\n",
              "        [0.6066703 ],\n",
              "        [0.41809529],\n",
              "        [0.48493916]],\n",
              "\n",
              "       [[0.59337262],\n",
              "        [0.6066703 ],\n",
              "        [0.41809529],\n",
              "        [0.48493916],\n",
              "        [0.57441306]],\n",
              "\n",
              "       [[0.6066703 ],\n",
              "        [0.41809529],\n",
              "        [0.48493916],\n",
              "        [0.57441306],\n",
              "        [0.51491942]],\n",
              "\n",
              "       [[0.41809529],\n",
              "        [0.48493916],\n",
              "        [0.57441306],\n",
              "        [0.51491942],\n",
              "        [0.38439432]],\n",
              "\n",
              "       [[0.48493916],\n",
              "        [0.57441306],\n",
              "        [0.51491942],\n",
              "        [0.38439432],\n",
              "        [0.45461708]],\n",
              "\n",
              "       [[0.57441306],\n",
              "        [0.51491942],\n",
              "        [0.38439432],\n",
              "        [0.45461708],\n",
              "        [0.43254675]],\n",
              "\n",
              "       [[0.51491942],\n",
              "        [0.38439432],\n",
              "        [0.45461708],\n",
              "        [0.43254675],\n",
              "        [0.53217751]],\n",
              "\n",
              "       [[0.38439432],\n",
              "        [0.45461708],\n",
              "        [0.43254675],\n",
              "        [0.53217751],\n",
              "        [0.24662111]],\n",
              "\n",
              "       [[0.45461708],\n",
              "        [0.43254675],\n",
              "        [0.53217751],\n",
              "        [0.24662111],\n",
              "        [0.30130034]],\n",
              "\n",
              "       [[0.43254675],\n",
              "        [0.53217751],\n",
              "        [0.24662111],\n",
              "        [0.30130034],\n",
              "        [0.44098359]],\n",
              "\n",
              "       [[0.53217751],\n",
              "        [0.24662111],\n",
              "        [0.30130034],\n",
              "        [0.44098359],\n",
              "        [0.4694262 ]],\n",
              "\n",
              "       [[0.24662111],\n",
              "        [0.30130034],\n",
              "        [0.44098359],\n",
              "        [0.4694262 ],\n",
              "        [0.423008  ]],\n",
              "\n",
              "       [[0.30130034],\n",
              "        [0.44098359],\n",
              "        [0.4694262 ],\n",
              "        [0.423008  ],\n",
              "        [0.43603266]],\n",
              "\n",
              "       [[0.44098359],\n",
              "        [0.4694262 ],\n",
              "        [0.423008  ],\n",
              "        [0.43603266],\n",
              "        [0.39753474]],\n",
              "\n",
              "       [[0.4694262 ],\n",
              "        [0.423008  ],\n",
              "        [0.43603266],\n",
              "        [0.39753474],\n",
              "        [0.24008885]],\n",
              "\n",
              "       [[0.423008  ],\n",
              "        [0.43603266],\n",
              "        [0.39753474],\n",
              "        [0.24008885],\n",
              "        [0.        ]],\n",
              "\n",
              "       [[0.43603266],\n",
              "        [0.39753474],\n",
              "        [0.24008885],\n",
              "        [0.        ],\n",
              "        [0.0132742 ]],\n",
              "\n",
              "       [[0.39753474],\n",
              "        [0.24008885],\n",
              "        [0.        ],\n",
              "        [0.0132742 ],\n",
              "        [0.07035381]]])"
            ]
          },
          "metadata": {},
          "execution_count": 47
        }
      ],
      "source": [
        "testX"
      ]
    },
    {
      "cell_type": "code",
      "execution_count": null,
      "metadata": {
        "colab": {
          "base_uri": "https://localhost:8080/"
        },
        "id": "NmxLzThXq73M",
        "outputId": "52b4bcc3-61ba-44ef-ca00-9a8916399a02"
      },
      "outputs": [
        {
          "output_type": "execute_result",
          "data": {
            "text/plain": [
              "(55, 5, 1)"
            ]
          },
          "metadata": {},
          "execution_count": 48
        }
      ],
      "source": [
        "testX.shape"
      ]
    },
    {
      "cell_type": "code",
      "execution_count": null,
      "metadata": {
        "colab": {
          "base_uri": "https://localhost:8080/"
        },
        "id": "QZ2viFibrAC-",
        "outputId": "cc972ffc-8dbe-457c-f757-f734287a9c25"
      },
      "outputs": [
        {
          "output_type": "execute_result",
          "data": {
            "text/plain": [
              "(10, 5, 1)"
            ]
          },
          "metadata": {},
          "execution_count": 49
        }
      ],
      "source": [
        "loopback_period = 10\n",
        "\n",
        "testX_last_10_days = testX[testX.shape[0] - loopback_period : ]\n",
        "\n",
        "testX_last_10_days.shape"
      ]
    },
    {
      "cell_type": "code",
      "execution_count": null,
      "metadata": {
        "colab": {
          "base_uri": "https://localhost:8080/"
        },
        "id": "iqBKU7f3rgDy",
        "outputId": "f0988c23-8c29-48be-8227-8e3b2e508049"
      },
      "outputs": [
        {
          "output_type": "execute_result",
          "data": {
            "text/plain": [
              "array([[[0.45461708],\n",
              "        [0.43254675],\n",
              "        [0.53217751],\n",
              "        [0.24662111],\n",
              "        [0.30130034]],\n",
              "\n",
              "       [[0.43254675],\n",
              "        [0.53217751],\n",
              "        [0.24662111],\n",
              "        [0.30130034],\n",
              "        [0.44098359]],\n",
              "\n",
              "       [[0.53217751],\n",
              "        [0.24662111],\n",
              "        [0.30130034],\n",
              "        [0.44098359],\n",
              "        [0.4694262 ]],\n",
              "\n",
              "       [[0.24662111],\n",
              "        [0.30130034],\n",
              "        [0.44098359],\n",
              "        [0.4694262 ],\n",
              "        [0.423008  ]],\n",
              "\n",
              "       [[0.30130034],\n",
              "        [0.44098359],\n",
              "        [0.4694262 ],\n",
              "        [0.423008  ],\n",
              "        [0.43603266]],\n",
              "\n",
              "       [[0.44098359],\n",
              "        [0.4694262 ],\n",
              "        [0.423008  ],\n",
              "        [0.43603266],\n",
              "        [0.39753474]],\n",
              "\n",
              "       [[0.4694262 ],\n",
              "        [0.423008  ],\n",
              "        [0.43603266],\n",
              "        [0.39753474],\n",
              "        [0.24008885]],\n",
              "\n",
              "       [[0.423008  ],\n",
              "        [0.43603266],\n",
              "        [0.39753474],\n",
              "        [0.24008885],\n",
              "        [0.        ]],\n",
              "\n",
              "       [[0.43603266],\n",
              "        [0.39753474],\n",
              "        [0.24008885],\n",
              "        [0.        ],\n",
              "        [0.0132742 ]],\n",
              "\n",
              "       [[0.39753474],\n",
              "        [0.24008885],\n",
              "        [0.        ],\n",
              "        [0.0132742 ],\n",
              "        [0.07035381]]])"
            ]
          },
          "metadata": {},
          "execution_count": 50
        }
      ],
      "source": [
        "testX_last_10_days"
      ]
    },
    {
      "cell_type": "code",
      "execution_count": null,
      "metadata": {
        "colab": {
          "base_uri": "https://localhost:8080/"
        },
        "id": "mT_J8VeVri9_",
        "outputId": "338226c9-aa88-4f43-df2b-fa2121f9ae02"
      },
      "outputs": [
        {
          "output_type": "stream",
          "name": "stdout",
          "text": [
            "Forecast for the next 10 Days Beyond the actual trading days  [[[56493.87 ]]\n",
            "\n",
            " [[56245.61 ]]\n",
            "\n",
            " [[56286.707]]\n",
            "\n",
            " [[55906.367]]\n",
            "\n",
            " [[56661.99 ]]\n",
            "\n",
            " [[57108.14 ]]\n",
            "\n",
            " [[56552.918]]\n",
            "\n",
            " [[55086.266]]\n",
            "\n",
            " [[53493.945]]\n",
            "\n",
            " [[51916.855]]]\n"
          ]
        }
      ],
      "source": [
        " predicted_10_days_forecast_price_test_x = []\n",
        "\n",
        "for i in range(10):  \n",
        "  predicted_forecast_price_test_x = model_from_saved_checkpoint.predict(testX_last_10_days[i:i+1])\n",
        "  \n",
        "  predicted_forecast_price_test_x = scaler_test.inverse_transform(predicted_forecast_price_test_x.reshape(-1, 1))\n",
        "  # print(predicted_forecast_price_test_x)\n",
        "  predicted_10_days_forecast_price_test_x.append(predicted_forecast_price_test_x)\n",
        "  \n",
        "print(\"Forecast for the next 10 Days Beyond the actual trading days \", np.array(predicted_10_days_forecast_price_test_x)) "
      ]
    },
    {
      "cell_type": "code",
      "execution_count": null,
      "metadata": {
        "colab": {
          "base_uri": "https://localhost:8080/"
        },
        "id": "yZRGhdJKsjm8",
        "outputId": "90ceb8ec-2a2f-456e-cce5-de9fcc8a464f"
      },
      "outputs": [
        {
          "output_type": "execute_result",
          "data": {
            "text/plain": [
              "(10, 1, 1)"
            ]
          },
          "metadata": {},
          "execution_count": 52
        }
      ],
      "source": [
        "predicted_10_days_forecast_price_test_x = np.array(predicted_10_days_forecast_price_test_x)\n",
        "\n",
        "predicted_10_days_forecast_price_test_x.shape"
      ]
    },
    {
      "cell_type": "code",
      "execution_count": null,
      "metadata": {
        "colab": {
          "base_uri": "https://localhost:8080/"
        },
        "id": "KYdKhvurslVj",
        "outputId": "b14c4a17-3128-4c73-a10c-f690519c5340"
      },
      "outputs": [
        {
          "output_type": "execute_result",
          "data": {
            "text/plain": [
              "(55, 1)"
            ]
          },
          "metadata": {},
          "execution_count": 53
        }
      ],
      "source": [
        "predicted_btc_price_test_data.shape"
      ]
    },
    {
      "cell_type": "code",
      "execution_count": null,
      "metadata": {
        "colab": {
          "base_uri": "https://localhost:8080/"
        },
        "id": "Sb7xjG8GsnM6",
        "outputId": "0142ff07-9088-4f78-b9e8-0c645380605b"
      },
      "outputs": [
        {
          "output_type": "execute_result",
          "data": {
            "text/plain": [
              "array([[55901.133],\n",
              "       [56392.984],\n",
              "       [57486.977],\n",
              "       [58143.496],\n",
              "       [59278.906],\n",
              "       [60239.79 ],\n",
              "       [61521.723],\n",
              "       [62213.203],\n",
              "       [62766.934],\n",
              "       [62843.688],\n",
              "       [62731.445],\n",
              "       [62018.84 ],\n",
              "       [61173.07 ],\n",
              "       [60944.152],\n",
              "       [60693.113],\n",
              "       [60450.055],\n",
              "       [60547.582],\n",
              "       [60237.246],\n",
              "       [60507.43 ],\n",
              "       [61113.25 ],\n",
              "       [61501.383],\n",
              "       [61596.01 ],\n",
              "       [61625.71 ],\n",
              "       [61648.23 ],\n",
              "       [61761.16 ],\n",
              "       [61592.07 ],\n",
              "       [62126.93 ],\n",
              "       [63203.266],\n",
              "       [64225.113],\n",
              "       [65031.457],\n",
              "       [65305.15 ],\n",
              "       [64620.7  ],\n",
              "       [64203.867],\n",
              "       [64054.258],\n",
              "       [63388.934],\n",
              "       [62699.234],\n",
              "       [61364.86 ],\n",
              "       [59794.184],\n",
              "       [58804.99 ],\n",
              "       [58534.074],\n",
              "       [57874.164],\n",
              "       [58001.023],\n",
              "       [57808.844],\n",
              "       [57480.336],\n",
              "       [56787.586],\n",
              "       [56493.87 ],\n",
              "       [56245.61 ],\n",
              "       [56286.707],\n",
              "       [55906.367],\n",
              "       [56661.992],\n",
              "       [57108.14 ],\n",
              "       [56552.918],\n",
              "       [55086.266],\n",
              "       [53493.945],\n",
              "       [51916.855]], dtype=float32)"
            ]
          },
          "metadata": {},
          "execution_count": 54
        }
      ],
      "source": [
        "predicted_btc_price_test_data"
      ]
    },
    {
      "cell_type": "code",
      "execution_count": null,
      "metadata": {
        "colab": {
          "base_uri": "https://localhost:8080/"
        },
        "id": "sgOFDv8essXT",
        "outputId": "aef8b634-a669-4e48-df11-0d59555d1aca"
      },
      "outputs": [
        {
          "output_type": "execute_result",
          "data": {
            "text/plain": [
              "array([[[56493.87 ]],\n",
              "\n",
              "       [[56245.61 ]],\n",
              "\n",
              "       [[56286.707]],\n",
              "\n",
              "       [[55906.367]],\n",
              "\n",
              "       [[56661.99 ]],\n",
              "\n",
              "       [[57108.14 ]],\n",
              "\n",
              "       [[56552.918]],\n",
              "\n",
              "       [[55086.266]],\n",
              "\n",
              "       [[53493.945]],\n",
              "\n",
              "       [[51916.855]]], dtype=float32)"
            ]
          },
          "metadata": {},
          "execution_count": 55
        }
      ],
      "source": [
        "predicted_10_days_forecast_price_test_x"
      ]
    },
    {
      "cell_type": "code",
      "execution_count": null,
      "metadata": {
        "colab": {
          "base_uri": "https://localhost:8080/"
        },
        "id": "mnjenPdwsuOo",
        "outputId": "d1fbee5a-2a27-4626-b905-9ec95a7e9595"
      },
      "outputs": [
        {
          "output_type": "execute_result",
          "data": {
            "text/plain": [
              "array([56493.87 , 56245.61 , 56286.707, 55906.367, 56661.99 , 57108.14 ,\n",
              "       56552.918, 55086.266, 53493.945, 51916.855], dtype=float32)"
            ]
          },
          "metadata": {},
          "execution_count": 56
        }
      ],
      "source": [
        "predicted_10_days_forecast_price_test_x = predicted_10_days_forecast_price_test_x.flatten()\n",
        "\n",
        "predicted_10_days_forecast_price_test_x"
      ]
    },
    {
      "cell_type": "code",
      "execution_count": null,
      "metadata": {
        "colab": {
          "base_uri": "https://localhost:8080/"
        },
        "id": "nnPFEufWsw7l",
        "outputId": "e1ddc516-9767-46e0-e15f-563931aedb2d"
      },
      "outputs": [
        {
          "output_type": "execute_result",
          "data": {
            "text/plain": [
              "array([55901.133, 56392.984, 57486.977, 58143.496, 59278.906, 60239.79 ,\n",
              "       61521.723, 62213.203, 62766.934, 62843.688, 62731.445, 62018.84 ,\n",
              "       61173.07 , 60944.152, 60693.113, 60450.055, 60547.582, 60237.246,\n",
              "       60507.43 , 61113.25 , 61501.383, 61596.01 , 61625.71 , 61648.23 ,\n",
              "       61761.16 , 61592.07 , 62126.93 , 63203.266, 64225.113, 65031.457,\n",
              "       65305.15 , 64620.7  , 64203.867, 64054.258, 63388.934, 62699.234,\n",
              "       61364.86 , 59794.184, 58804.99 , 58534.074, 57874.164, 58001.023,\n",
              "       57808.844, 57480.336, 56787.586, 56493.87 , 56245.61 , 56286.707,\n",
              "       55906.367, 56661.992, 57108.14 , 56552.918, 55086.266, 53493.945,\n",
              "       51916.855], dtype=float32)"
            ]
          },
          "metadata": {},
          "execution_count": 57
        }
      ],
      "source": [
        "predicted_btc_price_test_data = predicted_btc_price_test_data.flatten()\n",
        "\n",
        "predicted_btc_price_test_data"
      ]
    },
    {
      "cell_type": "code",
      "execution_count": null,
      "metadata": {
        "colab": {
          "base_uri": "https://localhost:8080/"
        },
        "id": "Kar_7NC0s0KH",
        "outputId": "c9e5e178-48c4-4b51-d220-e75db254efbb"
      },
      "outputs": [
        {
          "output_type": "execute_result",
          "data": {
            "text/plain": [
              "(65,)"
            ]
          },
          "metadata": {},
          "execution_count": 58
        }
      ],
      "source": [
        "predicted_btc_test_concatenated = np.concatenate((predicted_btc_price_test_data, predicted_10_days_forecast_price_test_x))\n",
        "\n",
        "predicted_btc_test_concatenated\n",
        "\n",
        "predicted_btc_test_concatenated.shape"
      ]
    },
    {
      "cell_type": "code",
      "execution_count": null,
      "metadata": {
        "colab": {
          "base_uri": "https://localhost:8080/",
          "height": 418
        },
        "id": "OkXNoKGMs2wI",
        "outputId": "a134ac0f-fba3-4a91-d7a8-be4dcdb044c9"
      },
      "outputs": [
        {
          "output_type": "display_data",
          "data": {
            "image/png": "[encoded data removed]",
            "text/plain": [
              "<Figure size 1800x504 with 1 Axes>"
            ]
          },
          "metadata": {}
        }
      ],
      "source": [
        "plt.figure(figsize=(25,7))\n",
        "\n",
        "plt.plot(predicted_btc_test_concatenated, 'r', marker='.', label='Predicted Test')\n",
        "\n",
        "plt.plot(test_actual, marker='.', label='Actual Test')\n",
        "\n",
        "plt.legend()\n",
        "\n",
        "plt.show()"
      ]
    }
  ],
  "metadata": {
    "colab": {
      "collapsed_sections": [],
      "name": "Price_Prediction_Bitcoin.ipynb",
      "provenance": []
    },
    "kernelspec": {
      "display_name": "Python 3",
      "name": "python3"
    },
    "language_info": {
      "name": "python"
    }
  },
  "nbformat": 4,
  "nbformat_minor": 0
}